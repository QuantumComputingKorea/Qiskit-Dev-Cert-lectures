{
 "cells": [
  {
   "cell_type": "markdown",
   "id": "913ce763",
   "metadata": {},
   "source": [
    "# Lecture 1 - 게이트와 양자 회로\n",
    "# 1-0 단일 큐비트 게이트\n",
    "## 1. 파울리 게이트 (Pauli Gates)\n",
    "### 파울리-X 게이트\n",
    "파울리-X 게이트는 고전 회로에서 NOT gate와 유사한 특성을 나타내고 있으며 bit-flip 게이트라고도 알려져있습니다. 파울리-X 게이트는 $|0\\rangle$ 상태인 큐비트를 $|1\\rangle$로 만들며 반대로 $|1\\rangle$인 상태인 큐비트를 $|0\\rangle$로 만듭니다. 파울리-X 게이트의 수학적 표현은 아래와 같습니다.\n",
    "\n",
    "$$ X = \\begin{bmatrix} 0 & 1 \\\\ 1 & 0 \\end{bmatrix} = |0\\rangle\\langle1| + |1\\rangle\\langle0| $$\n",
    "\n",
    "#### 코드 구현\n",
    "##### $|0\\rangle$의 상태인 큐비트를 $|1\\rangle$로 만들기\n",
    "시작하기에 앞서 코드에 관한 내용은 추후 장에서 자세히 설명합니다. 이번 장에서는 게이트의 사용과 양자 회로의 output으로부터 개념을 이해해봅시다.\n",
    "\n",
    "게이트와 양자회로를 그리기 위해 Python 라이브러리인 Qiskit을 불러오겠습니다\n"
   ]
  },
  {
   "cell_type": "code",
   "execution_count": null,
   "id": "b4b8cde0",
   "metadata": {},
   "outputs": [],
   "source": [
    "from qiskit import * #qiskit 전체 라이브러리 불러오기\n",
    "from qiskit.providers.aer import StatevectorSimulator #StatevectorSimulator를 사용하여 양자회로의 최종 양자 statevector을 구할수 있음\n",
    "from math import pi, sqrt #math 라이브러리에서 pi와 sqrt 불러오기\n",
    "from qiskit.visualization import * #양자상태를 시각화 하기 위해 qiskit.visualization 불러오기\n",
    "from qiskit.quantum_info import Statevector"
   ]
  },
  {
   "cell_type": "markdown",
   "id": "fd049b81",
   "metadata": {},
   "source": [
    "Qiskit을 이용해 하나의 상태가 $|0\\rangle$인 큐비트를 만들어 보겠습니다."
   ]
  },
  {
   "cell_type": "code",
   "execution_count": null,
   "id": "d4de142f",
   "metadata": {},
   "outputs": [],
   "source": [
    "qc1 = QuantumCircuit(1) #큐비트 1개인 양자회로 만들기\n",
    "qc1.draw(output=\"mpl\") #위에서 그린 양자회로를 시각화하여 그리기 (mpl은 matplotlib의 약자임)"
   ]
  },
  {
   "cell_type": "markdown",
   "id": "cf548c2f",
   "metadata": {},
   "source": [
    "블로흐 구를 그려 양자 회로의 최종 양자의 상태를 시각화 합니다"
   ]
  },
  {
   "cell_type": "code",
   "execution_count": null,
   "id": "0b7a5fd5",
   "metadata": {},
   "outputs": [],
   "source": [
    "state0 = execute(qc1, StatevectorSimulator()).result().get_statevector() # 시뮬레이션에 양자회로를 넣어 실행시키기\n",
    "plot_bloch_multivector(state0) # 블로흐 구 그리기"
   ]
  },
  {
   "cell_type": "markdown",
   "id": "db9c9b47",
   "metadata": {},
   "source": [
    "위에 있는 블로흐 구를 보면 블루흐 구의 화살표가 $|0\\rangle$를 정확히 가르키고 있으며 어떠한 게이트도 큐비트에 가해지지 않았기에 최종 상태가 $|0\\rangle$이라는것을 확인할 수 있습니다.\n",
    "\n",
    "게이트가 없는 큐비트의 상태를 확인했으니 이제는 X 게이트를 기존에 있는 양자 회로에 추가해보겠습니다."
   ]
  },
  {
   "cell_type": "code",
   "execution_count": null,
   "id": "3861ff9d",
   "metadata": {},
   "outputs": [],
   "source": [
    "qc1.x(0) #X 게이트를 큐비트0에 추가하기\n",
    "qc1.draw(output=\"mpl\") #양자회로 그리기"
   ]
  },
  {
   "cell_type": "markdown",
   "id": "7be6ca33",
   "metadata": {},
   "source": [
    "블로흐 구를 그려 X-게이트가 기존 블로흐 구를 어떻게 변화시켰는지 확인해봅시다"
   ]
  },
  {
   "cell_type": "code",
   "execution_count": null,
   "id": "d8a6f3de",
   "metadata": {},
   "outputs": [],
   "source": [
    "state1 = execute(qc1, StatevectorSimulator()).result().get_statevector() # 시뮬레이션에 양자회로를 넣어 실행시키기\n",
    "plot_bloch_multivector(state1) # 블로흐 구 그리기"
   ]
  },
  {
   "cell_type": "code",
   "execution_count": null,
   "id": "184d2d6b",
   "metadata": {},
   "outputs": [],
   "source": [
    "visualize_transition(qc1) # 블로흐 구 애니메이션 만들기"
   ]
  },
  {
   "cell_type": "markdown",
   "id": "c7cabb84",
   "metadata": {},
   "source": [
    "예상과 같이 블루흐 구에서 화살표가 정확히 $|1\\rangle$을 가르키고 있으며 최종 상태가 $|1\\rangle$ 이라는것을 확인할 수 있습니다. 블로흐 구의 변화를 보게 되면 X-게이트로 인해 x축을 기준으로 $\\pi$ 라디안 만큼 회전한것을 볼 수 있습니다.\n",
    "\n",
    "##### $|1\\rangle$의 상태인 큐비트를 $|0\\rangle$로 만들기\n",
    "그러면 다시 상태가 $|1\\rangle$인 큐비트를 X-gate를 이용하여 $|0\\rangle$로 전환해봅시다.\n",
    "\n",
    "X-게이트를 양자회로에 하나더 추가합니다"
   ]
  },
  {
   "cell_type": "code",
   "execution_count": null,
   "id": "694b5b53",
   "metadata": {},
   "outputs": [],
   "source": [
    "qc1.x(0) #X 게이트를 큐비트0에 추가하기\n",
    "qc1.draw(output=\"mpl\") #양자회로 그리기"
   ]
  },
  {
   "cell_type": "markdown",
   "id": "4f9e000c",
   "metadata": {},
   "source": [
    "블로흐 구를 그려 X-게이트가 또 다시 블로흐 구를 어떻게 변화시켰는지 확인해봅시다"
   ]
  },
  {
   "cell_type": "code",
   "execution_count": null,
   "id": "6729fa35",
   "metadata": {},
   "outputs": [],
   "source": [
    "state2 = execute(qc1, StatevectorSimulator()).result().get_statevector() # 시뮬레이션에 양자회로를 넣어 실행시키기\n",
    "plot_bloch_multivector(state2) # 블로흐 구 그리기"
   ]
  },
  {
   "cell_type": "code",
   "execution_count": null,
   "id": "c2994306",
   "metadata": {},
   "outputs": [],
   "source": [
    "visualize_transition(qc1) # 블로흐 구 애니메이션 만들기"
   ]
  },
  {
   "cell_type": "markdown",
   "id": "1953e544",
   "metadata": {},
   "source": [
    "블로흐 구를 보게 되면 $|1\\rangle$이였던 상태가 다시 X-게이트로 인해 $|0\\rangle$로 돌아간것을 확인할 수 있습니다.\n",
    "\n",
    "##### 수학적 표현\n",
    "X-게이트로 인한 큐비트의 상태 변환은 아래와 같습니다.\n",
    "\n",
    "###### X-게이트를 사용하여 큐비트의 상태 변환 $|0\\rangle$ -> $|1\\rangle$\n",
    "$$ X|0\\rangle = \\begin{bmatrix} 0 & 1 \\\\ 1 & 0 \\end{bmatrix}\\begin{bmatrix} 1 \\\\ 0 \\end{bmatrix} = \\begin{bmatrix} 0 \\\\ 1 \\end{bmatrix} = |1\\rangle$$\n",
    "\n",
    "###### X-게이트를 사용하여 큐비트의 상태 변환 $|1\\rangle$ -> $|0\\rangle$\n",
    "$$ X|1\\rangle = \\begin{bmatrix} 0 & 1 \\\\ 1 & 0 \\end{bmatrix}\\begin{bmatrix} 0 \\\\ 1 \\end{bmatrix} = \\begin{bmatrix} 1 \\\\ 0 \\end{bmatrix} = |0\\rangle$$"
   ]
  },
  {
   "cell_type": "markdown",
   "id": "50c2eccc",
   "metadata": {},
   "source": [
    "### 파울리-Y 게이트\n",
    "파울리-Y 게이트는 bit-flip를 하고 phase-flip하는 게이트라고도 알려져있습니다. 파울리-Y 게이트는 X-게이트와 같이 $|0\\rangle$ 상태인 큐비트를 $|1\\rangle$로 만들며 반대로 $|1\\rangle$인 상태인 큐비트를 $|0\\rangle$로 만들며 동시에 상대적으로 위상을 반전시킵니다. 파울리-Y 게이트의 수학적 표현은 아래와 같습니다.\n",
    "\n",
    "$$ Y = \\begin{bmatrix} 0 & -i \\\\ i & 0 \\end{bmatrix} = -i|0\\rangle\\langle1| + i|1\\rangle\\langle0| $$\n",
    "\n",
    "#### 코드 구현\n",
    "##### $|0\\rangle$의 상태인 큐비트를 $|1\\rangle$로 만들고 위상전환 하기\n",
    "\n",
    "우선 큐비트 1개를 만들고 Y-게이트를 양자회로에 추가합니다."
   ]
  },
  {
   "cell_type": "code",
   "execution_count": null,
   "id": "525bcae8",
   "metadata": {},
   "outputs": [],
   "source": [
    "qc2 = QuantumCircuit(1) #큐비트 1개인 양자회로 만들기\n",
    "qc2.y(0) #Y 게이트를 큐비트0에 추가하기\n",
    "qc2.draw('mpl') #양자회로 그리기"
   ]
  },
  {
   "cell_type": "code",
   "execution_count": null,
   "id": "3f2cd771",
   "metadata": {},
   "outputs": [],
   "source": [
    "state3 = execute(qc2, StatevectorSimulator()).result().get_statevector() # 시뮬레이션에 양자회로를 넣어 실행시키기\n",
    "plot_bloch_multivector(state3) # 블로흐 구 그리기"
   ]
  },
  {
   "cell_type": "code",
   "execution_count": null,
   "id": "bab6de30",
   "metadata": {},
   "outputs": [],
   "source": [
    "visualize_transition(qc2) # 블로흐 구 애니메이션 만들기"
   ]
  },
  {
   "cell_type": "markdown",
   "id": "36698a11",
   "metadata": {},
   "source": [
    "예상과 같이 블루흐 구에서 화살표가 정확히 $|1\\rangle$을 가르키고 있으며 최종 상태가 $|1\\rangle$ 이라는것을 확인할 수 있습니다. 블로흐 구의 변화를 보게 되면 Y-게이트로 인해 X축을 기준으로 $\\pi$ 라디안 만큼 회전한것을 볼 수 있습니다. 하지만 블로흐 구만 보고서는 위상이 전환이 됬는지 확인 할 수 없습니다. 아래에는 q-sphere이라고 불리는 위상과 큐비트의 상태를 확인 할 수 있는 시각화를 사용하였습니다.\n",
    "###### Y-게이트로 인한 큐비트의 상태와 이상전환\n",
    "[![y-gate1](./figure/q-sphere_y-gate.png)](https://quantum-computing.ibm.com/composer/files/eb75c69ba2f0dc171e47f3af060c3513)"
   ]
  },
  {
   "cell_type": "markdown",
   "id": "24bfc4a7",
   "metadata": {},
   "source": [
    "위에 있는 q-sphere 그림을 보면 큐비트의 상태가 $|1\\rangle$를 나타내고 있지만 동시에 위상이 $\\pi/2$인 상태를 확인 할 수 있습니다. 아래의 그림을 보게 되면 X-gate와 Y-gate로 인한 큐비트의 상태와 위상의 변환을 확인해볼 수 있습니다. X-게이트로 인해서는 위상이 변화하지 않았고 Y-gate를 통해서는 위상이 $\\pi/2$ 만큼 변화했습니다\n",
    "\n",
    "![x-gate_y-gate](./figure/x-gate_y-gate_q-sphere.png)\n",
    "\n",
    "##### $|1\\rangle$의 상태인 큐비트를 $|0\\rangle$로 만들고 위상전환 하기\n",
    "\n",
    "우선 큐비트 1개를 만들고 X-게이트로 초기 상태를 $|1\\rangle$로 설정해주며 Y-게이트를 양자회로에 추가합니다."
   ]
  },
  {
   "cell_type": "code",
   "execution_count": null,
   "id": "b15c562b",
   "metadata": {},
   "outputs": [],
   "source": [
    "qc2 = QuantumCircuit(1) #큐비트 1개인 양자회로 만들기\n",
    "qc2.x(0) #X 게이트를 큐비트0에 추가하여 큐비트의 초기 상태를 |1>로 설정하기\n",
    "qc2.y(0) #Y 게이트를 큐비트0에 추가하기\n",
    "qc2.draw('mpl') #양자회로 그리기"
   ]
  },
  {
   "cell_type": "code",
   "execution_count": null,
   "id": "ba6e4220",
   "metadata": {},
   "outputs": [],
   "source": [
    "state4 = execute(qc2, StatevectorSimulator()).result().get_statevector() # 시뮬레이션에 양자회로를 넣어 실행시키기\n",
    "plot_bloch_multivector(state4) # 블로흐 구 그리기"
   ]
  },
  {
   "cell_type": "code",
   "execution_count": null,
   "id": "4ae6a1ae",
   "metadata": {},
   "outputs": [],
   "source": [
    "visualize_transition(qc2) # 블로흐 구 애니메이션 만들기"
   ]
  },
  {
   "cell_type": "markdown",
   "id": "da86d4a9",
   "metadata": {},
   "source": [
    "결과를 통하여 $|1\\rangle$이였던 큐비트의 상태가 다시 $|0\\rangle$로 Y-게이트로 통하여 돌아온것을 확인할 수 있습니다. 이번에도 q-spehre을 통하여 위상은 어떻게 변하였는지 확인해봅시다\n",
    "\n",
    "![y-gate2](figure/q-sphere_y-gate_from_state_1.png)\n",
    "\n",
    "이번 q-sphere을 보면 위상이 $3\\pi/2$인것을 확인할 수 있습니다. Y-게이트의 수학적 표현을 보면 알겠지만 $|1\\rangle$상태의 큐비트에서 Y-게이트가 가해지면 위상전환이 반대 방향으로 이루어집니다.\n",
    "\n",
    "##### 수학적 표현\n",
    "Y-게이트로 인한 큐비트의 상태 변환은 아래와 같습니다.\n",
    "\n",
    "###### Y-게이트를 사용하여 큐비트의 상태와 위상 변환 $|0\\rangle$ -> $i|1\\rangle$\n",
    "$$ Y|0\\rangle = \\begin{bmatrix} 0 & -i \\\\ i & 0 \\end{bmatrix}\\begin{bmatrix} 1 \\\\ 0 \\end{bmatrix} = \\begin{bmatrix} 0 \\\\ i \\end{bmatrix} = i|1\\rangle$$\n",
    "\n",
    "###### Y-게이트를 사용하여 큐비트의 상태와 위상 변환 $|1\\rangle$ -> $-i|0\\rangle$\n",
    "$$ Y|1\\rangle = \\begin{bmatrix} 0 & -i \\\\ i & 0 \\end{bmatrix}\\begin{bmatrix} 0 \\\\ 1 \\end{bmatrix} = \\begin{bmatrix} -i \\\\ 0 \\end{bmatrix} = -i|0\\rangle$$\n",
    "\n",
    "### 파울리-Z 게이트\n",
    "파울리-Y 게이트는 phase-flip하는 게이트라고도 알려져있습니다. 파울리-Z 게이트는 X-게이트나 Y-게이트와 다르게 $|0\\rangle$ 상태인 큐비트를 $|0\\rangle$으로 유지하며 $|1\\rangle$인 상태인 큐비트 또한 $|1\\rangle$로 유지합니다. 하지만 특별한 상태에서는 동시에 상대적으로 위상을 반전시킵니다. 파울리-Z 게이트의 수학적 표현은 아래와 같습니다.\n",
    "\n",
    "$$ Z = \\begin{bmatrix} 1 & 0 \\\\ 0 & -1 \\end{bmatrix} = |0\\rangle\\langle0| - |1\\rangle\\langle1| $$\n",
    "\n",
    "#### 코드 구현\n",
    "##### $|0\\rangle$의 상태인 큐비트에 Z-게이트 추가하기\n",
    "\n",
    "우선 큐비트 1개를 만들고 Z-게이트를 양자회로에 추가합니다."
   ]
  },
  {
   "cell_type": "code",
   "execution_count": null,
   "id": "8533ad96",
   "metadata": {},
   "outputs": [],
   "source": [
    "qc3 = QuantumCircuit(1) #큐비트 1개인 양자회로 만들기\n",
    "qc3.z(0) #Z 게이트를 큐비트0에 추가하기\n",
    "qc3.draw('mpl') #양자회로 그리기"
   ]
  },
  {
   "cell_type": "code",
   "execution_count": null,
   "id": "3ba338ab",
   "metadata": {},
   "outputs": [],
   "source": [
    "state5 = execute(qc3, StatevectorSimulator()).result().get_statevector() # 시뮬레이션에 양자회로를 넣어 실행시키기\n",
    "plot_bloch_multivector(state5) # 블로흐 구 그리기"
   ]
  },
  {
   "cell_type": "code",
   "execution_count": null,
   "id": "cc562d62",
   "metadata": {},
   "outputs": [],
   "source": [
    "visualize_transition(qc3) # 블로흐 구 애니메이션 만들기"
   ]
  },
  {
   "cell_type": "markdown",
   "id": "c05da55f",
   "metadata": {},
   "source": [
    "###### Z-게이트로 인한 $|0\\rangle$상태의 큐비트 [Q-sphere]\n",
    "\n",
    "[![z-gate1](./figure/q-sphere_z-gate.png)](https://quantum-computing.ibm.com/composer/files/32d4d066e78e5e9bf0715dca507ad263)\n",
    "\n",
    "블루흐 구에서 화살표가 정확히 $|0\\rangle$을 가르키고 있으며 최종 상태가 $|0\\rangle$이라는것을 확인할 수 있습니다. 수학적으로 Z-게이트로 인해 Z축을 기준으로 $\\pi$ 라디안 만큼 회전합니다. 또한 q-sphere을 통해서 보았을때 위상에 대한 변화도 없는것을 확인할 수 있습니다."
   ]
  },
  {
   "cell_type": "markdown",
   "id": "12a48c6c",
   "metadata": {},
   "source": [
    "##### $|1\\rangle$의 상태인 큐비트에 Z-게이트 추가하기\n",
    "\n",
    "우선 큐비트 1개를 만들고 X-게이트로 초기 큐비트의 상태를 $|1\\rangle$로 만들어주며 Z-게이트를 양자회로에 추가합니다."
   ]
  },
  {
   "cell_type": "code",
   "execution_count": null,
   "id": "30595701",
   "metadata": {},
   "outputs": [],
   "source": [
    "qc3 = QuantumCircuit(1) #큐비트 1개인 양자회로 만들기\n",
    "qc3.x(0) #X 게이트를 큐비트0에 추가하여 |1>상태로 만들기\n",
    "qc3.z(0) #Z 게이트를 큐비트0에 추가하기\n",
    "qc3.draw('mpl') #양자회로 그리기"
   ]
  },
  {
   "cell_type": "code",
   "execution_count": null,
   "id": "d5445a9c",
   "metadata": {},
   "outputs": [],
   "source": [
    "state6 = execute(qc3, StatevectorSimulator()).result().get_statevector() # 시뮬레이션에 양자회로를 넣어 실행시키기\n",
    "plot_bloch_multivector(state6) # 블로흐 구 그리기"
   ]
  },
  {
   "cell_type": "code",
   "execution_count": null,
   "id": "f6fc3156",
   "metadata": {},
   "outputs": [],
   "source": [
    "visualize_transition(qc3) # 블로흐 구 애니메이션 만들기"
   ]
  },
  {
   "cell_type": "markdown",
   "id": "6cc79ccf",
   "metadata": {},
   "source": [
    "###### Z-게이트로 인한 $|1\\rangle$상태의 큐비트 [Q-sphere]\n",
    "\n",
    "[![z-gate2](./figure/q-sphere_z-gate_from_state_1.png)](https://quantum-computing.ibm.com/composer/files/4ba604cfd3e757d23391f986fd4ed206)\n",
    "\n",
    "블루흐 구에서 화살표가 정확히 $|1\\rangle$을 가르키고 있으며 최종 상태가 $|1\\rangle$이라는것을 확인할 수 있습니다. 또한 q-sphere을 통해서 보았을때 $|1\\rangle$이였던 상태의 위상에 대한 변화가 $\\pi$만큼 생긴것을 확인할 수 있습니다.\n",
    "\n",
    "##### 수학적 표현\n",
    "Z-게이트로 인한 큐비트의 상태 변환은 아래와 같습니다.\n",
    "\n",
    "###### Z-게이트를 사용하여 큐비트의 위상 변환 $|0\\rangle$ -> $|0\\rangle$\n",
    "$$ Z|0\\rangle = \\begin{bmatrix} 1 & 0 \\\\ 0 & -1 \\end{bmatrix}\\begin{bmatrix} 1 \\\\ 0 \\end{bmatrix} = \\begin{bmatrix} 1 \\\\ 0 \\end{bmatrix} = |0\\rangle$$\n",
    "\n",
    "###### Z-게이트를 사용하여 큐비트의 상태와 위상 변환 $|1\\rangle$ -> $-|1\\rangle$\n",
    "$$ Z|1\\rangle = \\begin{bmatrix} 1 & 0 \\\\ 0 & -1 \\end{bmatrix}\\begin{bmatrix} 0 \\\\ 1 \\end{bmatrix} = \\begin{bmatrix} 0 \\\\ -1 \\end{bmatrix} = -|1\\rangle$$\n",
    "\n",
    "## 2. 하다마드 게이트 (Hadamard Gates)\n",
    "\n",
    "하다마드 게이트, H-게이트는 근본적인 양자 게이트 입니다. 하다마드 게이트는 블로흐 구의 극(pole)으로 부터 움직여 $|0\\rangle$과 $|1\\rangle$의 중첩 상태를 만들어 줄 수 있습니다. 하다마드 게이트의 수학적 표현은 아래와 같습니다.\n",
    "\n",
    "$$ H = \\tfrac{1}{\\sqrt{2}}\\begin{bmatrix} 1 & 1 \\\\ 1 & -1 \\end{bmatrix} $$\n",
    "\n",
    "#### 코드 구현\n",
    "##### $|0\\rangle$상태로 부터 $|0\\rangle$과 $|1\\rangle$의 중첩 상태로 만들기\n",
    "\n",
    "우선 큐비트 1개를 만들고 하다마드 게이트를 양자회로에 추가합니다.\n"
   ]
  },
  {
   "cell_type": "code",
   "execution_count": null,
   "id": "8dfc79ab",
   "metadata": {},
   "outputs": [],
   "source": [
    "qc4 = QuantumCircuit(1) #큐비트 1개인 양자회로 만들기\n",
    "qc4.h(0) #하다마드 게이트를 큐비트0에 추가하기\n",
    "qc4.draw('mpl') #양자회로 그리기"
   ]
  },
  {
   "cell_type": "code",
   "execution_count": null,
   "id": "134598a9",
   "metadata": {},
   "outputs": [],
   "source": [
    "state7 = execute(qc4, StatevectorSimulator()).result().get_statevector() # 시뮬레이션에 양자회로를 넣어 실행시키기\n",
    "plot_bloch_multivector(state7) # 블로흐 구 그리기"
   ]
  },
  {
   "cell_type": "code",
   "execution_count": null,
   "id": "ebf96d94",
   "metadata": {},
   "outputs": [],
   "source": [
    "visualize_transition(qc4) # 블로흐 구 애니메이션 만들기"
   ]
  },
  {
   "cell_type": "markdown",
   "id": "e0dac202",
   "metadata": {},
   "source": [
    "###### $|0\\rangle$상태의 큐비트에 하다마드 게이트 [Q-sphere]\n",
    "\n",
    "[![h-gate1](./figure/q-sphere_h-gate.png)](https://quantum-computing.ibm.com/composer/files/153a07d9525ce1880ba9284ad205e63d)\n",
    "\n",
    "블루흐 구에서 화살표가 정확히 $|0\\rangle$과 $|1\\rangle$사이인 X축에서 앞을 가르키고 있으며 최종 상태가 $|0\\rangle$과 $|1\\rangle$의 중첩상태 이라는것을 확인할 수 있습니다. 또한 q-sphere을 통해서 보았을때 중첩 상태를 측정했을때 나올 수 있는 상태가 $|0\\rangle$과 $|1\\rangle$ 두가지의 상태인것을 확인 할 수 있습니다. 측정에 대한 자세한 내용은 추후 장에서 설명 하겠습니다.\n",
    "\n",
    "##### $|1\\rangle$상태로 부터 $|0\\rangle$과 $|1\\rangle$의 중첩 상태로 만들기\n",
    "\n",
    "우선 큐비트 1개를 만들고 X-게이트를 추가해 $|1\\rangle$상태인 큐비트를 만들어주며 하다마드 게이트를 양자회로에 추가합니다."
   ]
  },
  {
   "cell_type": "code",
   "execution_count": null,
   "id": "e42fe1ba",
   "metadata": {},
   "outputs": [],
   "source": [
    "qc4 = QuantumCircuit(1) #큐비트 1개인 양자회로 만들기\n",
    "qc4.x(0) #X 게이트를 이용해 큐비트0을 |1>상태로 만들기\n",
    "qc4.h(0) #하다마드 게이트를 큐비트0에 추가하기\n",
    "qc4.draw('mpl') #양자회로 그리기"
   ]
  },
  {
   "cell_type": "code",
   "execution_count": null,
   "id": "9d55a1b9",
   "metadata": {},
   "outputs": [],
   "source": [
    "state8 = execute(qc4, StatevectorSimulator()).result().get_statevector() # 시뮬레이션에 양자회로를 넣어 실행시키기\n",
    "plot_bloch_multivector(state8) # 블로흐 구 그리기"
   ]
  },
  {
   "cell_type": "code",
   "execution_count": null,
   "id": "eca107dd",
   "metadata": {},
   "outputs": [],
   "source": [
    "visualize_transition(qc4) # 블로흐 구 애니메이션 만들기"
   ]
  },
  {
   "cell_type": "markdown",
   "id": "eb212423",
   "metadata": {},
   "source": [
    "###### $|1\\rangle$상태의 큐비트에 하다마드 게이트 [Q-sphere]\n",
    "\n",
    "[![h-gate2](./figure/q-sphere_h-gate_from_state_1.png)](https://quantum-computing.ibm.com/composer/files/e42937df7467feda740e85f7b658e8c3)\n",
    "\n",
    "블루흐 구에서 화살표가 정확히 $|0\\rangle$과 $|1\\rangle$사이인 X축에서 뒤를 가르키고 있으며 최종 상태가 $|0\\rangle$과 $|1\\rangle$의 중첩상태 이라는것을 확인할 수 있습니다. 또한 q-sphere을 통해서 보았을때 중첩 상태를 측정했을때 나올 수 있는 상태가 $|0\\rangle$과 $|1\\rangle$ 두가지의 상태인것을 확인 할 수 있습니다. 하지만 하다마드 게이트의 수학적 표현을 통하여 예측할수 있듯이 중첩된 $|1\\rangle$의 위상 변화가 $\\pi$ 라디안 만큼 일어난것을 확인할 수 있습니다.\n",
    "\n",
    "##### 수학적 표현\n",
    "하다마드 게이트로 인한 큐비트의 상태 변환은 아래와 같습니다.\n",
    "\n",
    "###### 하다마드 게이트를 사용하여 큐비트의 상태와 위상 변환 $|0\\rangle$ -> $|+\\rangle$\n",
    "$$ H|0\\rangle = \\tfrac{1}{\\sqrt{2}}\\begin{bmatrix} 1 & 1 \\\\ 1 & -1 \\end{bmatrix}\\begin{bmatrix} 1 \\\\ 0 \\end{bmatrix} = \\tfrac{1}{\\sqrt{2}}(|0\\rangle + |1\\rangle) = |+\\rangle$$\n",
    "\n",
    "###### 하다마드 게이트를 사용하여 큐비트의 상태와 위상 변환 $|1\\rangle$ -> $|-\\rangle$\n",
    "$$ H|1\\rangle = \\tfrac{1}{\\sqrt{2}}\\begin{bmatrix} 1 & 1 \\\\ 1 & -1 \\end{bmatrix}\\begin{bmatrix} 0 \\\\ 1 \\end{bmatrix} = \\tfrac{1}{\\sqrt{2}}(|0\\rangle - |1\\rangle)  = |-\\rangle$$\n",
    "\n",
    "## 3. S-게이트 (S-Gate)\n",
    "\n",
    "S-게이트는 상태가 $|1\\rangle$인 큐비트의 위상을 $\\pi/2$만큼 블로흐 구에서 Z축을 중심으로 회전을 합니다. 반대로 $S^\\dagger$-게이트는 상태가 $|1\\rangle$인 큐비트의 위상을 $-\\pi/2$만큼 블로흐 구에서 Z축을 중심으로 회전을 합니다. S-게이트는 $\\sqrt{Z}$-게이트라고도 불리며 Z-게이트의 반만큼 회전을 합니다. 반대로 $S^\\dagger$-게이트는 $\\sqrt{Z^\\dagger}$-게이트라고도 불리며 Z-게이트의 반대 방향으로 반만큼 회전합니다. S-게이트와 $S^\\dagger$-게이트의 수학적 표현은 아래와 같습니다.\n",
    "\n",
    "$$ S = \\begin{bmatrix} 1 & 0 \\\\ 0 & e^{\\frac{i\\pi}{2}} \\end{bmatrix} \\quad S^\\dagger = \\begin{bmatrix} 1 & 0 \\\\ 0 & e^{-\\frac{i\\pi}{2}} \\end{bmatrix} $$ \n",
    "\n",
    "#### 코드 구현\n",
    "##### $|0\\rangle$의 상태인 큐비트에 S-게이트 추가하기\n",
    "\n",
    "우선 큐비트 1개를 만들고 S-게이트를 양자회로에 추가합니다."
   ]
  },
  {
   "cell_type": "code",
   "execution_count": null,
   "id": "86d50234",
   "metadata": {},
   "outputs": [],
   "source": [
    "qc5 = QuantumCircuit(1) #큐비트 1개인 양자회로 만들기\n",
    "qc5.s(0) #Z 게이트를 큐비트0에 추가하기\n",
    "qc5.draw('mpl') #양자회로 그리기"
   ]
  },
  {
   "cell_type": "code",
   "execution_count": null,
   "id": "4552103b",
   "metadata": {},
   "outputs": [],
   "source": [
    "state9 = execute(qc5, StatevectorSimulator()).result().get_statevector() # 시뮬레이션에 양자회로를 넣어 실행시키기\n",
    "plot_bloch_multivector(state9) # 블로흐 구 그리기"
   ]
  },
  {
   "cell_type": "code",
   "execution_count": null,
   "id": "7f89420d",
   "metadata": {},
   "outputs": [],
   "source": [
    "visualize_transition(qc5) # 블로흐 구 애니메이션 만들기"
   ]
  },
  {
   "cell_type": "markdown",
   "id": "dfe719d4",
   "metadata": {},
   "source": [
    "###### $|0\\rangle$상태의 큐비트에 S-게이트 [Q-sphere]\n",
    "\n",
    "[![s-gate1](./figure/q-sphere_s-gate.png)](https://quantum-computing.ibm.com/composer/files/45b8a2021cc391df0f55cc61acbb187e)\n",
    "\n",
    "예상과 동일하게 $|0\\rangle$인 상태인 큐비트에는 상태에 영향을 주지 않으며 위상 또한 변하지 않았습니다\n",
    "\n",
    "##### $|0\\rangle$의 상태인 큐비트에 $S^\\dagger$-게이트 추가하기\n",
    "\n",
    "우선 큐비트 1개를 만들고 $S^\\dagger$-게이트를 양자회로에 추가합니다."
   ]
  },
  {
   "cell_type": "code",
   "execution_count": null,
   "id": "07a92e8d",
   "metadata": {},
   "outputs": [],
   "source": [
    "qc6 = QuantumCircuit(1) #큐비트 1개인 양자회로 만들기\n",
    "qc6.sdg(0) #S-dagger 게이트를 큐비트0에 추가하기\n",
    "qc6.draw('mpl') #양자회로 그리기"
   ]
  },
  {
   "cell_type": "code",
   "execution_count": null,
   "id": "723f4ad2",
   "metadata": {},
   "outputs": [],
   "source": [
    "state10 = execute(qc6, StatevectorSimulator()).result().get_statevector() # 시뮬레이션에 양자회로를 넣어 실행시키기\n",
    "plot_bloch_multivector(state10) # 블로흐 구 그리기"
   ]
  },
  {
   "cell_type": "code",
   "execution_count": null,
   "id": "fc6e01b8",
   "metadata": {},
   "outputs": [],
   "source": [
    "visualize_transition(qc6) # 블로흐 구 애니메이션 만들기"
   ]
  },
  {
   "cell_type": "markdown",
   "id": "4b78d105",
   "metadata": {},
   "source": [
    "###### $|0\\rangle$상태의 큐비트에 $S^\\dagger$-게이트 [Q-sphere]\n",
    "\n",
    "[![sdg-gate1](./figure/q-sphere_sdg-gate.png)](https://quantum-computing.ibm.com/composer/files/bae4519d8789b522d11797326c03778e)\n",
    "\n",
    "\n",
    "##### $|1\\rangle$의 상태인 큐비트에 S-게이트 추가하기\n",
    "\n",
    "우선 큐비트 1개를 만들고 X-gate를 추가해 $|1\\rangle$상태의 큐비트를 준비해주고 S-게이트를 양자회로에 추가합니다."
   ]
  },
  {
   "cell_type": "code",
   "execution_count": null,
   "id": "af0857d8",
   "metadata": {},
   "outputs": [],
   "source": [
    "qc6 = QuantumCircuit(1) #큐비트 1개인 양자회로 만들기\n",
    "qc6.x(0) #X 게이트를 넣어 큐비트를 |1> 상태로 만들기\n",
    "qc6.s(0) #S 게이트를 큐비트0에 추가하기\n",
    "qc6.draw('mpl') #양자회로 그리기"
   ]
  },
  {
   "cell_type": "code",
   "execution_count": null,
   "id": "fe3787cd",
   "metadata": {},
   "outputs": [],
   "source": [
    "state11 = execute(qc6, StatevectorSimulator()).result().get_statevector() # 시뮬레이션에 양자회로를 넣어 실행시키기\n",
    "plot_bloch_multivector(state11) # 블로흐 구 그리기"
   ]
  },
  {
   "cell_type": "code",
   "execution_count": null,
   "id": "173a6936",
   "metadata": {},
   "outputs": [],
   "source": [
    "visualize_transition(qc5) # 블로흐 구 애니메이션 만들기"
   ]
  },
  {
   "cell_type": "markdown",
   "id": "7d8ebb0f",
   "metadata": {},
   "source": [
    "###### $|1\\rangle$상태의 큐비트에 S-게이트 [Q-sphere]\n",
    "\n",
    "[![s-gate2](./figure/q-sphere_s-gate2.png)](https://quantum-computing.ibm.com/composer/files/9e695e173011268e0bf4e6e49e603f8a)\n",
    "\n",
    "$|1\\rangle$상태의 큐비트에 위상 상태가 $\\pi/2$만큼 변화된것을 확인할 수 있습니다.\n",
    "\n",
    "##### $|1\\rangle$의 상태인 큐비트에 $S^\\dagger$-게이트 추가하기\n",
    "\n",
    "우선 큐비트 1개를 만들고 X-gate를 추가해 $|1\\rangle$상태의 큐비트를 준비해주고 $S^\\dagger$-게이트를 양자회로에 추가합니다."
   ]
  },
  {
   "cell_type": "code",
   "execution_count": null,
   "id": "01566197",
   "metadata": {},
   "outputs": [],
   "source": [
    "qc6 = QuantumCircuit(1) #큐비트 1개인 양자회로 만들기\n",
    "qc6.x(0) #X 게이트를 넣어 큐비트를 |1> 상태로 만들기\n",
    "qc6.sdg(0) #S-dagger 게이트를 큐비트0에 추가하기\n",
    "qc6.draw('mpl') #양자회로 그리기"
   ]
  },
  {
   "cell_type": "code",
   "execution_count": null,
   "id": "f2c59970",
   "metadata": {},
   "outputs": [],
   "source": [
    "state11 = execute(qc5, StatevectorSimulator()).result().get_statevector() # 시뮬레이션에 양자회로를 넣어 실행시키기\n",
    "plot_bloch_multivector(state11) # 블로흐 구 그리기"
   ]
  },
  {
   "cell_type": "code",
   "execution_count": null,
   "id": "103fb412",
   "metadata": {},
   "outputs": [],
   "source": [
    "visualize_transition(qc6) # 블로흐 구 애니메이션 만들기"
   ]
  },
  {
   "cell_type": "markdown",
   "id": "5134b507",
   "metadata": {},
   "source": [
    "###### $|1\\rangle$상태의 큐비트에 $S^\\dagger$-게이트 [Q-sphere]\n",
    "\n",
    "[![sdg-gate2](./figure/q-sphere_sdg-gate2.png)](https://quantum-computing.ibm.com/composer/files/c6a52f559e3187fb4b95ce2a5d9c7844)\n",
    "\n",
    "$|1\\rangle$상태의 큐비트에 위상 상태가 -$\\pi/2$만큼 변화되어 최종적으로 위상이 $-3\\pi/2$인것을 확인할 수 있습니다.\n",
    "\n",
    "##### S-게이트 S-게이트가 Z-게이트와 동일한지 확인"
   ]
  },
  {
   "cell_type": "code",
   "execution_count": null,
   "id": "9602f4d9",
   "metadata": {},
   "outputs": [],
   "source": [
    "qc7 = QuantumCircuit(1) #큐비트 1개인 양자회로 만들기\n",
    "qc7.x(0) #X 게이트를 넣어 큐비트를 |1> 상태로 만들기\n",
    "qc7.s(0) #S 게이트를 큐비트0에 추가하기\n",
    "qc7.s(0) #두번째 S 게이트를 큐비트0에 추가하기\n",
    "qc7.draw('mpl') #양자회로 그리기"
   ]
  },
  {
   "cell_type": "code",
   "execution_count": null,
   "id": "5f520f84",
   "metadata": {},
   "outputs": [],
   "source": [
    "state12 = execute(qc7, StatevectorSimulator()).result().get_statevector() # 시뮬레이션에 양자회로를 넣어 실행시키기\n",
    "plot_bloch_multivector(state12) # 블로흐 구 그리기"
   ]
  },
  {
   "cell_type": "code",
   "execution_count": null,
   "id": "ddd308f6",
   "metadata": {},
   "outputs": [],
   "source": [
    "visualize_transition(qc7) # 블로흐 구 애니메이션 만들기"
   ]
  },
  {
   "cell_type": "markdown",
   "id": "f1dfb26d",
   "metadata": {},
   "source": [
    "###### $|1\\rangle$상태의 큐비트에 Z-게이트와 SS-게이트  비교 [Q-sphere]\n",
    "\n",
    "![comparison](figure/ss-gate_z-gate_comparison.png)\n",
    "\n",
    "S-게이트 두개를 합친 결과가 Z-게이트 한개를 가한 결과와 같다는것을 확인할 수 있습니다.\n",
    "\n",
    "##### 수학적 표현\n",
    "S-게이트와 $S^\\dagger$로 인한 큐비트의 상태 변환은 아래와 같습니다.\n",
    "\n",
    "###### S-게이트를 사용하여 큐비트의 상태와 위상 변환 $|0\\rangle$ -> $|0\\rangle$\n",
    "$$ S|0\\rangle = \\begin{bmatrix} 1 & 0 \\\\ 0 & e^{\\frac{i\\pi}{2}} \\end{bmatrix}\\begin{bmatrix} 1 \\\\ 0 \\end{bmatrix} = \\begin{bmatrix} 1 \\\\ 0 \\end{bmatrix} = |0\\rangle$$\n",
    "\n",
    "###### S-게이트를 사용하여 큐비트의 상태와 위상 변환 $|1\\rangle$ -> $e^{\\frac{i\\pi}{2}}|1\\rangle$\n",
    "$$ S|1\\rangle = \\begin{bmatrix} 1 & 0 \\\\ 0 & e^{\\frac{i\\pi}{2}} \\end{bmatrix}\\begin{bmatrix} 0 \\\\ 1 \\end{bmatrix} = \\begin{bmatrix} 0 \\\\ e^{\\frac{i\\pi}{2}} \\end{bmatrix}  = e^{\\frac{i\\pi}{2}}|1\\rangle$$\n",
    "\n",
    "###### $S^\\dagger$-게이트를 사용하여 큐비트의 상태와 위상 변환 $|0\\rangle$ -> $|0\\rangle$\n",
    "$$ S^\\dagger|0\\rangle = \\begin{bmatrix} 1 & 0 \\\\ 0 & e^{-\\frac{i\\pi}{2}} \\end{bmatrix}\\begin{bmatrix} 1 \\\\ 0 \\end{bmatrix} = \\begin{bmatrix} 1 \\\\ 0 \\end{bmatrix} = |0\\rangle$$\n",
    "\n",
    "###### $S^\\dagger$-게이트를 사용하여 큐비트의 상태와 위상 변환 $|1\\rangle$ -> $e^{\\frac{-i\\pi}{2}}|1\\rangle$\n",
    "$$ S^\\dagger|1\\rangle = \\begin{bmatrix} 1 & 0 \\\\ 0 & e^{-\\frac{i\\pi}{2}} \\end{bmatrix}\\begin{bmatrix} 0 \\\\ 1 \\end{bmatrix} = \\begin{bmatrix} 0 \\\\ e^{\\frac{-i\\pi}{2}} \\end{bmatrix}  = e^{\\frac{-i\\pi}{2}}|1\\rangle$$\n",
    "\n",
    "## 4. T-게이트 (T-Gate)\n",
    "\n",
    "T-게이트는 상태가 $|1\\rangle$인 큐비트의 위상을 $\\pi/4$만큼 블로흐 구에서 Z축을 중심으로 회전을 합니다. 반대로 $T^\\dagger$-게이트는 상태가 $|1\\rangle$인 큐비트의 위상을 $-\\pi/4$만큼 블로흐 구에서 Z축을 중심으로 회전을 합니다. T-게이트는 $\\sqrt{S}$-게이트라고도 불리며 S-게이트의 반만큼 회전을 합니다. 반대로 $T^\\dagger$-게이트는 $\\sqrt{S^\\dagger}$-게이트라고도 불리며 S-게이트의 반대 방향으로 반만큼 회전합니다. 따라서 $TTTT = SS = Z $이며 $T^\\dagger T^\\dagger T^\\dagger T^\\dagger = S^\\dagger S^\\dagger =Z ^\\dagger$입니다. T-게이트와 $T^\\dagger$-게이트의 수학적 표현은 아래와 같습니다.\n",
    "\n",
    "$$ T = \\begin{bmatrix} 1 & 0 \\\\ 0 & e^{\\frac{i\\pi}{4}} \\end{bmatrix} \\quad T^\\dagger = \\begin{bmatrix} 1 & 0 \\\\ 0 & e^{-\\frac{i\\pi}{4}} \\end{bmatrix} $$ \n",
    "\n",
    "#### 코드 구현\n",
    "##### $|1\\rangle$의 상태인 큐비트에 T-게이트 추가하기\n",
    "\n",
    "우선 큐비트 1개를 만들고 X-gate를 추가해 $|1\\rangle$상태의 큐비트를 준비해주고 T-게이트를 양자회로에 추가합니다."
   ]
  },
  {
   "cell_type": "code",
   "execution_count": null,
   "id": "735c924a",
   "metadata": {},
   "outputs": [],
   "source": [
    "qc8 = QuantumCircuit(1) #큐비트 1개인 양자회로 만들기\n",
    "qc8.x(0) #X 게이트를 넣어 큐비트를 |1> 상태로 만들기\n",
    "qc8.t(0) #T 게이트를 큐비트0에 추가하기\n",
    "qc8.draw('mpl') #양자회로 그리기"
   ]
  },
  {
   "cell_type": "code",
   "execution_count": null,
   "id": "584e2372",
   "metadata": {},
   "outputs": [],
   "source": [
    "state13 = execute(qc8, StatevectorSimulator()).result().get_statevector() # 시뮬레이션에 양자회로를 넣어 실행시키기\n",
    "plot_bloch_multivector(state13) # 블로흐 구 그리기"
   ]
  },
  {
   "cell_type": "code",
   "execution_count": null,
   "id": "31c3355e",
   "metadata": {},
   "outputs": [],
   "source": [
    "visualize_transition(qc8) # 블로흐 구 애니메이션 만들기"
   ]
  },
  {
   "cell_type": "markdown",
   "id": "bfa2321e",
   "metadata": {},
   "source": [
    "###### $|1\\rangle$상태의 큐비트에 T-게이트 [Q-sphere]\n",
    "\n",
    "[![t-gate1](./figure/q-sphere_t-gate.png)](https://quantum-computing.ibm.com/composer/files/afdc6c2b0e519ee80b5d5c04d8c7a489)\n",
    "\n",
    "$|1\\rangle$상태의 큐비트에 위상 상태가 $\\pi/4$만큼 변화된것을 확인할 수 있습니다.\n",
    "\n",
    "##### $|1\\rangle$의 상태인 큐비트에 $T^\\dagger$-게이트 추가하기\n",
    "\n",
    "우선 큐비트 1개를 만들고 X-gate를 추가해 $|1\\rangle$상태의 큐비트를 준비해주고 $T^\\dagger$-게이트를 양자회로에 추가합니다."
   ]
  },
  {
   "cell_type": "code",
   "execution_count": null,
   "id": "b402ae9c",
   "metadata": {},
   "outputs": [],
   "source": [
    "qc9 = QuantumCircuit(1) #큐비트 1개인 양자회로 만들기\n",
    "qc9.x(0) #X 게이트를 넣어 큐비트를 |1> 상태로 만들기\n",
    "qc9.tdg(0) #T-dagger 게이트를 큐비트0에 추가하기\n",
    "qc9.draw('mpl') #양자회로 그리기"
   ]
  },
  {
   "cell_type": "code",
   "execution_count": null,
   "id": "2f070194",
   "metadata": {},
   "outputs": [],
   "source": [
    "state14 = execute(qc9, StatevectorSimulator()).result().get_statevector() # 시뮬레이션에 양자회로를 넣어 실행시키기\n",
    "plot_bloch_multivector(state14) # 블로흐 구 그리기"
   ]
  },
  {
   "cell_type": "code",
   "execution_count": null,
   "id": "2924ef89",
   "metadata": {},
   "outputs": [],
   "source": [
    "visualize_transition(qc9) # 블로흐 구 애니메이션 만들기"
   ]
  },
  {
   "cell_type": "markdown",
   "id": "cb37c2be",
   "metadata": {},
   "source": [
    "###### $|1\\rangle$상태의 큐비트에 $T^\\dagger$-게이트 [Q-sphere]\n",
    "\n",
    "[![t-gate2](./figure/q-sphere_tdg-gate.png)](https://quantum-computing.ibm.com/composer/files/4f88b35c05e24902c07c93f3295928fd)\n",
    "\n",
    "$|1\\rangle$상태의 큐비트에 위상 상태가 -$\\pi/4$만큼 변화되어 최종적으로 위상이 $-7\\pi/4$인것을 확인할 수 있습니다.\n",
    "\n",
    "##### T-게이트 T-게이트가 S-게이트와 동일한지 확인\n"
   ]
  },
  {
   "cell_type": "code",
   "execution_count": null,
   "id": "aaa9124c",
   "metadata": {},
   "outputs": [],
   "source": [
    "qc10 = QuantumCircuit(1) #큐비트 1개인 양자회로 만들기\n",
    "qc10.x(0) #X 게이트를 넣어 큐비트를 |1> 상태로 만들기\n",
    "qc10.t(0) #T 게이트를 큐비트0에 추가하기\n",
    "qc10.t(0) #두번째 T 게이트를 큐비트0에 추가하기\n",
    "qc10.draw('mpl') #양자회로 그리기"
   ]
  },
  {
   "cell_type": "code",
   "execution_count": null,
   "id": "b0980ec0",
   "metadata": {},
   "outputs": [],
   "source": [
    "state15 = execute(qc10, StatevectorSimulator()).result().get_statevector() # 시뮬레이션에 양자회로를 넣어 실행시키기\n",
    "plot_bloch_multivector(state15) # 블로흐 구 그리기"
   ]
  },
  {
   "cell_type": "code",
   "execution_count": null,
   "id": "2dfa575c",
   "metadata": {},
   "outputs": [],
   "source": [
    "visualize_transition(qc10) # 블로흐 구 애니메이션 만들기"
   ]
  },
  {
   "cell_type": "markdown",
   "id": "59ca102c",
   "metadata": {},
   "source": [
    "###### $|1\\rangle$상태의 큐비트에 S-게이트와 TT-게이트  비교 [Q-sphere]\n",
    "\n",
    "![comparison2](figure/tt-gate_s-gate_comparison.png)\n",
    "\n",
    "T-게이트 두개를 합친 결과가 S-게이트 한개를 가한 결과와 같다는것을 확인할 수 있습니다.\n",
    "\n",
    "##### 수학적 표현\n",
    "T-게이트와 $T^\\dagger$로 인한 큐비트의 상태 변환은 아래와 같습니다.\n",
    "\n",
    "###### T-게이트를 사용하여 큐비트의 상태와 위상 변환 $|0\\rangle$ -> $|0\\rangle$\n",
    "$$ T|0\\rangle = \\begin{bmatrix} 1 & 0 \\\\ 0 & e^{\\frac{i\\pi}{4}} \\end{bmatrix}\\begin{bmatrix} 1 \\\\ 0 \\end{bmatrix} = \\begin{bmatrix} 1 \\\\ 0 \\end{bmatrix} = |0\\rangle$$\n",
    "\n",
    "###### T-게이트를 사용하여 큐비트의 상태와 위상 변환 $|1\\rangle$ -> $e^{\\frac{i\\pi}{4}}|1\\rangle$\n",
    "$$ T|1\\rangle = \\begin{bmatrix} 1 & 0 \\\\ 0 & e^{\\frac{i\\pi}{4}} \\end{bmatrix}\\begin{bmatrix} 0 \\\\ 1 \\end{bmatrix} = \\begin{bmatrix} 0 \\\\ e^{\\frac{i\\pi}{4}} \\end{bmatrix}  = e^{\\frac{i\\pi}{4}}|1\\rangle$$\n",
    "\n",
    "###### $T^\\dagger$-게이트를 사용하여 큐비트의 상태와 위상 변환 $|0\\rangle$ -> $|0\\rangle$\n",
    "$$ T^\\dagger|0\\rangle = \\begin{bmatrix} 1 & 0 \\\\ 0 & e^{-\\frac{i\\pi}{4}} \\end{bmatrix}\\begin{bmatrix} 1 \\\\ 0 \\end{bmatrix} = \\begin{bmatrix} 1 \\\\ 0 \\end{bmatrix} = |0\\rangle$$\n",
    "\n",
    "###### $T^\\dagger$-게이트를 사용하여 큐비트의 상태와 위상 변환 $|1\\rangle$ -> $e^{\\frac{-i\\pi}{4}}|1\\rangle$\n",
    "$$ T^\\dagger|1\\rangle = \\begin{bmatrix} 1 & 0 \\\\ 0 & e^{-\\frac{i\\pi}{4}} \\end{bmatrix}\\begin{bmatrix} 0 \\\\ 1 \\end{bmatrix} = \\begin{bmatrix} 0 \\\\ e^{\\frac{-i\\pi}{4}} \\end{bmatrix}  = e^{\\frac{-i\\pi}{4}}|1\\rangle$$\n",
    "\n",
    "## 5. P-게이트 (P-Gate)\n",
    "\n",
    "P-게이트는 매개변수화 되어 있어 $\\phi$에 숫자를 지정해 어떠한 작업을 해야하는지 정해줘야 합니다. P-게이트는 블로흐 구에서 Z축을 중심으로 $\\phi$만큼 회전을 합니다. P-게이트의 수학적 표현은 아래와 같습니다. 여기서 $\\phi$는 실수여야 합니다.\n",
    "\n",
    "$$ P(\\phi) = \\begin{bmatrix} 1 & 0 \\\\ 0 & e^{i\\phi} \\end{bmatrix} $$\n",
    "\n",
    "#### 코드 구현\n",
    "##### $|1\\rangle$의 상태인 큐비트에 P-게이트 추가하기, $\\phi=\\pi/4$\n"
   ]
  },
  {
   "cell_type": "code",
   "execution_count": null,
   "id": "316b6e2b",
   "metadata": {},
   "outputs": [],
   "source": [
    "qc11 = QuantumCircuit(1) #큐비트 1개인 양자회로 만들기\n",
    "qc11.x(0) #X 게이트를 넣어 큐비트를 |1> 상태로 만들기\n",
    "qc11.p(pi/4, 0) #P 게이트를 큐비트0에 추가하기\n",
    "qc11.draw('mpl') #양자회로 그리기"
   ]
  },
  {
   "cell_type": "code",
   "execution_count": null,
   "id": "13715d91",
   "metadata": {},
   "outputs": [],
   "source": [
    "state16 = execute(qc11, StatevectorSimulator()).result().get_statevector() # 시뮬레이션에 양자회로를 넣어 실행시키기\n",
    "plot_bloch_multivector(state16) # 블로흐 구 그리기"
   ]
  },
  {
   "cell_type": "markdown",
   "id": "92e2e072",
   "metadata": {},
   "source": [
    "###### $|1\\rangle$상태의 큐비트에 P-게이트 [Q-sphere]\n",
    "###### 1. $P-게이트, \\phi=\\pi/4$\n",
    "![p-gate1](./figure/q-sphere_comparison1.png)\n",
    "\n",
    "###### 2. $P-게이트, \\phi=\\pi/2$\n",
    "![p-gate2](./figure/q-sphere_comparison2.png)\n",
    "\n",
    "###### 3. $P-게이트, \\phi=\\pi$\n",
    "![p-gate3](./figure/q-sphere_comparison3.png)\n",
    "\n",
    "$|1\\rangle$상태의 큐비트에 위상 상태가 $\\phi$만큼 변화된것을 확인할 수 있습니다. 위 그림과 같이 $\\phi$를 지정해주면서 T-게이트, S-게이트, Z-게이트와 같은 기존 게이트도 구현할 수 있습니다.\n",
    "\n",
    "##### 수학적 표현\n",
    "P-게이트로 인한 큐비트의 상태 변환은 아래와 같습니다. 여기서 $\\phi$는 실수 입니다.\n",
    "\n",
    "###### P-게이트를 사용하여 큐비트의 상태와 위상 변환 $|0\\rangle$ -> $|0\\rangle$\n",
    "$$ P|0\\rangle = \\begin{bmatrix} 1 & 0 \\\\ 0 & e^{i\\phi} \\end{bmatrix}\\begin{bmatrix} 1 \\\\ 0 \\end{bmatrix} = \\begin{bmatrix} 1 \\\\ 0 \\end{bmatrix} = |0\\rangle$$\n",
    "\n",
    "###### P-게이트를 사용하여 큐비트의 상태와 위상 변환 $|1\\rangle$ -> $e^{i\\phi}|1\\rangle$\n",
    "$$ P|1\\rangle = \\begin{bmatrix} 1 & 0 \\\\ 0 & e^{i\\phi} \\end{bmatrix}\\begin{bmatrix} 0 \\\\ 1 \\end{bmatrix} = \\begin{bmatrix} 0 \\\\ e^{i\\phi} \\end{bmatrix}  = e^{i\\phi}|1\\rangle$$\n",
    "\n",
    "## 6. Rotation Gates\n",
    "### Rx 게이트\n",
    "Rx 게이트는 $\\theta$만큼 x 축에 대해 회전을 합니다.\n",
    "\n",
    "#### 초기 $|0\\rangle$ 상태의 큐비트\n",
    "\n"
   ]
  },
  {
   "cell_type": "code",
   "execution_count": null,
   "id": "6c8c449a",
   "metadata": {},
   "outputs": [],
   "source": [
    "qc=QuantumCircuit(1) #1개의 큐비트를 가진 양자회로 만들기\n",
    "qc.rx(pi/2,0) #Rx 게이트를 넣어 큐비트 0에 pi/2만큼 회전시키기\n",
    "qc.draw(output=\"mpl\") #양자회로 그리기"
   ]
  },
  {
   "cell_type": "markdown",
   "id": "495e2f50",
   "metadata": {},
   "source": [
    "아래 코드에서는 큐비트 0을 $\\frac{\\pi}{2}$ 만큼 회전하는 Rx 게이트의 양자회로를 실행을 시켜 Rx 게이트의 단위 행렬(unitary matrix)를 출력합니다."
   ]
  },
  {
   "cell_type": "code",
   "execution_count": null,
   "id": "a7ec2435",
   "metadata": {},
   "outputs": [],
   "source": [
    "backend = Aer.get_backend('unitary_simulator') #unitary simulator를 사용하는 backend를 만들기\n",
    "\n",
    "job = execute(qc, backend) #양자회로를 실행시키기\n",
    "result = job.result() #실행 결과를 가져오기\n",
    "print(result.get_unitary(qc, decimals=3)) #단위 행렬을 출력하기"
   ]
  },
  {
   "cell_type": "markdown",
   "id": "6e233d1d",
   "metadata": {},
   "source": [
    "아래 코드에서는 큐비트 0을 $\\frac{\\pi}{2}$ 만큼 회전하는 Rx 게이트의 양자회로를 실행을 시켜 Rx 게이트의 상태 벡터(state vector)를 출력합니다."
   ]
  },
  {
   "cell_type": "code",
   "execution_count": null,
   "id": "71448a08",
   "metadata": {},
   "outputs": [],
   "source": [
    "state17 = execute(qc, StatevectorSimulator()).result().get_statevector() # 상태 벡터 시뮬레이션에 양자회로를 넣어 실행시키기\n",
    "Statevector(state17).draw(output='latex') #latex 형태로 상태 벡터 출력하기"
   ]
  },
  {
   "cell_type": "code",
   "execution_count": null,
   "id": "f513bf1a",
   "metadata": {},
   "outputs": [],
   "source": [
    "plot_bloch_multivector(state17) # 블로흐 구 그리기"
   ]
  },
  {
   "cell_type": "code",
   "execution_count": null,
   "id": "fbafe6cd",
   "metadata": {},
   "outputs": [],
   "source": [
    "visualize_transition(qc) # 블로흐 구 애니메이션 만들기"
   ]
  },
  {
   "cell_type": "markdown",
   "id": "237c2e07",
   "metadata": {},
   "source": [
    "$|0\\rangle$상태의 큐비트에 Rx 게이트 [Q-sphere]\n",
    "\n",
    "![rx-gate](./figure/q-sphere_rx-gate.png)\n",
    "\n",
    "#### 초기 $|1\\rangle$ 상태의 큐비트\n",
    "\n"
   ]
  },
  {
   "cell_type": "code",
   "execution_count": null,
   "id": "7d482c62",
   "metadata": {},
   "outputs": [],
   "source": [
    "qc=QuantumCircuit(1) #1개의 큐비트를 가진 양자회로 만들기\n",
    "qc.x(0) #|1> 상태로 만들어주기\n",
    "qc.rx(pi/2,0) #Rx 게이트를 넣어 큐비트 0에 pi/2만큼 회전시키기\n",
    "qc.draw(output=\"mpl\") #양자회로 그리기"
   ]
  },
  {
   "cell_type": "code",
   "execution_count": null,
   "id": "dd65c294",
   "metadata": {},
   "outputs": [],
   "source": [
    "backend = Aer.get_backend('unitary_simulator') #unitary simulator를 사용하는 backend를 만들기\n",
    "\n",
    "job = execute(qc, backend) #양자회로를 실행시키기\n",
    "result = job.result() #실행 결과를 가져오기\n",
    "print(result.get_unitary(qc, decimals=3)) #실행 결과를 출력하기"
   ]
  },
  {
   "cell_type": "code",
   "execution_count": null,
   "id": "b96acc28",
   "metadata": {},
   "outputs": [],
   "source": [
    "state18 = execute(qc, StatevectorSimulator()).result().get_statevector() # 상태 벡터 시뮬레이션에 양자회로를 넣어 실행시키기\n",
    "Statevector(state18).draw(output='latex') #latex 형태로 상태 벡터 출력하기"
   ]
  },
  {
   "cell_type": "code",
   "execution_count": null,
   "id": "03ce76ed",
   "metadata": {},
   "outputs": [],
   "source": [
    "plot_bloch_multivector(state18) # 블로흐 구 그리기"
   ]
  },
  {
   "cell_type": "code",
   "execution_count": null,
   "id": "da550bf7",
   "metadata": {},
   "outputs": [],
   "source": [
    "visualize_transition(qc) # 블로흐 구 애니메이션 만들기"
   ]
  },
  {
   "cell_type": "markdown",
   "id": "594e122d",
   "metadata": {},
   "source": [
    "$|1\\rangle$상태의 큐비트에 Rx 게이트 [Q-sphere]\n",
    "\n",
    "![rx-gate](./figure/q-sphere_rx-gate2.png)\n",
    "\n",
    "#### 수학적 표현\n",
    "$$ R_x(\\theta) = \\begin{pmatrix} \\cos{(\\frac{\\theta}{2})} & -i\\sin{(\\frac{\\theta}{2})} \\\\\n",
    "-i\\sin{(\\frac{\\theta}{2})} & \\cos{(\\frac{\\theta}{2})} \\end{pmatrix}$$\n",
    "\n",
    "### Ry 게이트\n",
    "Ry 게이트는 $\\theta$만큼 y 축에 대해 회전을 합니다.\n",
    "\n",
    "#### 초기 $|0\\rangle$ 상태의 큐비트"
   ]
  },
  {
   "cell_type": "code",
   "execution_count": null,
   "id": "aa248cab",
   "metadata": {},
   "outputs": [],
   "source": [
    "qc=QuantumCircuit(1) #1개의 큐비트를 가진 양자회로 만들기\n",
    "qc.ry(pi/2,0) #Ry 게이트를 넣어 큐비트 0에 pi/2만큼 회전시키기\n",
    "qc.draw(output=\"mpl\") #양자회로 그리기"
   ]
  },
  {
   "cell_type": "markdown",
   "id": "e1d331ff",
   "metadata": {},
   "source": [
    "아래 코드에서는 큐비트 0을 $\\frac{\\pi}{2}$ 만큼 회전하는 Ry 게이트의 양자회로를 실행을 시켜 Ry 게이트의 단위 행렬을 출력합니다."
   ]
  },
  {
   "cell_type": "code",
   "execution_count": null,
   "id": "9727888f",
   "metadata": {},
   "outputs": [],
   "source": [
    "backend = Aer.get_backend('unitary_simulator') #unitary simulator를 사용하는 backend를 만들기\n",
    "\n",
    "job = execute(qc, backend) #양자회로를 실행시키기\n",
    "result = job.result() #실행 결과를 가져오기\n",
    "print(result.get_unitary(qc, decimals=3)) #단위 행렬을 출력하기"
   ]
  },
  {
   "cell_type": "markdown",
   "id": "d79e7536",
   "metadata": {},
   "source": [
    "아래 코드에서는 큐비트 0을 $\\frac{\\pi}{2}$ 만큼 회전하는 Ry 게이트의 양자회로를 실행을 시켜 Ry 게이트의 상태 벡터를 출력합니다."
   ]
  },
  {
   "cell_type": "code",
   "execution_count": null,
   "id": "9589883b",
   "metadata": {},
   "outputs": [],
   "source": [
    "state19 = execute(qc, StatevectorSimulator()).result().get_statevector() # 상태 벡터 시뮬레이션에 양자회로를 넣어 실행시키기\n",
    "Statevector(state19).draw(output='latex') #latex 형태로 상태 벡터 출력하기"
   ]
  },
  {
   "cell_type": "code",
   "execution_count": null,
   "id": "bcc7d3bc",
   "metadata": {},
   "outputs": [],
   "source": [
    "plot_bloch_multivector(state19) # 블로흐 구 그리기"
   ]
  },
  {
   "cell_type": "code",
   "execution_count": null,
   "id": "7bb7358b",
   "metadata": {},
   "outputs": [],
   "source": [
    "visualize_transition(qc) # 블로흐 구 애니메이션 만들기"
   ]
  },
  {
   "cell_type": "markdown",
   "id": "0f21e796",
   "metadata": {},
   "source": [
    "$|0\\rangle$상태의 큐비트에 Ry 게이트 [Q-sphere]\n",
    "\n",
    "![ry-gate](./figure/q-sphere_ry-gate.png)\n",
    "\n",
    "#### 초기 $|1\\rangle$ 상태의 큐비트\n",
    "\n"
   ]
  },
  {
   "cell_type": "code",
   "execution_count": null,
   "id": "dffdb1eb",
   "metadata": {},
   "outputs": [],
   "source": [
    "qc=QuantumCircuit(1) #1개의 큐비트를 가진 양자회로 만들기\n",
    "qc.x(0) #|1> 상태로 만들어주기\n",
    "qc.ry(pi/2,0) #Ry 게이트를 넣어 큐비트 0에 pi/2만큼 회전시키기\n",
    "qc.draw(output=\"mpl\") #양자회로 그리기"
   ]
  },
  {
   "cell_type": "code",
   "execution_count": null,
   "id": "85aaf20f",
   "metadata": {},
   "outputs": [],
   "source": [
    "backend = Aer.get_backend('unitary_simulator') #unitary simulator를 사용하는 backend를 만들기\n",
    "\n",
    "job = execute(qc, backend) #양자회로를 실행시키기\n",
    "result = job.result() #실행 결과를 가져오기\n",
    "print(result.get_unitary(qc, decimals=3)) #실행 결과를 출력하기"
   ]
  },
  {
   "cell_type": "code",
   "execution_count": null,
   "id": "3123c4a7",
   "metadata": {},
   "outputs": [],
   "source": [
    "state20 = execute(qc, StatevectorSimulator()).result().get_statevector() # 상태 벡터 시뮬레이션에 양자회로를 넣어 실행시키기\n",
    "Statevector(state20).draw(output='latex') #latex 형태로 상태 벡터 출력하기"
   ]
  },
  {
   "cell_type": "code",
   "execution_count": null,
   "id": "949e7794",
   "metadata": {},
   "outputs": [],
   "source": [
    "plot_bloch_multivector(state18) # 블로흐 구 그리기"
   ]
  },
  {
   "cell_type": "code",
   "execution_count": null,
   "id": "e76e03cc",
   "metadata": {},
   "outputs": [],
   "source": [
    "visualize_transition(qc) # 블로흐 구 애니메이션 만들기"
   ]
  },
  {
   "cell_type": "markdown",
   "id": "444c3c85",
   "metadata": {},
   "source": [
    "$|1\\rangle$상태의 큐비트에 Ry 게이트 [Q-sphere]\n",
    "\n",
    "![ry-gate2](./figure/q-sphere_ry-gate2.png)\n",
    "\n",
    "#### 수학적 표현\n",
    "$$ R_y(\\theta) = \\begin{pmatrix} \\cos{(\\frac{\\theta}{2})} & -\\sin{(\\frac{\\theta}{2})} \\\\\n",
    "\\sin{(\\frac{\\theta}{2})} & \\cos{(\\frac{\\theta}{2})} \\end{pmatrix}$$\n",
    "\n",
    "### Rz 게이트\n",
    "Rz 게이트는 $\\theta$만큼 z 축에 대해 회전을 합니다.\n",
    "\n",
    "#### 초기 $|0\\rangle$ 상태의 큐비트"
   ]
  },
  {
   "cell_type": "code",
   "execution_count": null,
   "id": "30926cab",
   "metadata": {},
   "outputs": [],
   "source": [
    "qc=QuantumCircuit(1) #1개의 큐비트를 가진 양자회로 만들기\n",
    "qc.rz(pi/2,0) #Rz 게이트를 넣어 큐비트 0에 pi/2만큼 회전시키기\n",
    "qc.draw(output=\"mpl\") #양자회로 그리기"
   ]
  },
  {
   "cell_type": "markdown",
   "id": "e6444f58",
   "metadata": {},
   "source": [
    "아래 코드에서는 큐비트 0을 $\\frac{\\pi}{2}$ 만큼 회전하는 Rz 게이트의 양자회로를 실행을 시켜 Rz 게이트의 단위 행렬을 출력합니다."
   ]
  },
  {
   "cell_type": "code",
   "execution_count": null,
   "id": "be9b9d28",
   "metadata": {},
   "outputs": [],
   "source": [
    "backend = Aer.get_backend('unitary_simulator') #unitary simulator를 사용하는 backend를 만들기\n",
    "\n",
    "job = execute(qc, backend) #양자회로를 실행시키기\n",
    "result = job.result() #실행 결과를 가져오기\n",
    "print(result.get_unitary(qc, decimals=3)) #단위 행렬을 출력하기"
   ]
  },
  {
   "cell_type": "markdown",
   "id": "aa9dac4a",
   "metadata": {},
   "source": [
    "아래 코드에서는 큐비트 0을 $\\frac{\\pi}{2}$ 만큼 회전하는 Rz 게이트의 양자회로를 실행을 시켜 Rz 게이트의 상태 벡터를 출력합니다."
   ]
  },
  {
   "cell_type": "code",
   "execution_count": null,
   "id": "fca9acfa",
   "metadata": {},
   "outputs": [],
   "source": [
    "state21 = execute(qc, StatevectorSimulator()).result().get_statevector() # 상태 벡터 시뮬레이션에 양자회로를 넣어 실행시키기\n",
    "Statevector(state21).draw(output='latex') #latex 형태로 상태 벡터 출력하기"
   ]
  },
  {
   "cell_type": "code",
   "execution_count": null,
   "id": "10b45bae",
   "metadata": {},
   "outputs": [],
   "source": [
    "plot_bloch_multivector(state21) # 블로흐 구 그리기"
   ]
  },
  {
   "cell_type": "code",
   "execution_count": null,
   "id": "fb06281e",
   "metadata": {},
   "outputs": [],
   "source": [
    "visualize_transition(qc) # 블로흐 구 애니메이션 만들기"
   ]
  },
  {
   "cell_type": "markdown",
   "id": "5cd0a18d",
   "metadata": {},
   "source": [
    "$|0\\rangle$상태의 큐비트에 Rz 게이트 [Q-sphere]\n",
    "\n",
    "![rz-gate](./figure/q-sphere_rz-gate.png)\n",
    "\n",
    "#### 초기 $|1\\rangle$ 상태의 큐비트\n",
    "\n"
   ]
  },
  {
   "cell_type": "code",
   "execution_count": null,
   "id": "6866629b",
   "metadata": {},
   "outputs": [],
   "source": [
    "qc=QuantumCircuit(1) #1개의 큐비트를 가진 양자회로 만들기\n",
    "qc.x(0) #|1> 상태로 만들어주기\n",
    "qc.rz(pi/2,0) #Rz 게이트를 넣어 큐비트 0에 pi/2만큼 회전시키기\n",
    "qc.draw(output=\"mpl\") #양자회로 그리기"
   ]
  },
  {
   "cell_type": "code",
   "execution_count": null,
   "id": "d6c1fc26",
   "metadata": {},
   "outputs": [],
   "source": [
    "backend = Aer.get_backend('unitary_simulator') #unitary simulator를 사용하는 backend를 만들기\n",
    "\n",
    "job = execute(qc, backend) #양자회로를 실행시키기\n",
    "result = job.result() #실행 결과를 가져오기\n",
    "print(result.get_unitary(qc, decimals=3)) #실행 결과를 출력하기"
   ]
  },
  {
   "cell_type": "code",
   "execution_count": null,
   "id": "3cd686f0",
   "metadata": {},
   "outputs": [],
   "source": [
    "state22 = execute(qc, StatevectorSimulator()).result().get_statevector() # 상태 벡터 시뮬레이션에 양자회로를 넣어 실행시키기\n",
    "Statevector(state22).draw(output='latex') #latex 형태로 상태 벡터 출력하기"
   ]
  },
  {
   "cell_type": "code",
   "execution_count": null,
   "id": "582ea8e1",
   "metadata": {},
   "outputs": [],
   "source": [
    "plot_bloch_multivector(state22) # 블로흐 구 그리기"
   ]
  },
  {
   "cell_type": "code",
   "execution_count": null,
   "id": "e18204de",
   "metadata": {},
   "outputs": [],
   "source": [
    "visualize_transition(qc) # 블로흐 구 애니메이션 만들기"
   ]
  },
  {
   "cell_type": "markdown",
   "id": "a0960fb9",
   "metadata": {},
   "source": [
    "$|1\\rangle$상태의 큐비트에 Rz 게이트 [Q-sphere]\n",
    "\n",
    "![rz-gate2](./figure/q-sphere_rz-gate2.png)\n",
    "\n",
    "#### 수학적 표현\n",
    "$$ R_z(\\theta) = \\begin{pmatrix} e^{-i\\frac{\\theta}{2}} & 0 \\\\\n",
    "0 & e^{i\\frac{\\theta}{2}} \\end{pmatrix}$$\n",
    "\n",
    "### 예제 1: $Rx(\\pi) = -iX$\n",
    "#### $Rx(\\pi)$"
   ]
  },
  {
   "cell_type": "code",
   "execution_count": null,
   "id": "3bd096b7",
   "metadata": {},
   "outputs": [],
   "source": [
    "qc=QuantumCircuit(1) #1개의 큐비트를 가진 양자회로 만들기\n",
    "qc.rx(pi,0) #Rx 게이트를 넣어 큐비트 0에 pi만큼 회전시키기\n",
    "backend = Aer.get_backend('unitary_simulator') #unitary simulator를 사용하는 backend를 만들기\n",
    "job = execute(qc, backend) #양자회로를 실행시키기\n",
    "result = job.result() #실행 결과를 가져오기\n",
    "\n",
    "print(result.get_unitary(qc, decimals=3)) #단위 행렬을 출력하기"
   ]
  },
  {
   "cell_type": "code",
   "execution_count": null,
   "id": "7905ce6d",
   "metadata": {},
   "outputs": [],
   "source": [
    "state23 = execute(qc, StatevectorSimulator()).result().get_statevector() # 상태 벡터 시뮬레이션에 양자회로를 넣어 실행시키기\n",
    "Statevector(state23).draw(output='latex') #latex 형태로 상태 벡터 출력하기"
   ]
  },
  {
   "cell_type": "code",
   "execution_count": null,
   "id": "70afed96",
   "metadata": {},
   "outputs": [],
   "source": [
    "visualize_transition(qc) # 블로흐 구 애니메이션 만들기"
   ]
  },
  {
   "cell_type": "markdown",
   "id": "cec2c754",
   "metadata": {},
   "source": [
    "#### $-iX$"
   ]
  },
  {
   "cell_type": "code",
   "execution_count": null,
   "id": "35fa95db",
   "metadata": {},
   "outputs": [],
   "source": [
    "qc=QuantumCircuit(1) #1개의 큐비트를 가진 양자회로 만들기\n",
    "qc.x(0) #X 게이트를 넣어 큐비트 0에 더하기\n",
    "backend = Aer.get_backend('unitary_simulator') #unitary simulator를 사용하는 backend를 만들기\n",
    "job = execute(qc, backend) #양자회로를 실행시키기\n",
    "result = job.result() #실행 결과를 가져오기\n",
    "\n",
    "print(result.get_unitary(qc, decimals=3)) #단위 행렬을 출력하기"
   ]
  },
  {
   "cell_type": "code",
   "execution_count": null,
   "id": "b2e15611",
   "metadata": {},
   "outputs": [],
   "source": [
    "state24 = execute(qc, StatevectorSimulator()).result().get_statevector() # 상태 벡터 시뮬레이션에 양자회로를 넣어 실행시키기\n",
    "Statevector(state24).draw(output='latex') #latex 형태로 상태 벡터 출력하기"
   ]
  },
  {
   "cell_type": "code",
   "execution_count": null,
   "id": "e39e5ddb",
   "metadata": {},
   "outputs": [],
   "source": [
    "state25 = -1j * state24\n",
    "Statevector(state25).draw(output='latex') #latex 형태로 상태 벡터 출력하기"
   ]
  },
  {
   "cell_type": "markdown",
   "id": "381c4a7e",
   "metadata": {},
   "source": [
    "### 예제 2: $Ry(\\pi) = -iY$\n",
    "#### $Ry(\\pi)$"
   ]
  },
  {
   "cell_type": "code",
   "execution_count": null,
   "id": "6c346e03",
   "metadata": {},
   "outputs": [],
   "source": [
    "qc=QuantumCircuit(1) #1개의 큐비트를 가진 양자회로 만들기\n",
    "qc.ry(pi,0) #Ry 게이트를 넣어 큐비트 0에 pi만큼 회전시키기\n",
    "backend = Aer.get_backend('unitary_simulator') #unitary simulator를 사용하는 backend를 만들기\n",
    "job = execute(qc, backend) #양자회로를 실행시키기\n",
    "result = job.result() #실행 결과를 가져오기\n",
    "\n",
    "print(result.get_unitary(qc, decimals=3)) #단위 행렬을 출력하기"
   ]
  },
  {
   "cell_type": "code",
   "execution_count": null,
   "id": "add0995d",
   "metadata": {},
   "outputs": [],
   "source": [
    "state26 = execute(qc, StatevectorSimulator()).result().get_statevector() # 상태 벡터 시뮬레이션에 양자회로를 넣어 실행시키기\n",
    "Statevector(state26).draw(output='latex') #latex 형태로 상태 벡터 출력하기"
   ]
  },
  {
   "cell_type": "code",
   "execution_count": null,
   "id": "0dd2e755",
   "metadata": {},
   "outputs": [],
   "source": [
    "visualize_transition(qc) # 블로흐 구 애니메이션 만들기"
   ]
  },
  {
   "cell_type": "markdown",
   "id": "127eb967",
   "metadata": {},
   "source": [
    "#### $-iY$"
   ]
  },
  {
   "cell_type": "code",
   "execution_count": null,
   "id": "9036239b",
   "metadata": {},
   "outputs": [],
   "source": [
    "qc=QuantumCircuit(1) #1개의 큐비트를 가진 양자회로 만들기\n",
    "qc.y(0) #Y 게이트를 넣어 큐비트 0에 더하기\n",
    "backend = Aer.get_backend('unitary_simulator') #unitary simulator를 사용하는 backend를 만들기\n",
    "job = execute(qc, backend) #양자회로를 실행시키기\n",
    "result = job.result() #실행 결과를 가져오기\n",
    "\n",
    "print(result.get_unitary(qc, decimals=3)) #단위 행렬을 출력하기"
   ]
  },
  {
   "cell_type": "code",
   "execution_count": null,
   "id": "df89f9ed",
   "metadata": {},
   "outputs": [],
   "source": [
    "state27 = execute(qc, StatevectorSimulator()).result().get_statevector() # 상태 벡터 시뮬레이션에 양자회로를 넣어 실행시키기\n",
    "Statevector(state27).draw(output='latex') #latex 형태로 상태 벡터 출력하기"
   ]
  },
  {
   "cell_type": "code",
   "execution_count": null,
   "id": "4fb393ef",
   "metadata": {},
   "outputs": [],
   "source": [
    "state28 = -1j * state27\n",
    "Statevector(state28).draw(output='latex') #latex 형태로 상태 벡터 출력하기"
   ]
  },
  {
   "cell_type": "markdown",
   "id": "bc513c45",
   "metadata": {},
   "source": [
    "### 예제 3: $Rz(\\pi) = -iZ$\n",
    "#### $Rz(\\pi)$"
   ]
  },
  {
   "cell_type": "code",
   "execution_count": null,
   "id": "ca7cbdfb",
   "metadata": {},
   "outputs": [],
   "source": [
    "qc=QuantumCircuit(1) #1개의 큐비트를 가진 양자회로 만들기\n",
    "qc.rz(pi,0) #Rz 게이트를 넣어 큐비트 0에 pi만큼 회전시키기\n",
    "backend = Aer.get_backend('unitary_simulator') #unitary simulator를 사용하는 backend를 만들기\n",
    "job = execute(qc, backend) #양자회로를 실행시키기\n",
    "result = job.result() #실행 결과를 가져오기\n",
    "\n",
    "print(result.get_unitary(qc, decimals=3)) #단위 행렬을 출력하기"
   ]
  },
  {
   "cell_type": "code",
   "execution_count": null,
   "id": "ac97ef6b",
   "metadata": {},
   "outputs": [],
   "source": [
    "state29 = execute(qc, StatevectorSimulator()).result().get_statevector() # 상태 벡터 시뮬레이션에 양자회로를 넣어 실행시키기\n",
    "Statevector(state29).draw(output='latex') #latex 형태로 상태 벡터 출력하기"
   ]
  },
  {
   "cell_type": "code",
   "execution_count": null,
   "id": "936ca1be",
   "metadata": {},
   "outputs": [],
   "source": [
    "visualize_transition(qc) # 블로흐 구 애니메이션 만들기"
   ]
  },
  {
   "cell_type": "markdown",
   "id": "179cbcc7",
   "metadata": {},
   "source": [
    "#### $-iZ$"
   ]
  },
  {
   "cell_type": "code",
   "execution_count": null,
   "id": "2e26b5b6",
   "metadata": {},
   "outputs": [],
   "source": [
    "qc=QuantumCircuit(1) #1개의 큐비트를 가진 양자회로 만들기\n",
    "qc.z(0) #Z 게이트를 넣어 큐비트 0에 더하기\n",
    "backend = Aer.get_backend('unitary_simulator') #unitary simulator를 사용하는 backend를 만들기\n",
    "job = execute(qc, backend) #양자회로를 실행시키기\n",
    "result = job.result() #실행 결과를 가져오기\n",
    "\n",
    "print(result.get_unitary(qc, decimals=3)) #단위 행렬을 출력하기"
   ]
  },
  {
   "cell_type": "code",
   "execution_count": null,
   "id": "d5f3466d",
   "metadata": {},
   "outputs": [],
   "source": [
    "state30 = execute(qc, StatevectorSimulator()).result().get_statevector() # 상태 벡터 시뮬레이션에 양자회로를 넣어 실행시키기\n",
    "Statevector(state30).draw(output='latex') #latex 형태로 상태 벡터 출력하기"
   ]
  },
  {
   "cell_type": "code",
   "execution_count": null,
   "id": "cdd187b7",
   "metadata": {},
   "outputs": [],
   "source": [
    "state31 = -1j * state30\n",
    "Statevector(state31).draw(output='latex') #latex 형태로 상태 벡터 출력하기"
   ]
  },
  {
   "cell_type": "markdown",
   "id": "aa2f68d7",
   "metadata": {},
   "source": [
    "## 7. U 게이트\n",
    "U 게이트는 3개의 오일러 각을 통해 단일 큐비트 회전을 한다. U 게이트는 파라메터화된 게이트이며 수학적 표현은 아래와 동일하다\n",
    "\n",
    "$$ U(\\theta, \\phi, \\lambda) = \\begin{pmatrix} \\cos{(\\frac{\\theta}{2})} & -e^{i\\lambda}\\sin{(\\frac{\\theta}{2})} \\\\\n",
    "e^{i\\phi}\\sin{(\\frac{\\theta}{2})} & e^{i(\\phi+\\lambda)}\\cos{(\\frac{\\theta}{2})} \\end{pmatrix}$$\n",
    "\n",
    "### $U(\\frac{\\pi}{2},\\frac{\\pi}{2},\\frac{\\pi}{2})$ 게이트"
   ]
  },
  {
   "cell_type": "code",
   "execution_count": null,
   "id": "50a4dc7a",
   "metadata": {},
   "outputs": [],
   "source": [
    "qc = QuantumCircuit(1) #1개의 큐비트를 가진 양자회로 만들기\n",
    "qc.u(pi/2,pi/2,pi/2,0) #U 게이트를 넣어 큐비트 0에 theta=pi/2, phi=pi/2, lambda=pi/2만큼 회전시키기\n",
    "qc.draw(output=\"mpl\") #mpl 형태로 양자회로 출력하기"
   ]
  },
  {
   "cell_type": "code",
   "execution_count": null,
   "id": "d60f6d1c",
   "metadata": {},
   "outputs": [],
   "source": [
    "backend = Aer.get_backend('unitary_simulator') #unitary simulator를 사용하는 backend를 만들기\n",
    "\n",
    "job = execute(qc, backend) #양자회로를 실행시키기\n",
    "result = job.result() #실행 결과를 가져오기\n",
    "Ugate_unitary=result.get_unitary(qc, decimals=3) #단위 행렬 만들기\n",
    "print(Ugate_unitary) #단위 행렬을 출력하기"
   ]
  },
  {
   "cell_type": "code",
   "execution_count": null,
   "id": "95292268",
   "metadata": {},
   "outputs": [],
   "source": [
    "Ugate_unitary.data #단위 행렬 오퍼레이트에서 행렬만 출력하기"
   ]
  },
  {
   "cell_type": "code",
   "execution_count": null,
   "id": "123ea6b0",
   "metadata": {},
   "outputs": [],
   "source": [
    "array_to_latex(Ugate_unitary) #단위 행렬을 latex 형태로 변환하기"
   ]
  },
  {
   "cell_type": "markdown",
   "id": "789bf2a8",
   "metadata": {},
   "source": [
    "### $U(\\frac{\\pi}{2},0,\\pi)$ 게이트 - 큐비트 중첩 상태 만들기"
   ]
  },
  {
   "cell_type": "code",
   "execution_count": null,
   "id": "adcc892f",
   "metadata": {},
   "outputs": [],
   "source": [
    "qc = QuantumCircuit(1) #1개의 큐비트를 가진 양자회로 만들기\n",
    "qc.u(pi/2,0,pi,0) #U 게이트를 넣어 큐비트 0에 theta=pi/2, phi=0, lambda=pi만큼 회전시키기\n",
    "qc.draw(output=\"mpl\") #mpl 형태로 양자회로 출력하기"
   ]
  },
  {
   "cell_type": "code",
   "execution_count": null,
   "id": "3aa2b201",
   "metadata": {},
   "outputs": [],
   "source": [
    "job = execute(qc, backend) #양자회로를 실행시키기\n",
    "result = job.result() #실행 결과를 가져오기\n",
    "Ugate_unitary=result.get_unitary(qc, decimals=3) #단위 행렬 만들기\n",
    "print(Ugate_unitary) #단위 행렬을 출력하기"
   ]
  },
  {
   "cell_type": "code",
   "execution_count": null,
   "id": "7bc0b356",
   "metadata": {},
   "outputs": [],
   "source": [
    "array_to_latex(Ugate_unitary) #단위 행렬을 latex 형태로 변환하기"
   ]
  },
  {
   "cell_type": "markdown",
   "id": "8f880a9b",
   "metadata": {},
   "source": [
    "위의 단위 행렬은 하다마드 게이트의 단위 행렬과 동일하다"
   ]
  },
  {
   "cell_type": "code",
   "execution_count": null,
   "id": "031a85a2",
   "metadata": {},
   "outputs": [],
   "source": [
    "qc = QuantumCircuit(1) #1개의 큐비트를 가진 양자회로 만들기\n",
    "qc.h(0) #H 게이트를 넣어 큐비트 0에 더하기\n",
    "qc.draw(output=\"mpl\") #mpl 형태로 양자회로 출력하기"
   ]
  },
  {
   "cell_type": "code",
   "execution_count": null,
   "id": "35aab600",
   "metadata": {},
   "outputs": [],
   "source": [
    "job = execute(qc, backend) #양자회로를 실행시키기\n",
    "result = job.result() #실행 결과를 가져오기\n",
    "Hgate_unitary=result.get_unitary(qc, decimals=3) #단위 행렬 만들기\n",
    "print(Hgate_unitary) #단위 행렬을 출력하기"
   ]
  },
  {
   "cell_type": "code",
   "execution_count": null,
   "id": "55f388fd",
   "metadata": {},
   "outputs": [],
   "source": [
    "array_to_latex(Ugate_unitary) #단위 행렬을 latex 형태로 변환하기"
   ]
  },
  {
   "cell_type": "markdown",
   "id": "627f6fc9",
   "metadata": {},
   "source": [
    "### $U(0,0,\\lambda)$ 게이트 - P 게이트 만들기"
   ]
  },
  {
   "cell_type": "code",
   "execution_count": null,
   "id": "7014b43c",
   "metadata": {},
   "outputs": [],
   "source": [
    "qc = QuantumCircuit(1) #1개의 큐비트를 가진 양자회로 만들기\n",
    "qc.u(0,0,pi/2,0) #U 게이트를 넣어 큐비트 0에 theta=0, phi=0, lambda=pi/2만큼 회전시키기\n",
    "qc.draw(output=\"mpl\") #mpl 형태로 양자회로 출력하기"
   ]
  },
  {
   "cell_type": "code",
   "execution_count": null,
   "id": "ffac88ba",
   "metadata": {},
   "outputs": [],
   "source": [
    "job = execute(qc, backend) #양자회로를 실행시키기\n",
    "result = job.result() #실행 결과를 가져오기\n",
    "Ugate_unitary=result.get_unitary(qc, decimals=3) #단위 행렬 만들기\n",
    "print(Ugate_unitary) #단위 행렬을 출력하기"
   ]
  },
  {
   "cell_type": "code",
   "execution_count": null,
   "id": "99629ce6",
   "metadata": {},
   "outputs": [],
   "source": [
    "array_to_latex(Ugate_unitary) #단위 행렬을 latex 형태로 변환하기"
   ]
  },
  {
   "cell_type": "markdown",
   "id": "b45c1a67",
   "metadata": {},
   "source": [
    "### $U(\\theta,0,0)$ 게이트 - $RY(\\theta)$ 게이트 만들기"
   ]
  },
  {
   "cell_type": "code",
   "execution_count": null,
   "id": "ecbbd8ac",
   "metadata": {},
   "outputs": [],
   "source": [
    "from qiskit.quantum_info import Operator #Operator 모듈을 불러오기\n",
    "from qiskit.extensions import * #UGate, HGate와 같이 게이트 이름들을 사용하여 해당 게이틀을 불러올 수 있게 라이브러리를 추가하기"
   ]
  },
  {
   "cell_type": "code",
   "execution_count": null,
   "id": "bb352311",
   "metadata": {},
   "outputs": [],
   "source": [
    "array_to_latex(Operator(UGate(pi/2,0,0)).data) #U 게이트 정보 중 단위행렬을 latex로 출력하기"
   ]
  },
  {
   "cell_type": "code",
   "execution_count": null,
   "id": "677c09da",
   "metadata": {},
   "outputs": [],
   "source": [
    "array_to_latex(Operator(RYGate(pi/2)).data) #RY 게이트 정보 중 단위행렬을 latex로 출력하기"
   ]
  },
  {
   "cell_type": "markdown",
   "id": "e94f90a8",
   "metadata": {},
   "source": [
    "### $U(\\theta,-\\frac{\\pi}{2},\\frac{\\pi}{2})$ 게이트 - $RX(\\theta)$ 게이트 만들기"
   ]
  },
  {
   "cell_type": "code",
   "execution_count": null,
   "id": "b31c6b10",
   "metadata": {},
   "outputs": [],
   "source": [
    "array_to_latex(Operator(UGate(0,pi/2,-pi/2)).data) #U 게이트 정보 중 단위행렬을 latex로 출력하기"
   ]
  },
  {
   "cell_type": "code",
   "execution_count": null,
   "id": "3fd720c1",
   "metadata": {},
   "outputs": [],
   "source": [
    "array_to_latex(Operator(RXGate(0)).data) #RX 게이트 정보 중 단위행렬을 latex로 출력하기"
   ]
  },
  {
   "cell_type": "markdown",
   "id": "49b0b756",
   "metadata": {},
   "source": [
    "\n",
    "## 8. IBM Quantum Composer\n",
    "IBM Quantum Composer은 그래픽적인 양자 프로그래밍 도구이며 큐비트에 원하는 게이트를 끌어놓는 형식으로 양자 회로를 만들어 시뮬레이터나 실제 양자 장치에 실행해 볼 수 있습니다. 각각의 게이트가 각 큐비트의 상태에서 어떻게 변화하는지 IBM Quantum Composer을 가지고 놀아보면 게이트들과 친숙해지기 수월해집니다.\n",
    "[IBM Quantum Composer](https://quantum-computing.ibm.com/composer)\n",
    "\n",
    "[![ibm quantum composer.gif](figure/ibm_quantum_composer.gif)](https://quantum-computing.ibm.com/composer)"
   ]
  },
  {
   "cell_type": "markdown",
   "id": "65746e22",
   "metadata": {},
   "source": [
    "유용한 사이트:\n",
    "Operations glossary: https://quantum-computing.ibm.com/composer/docs/iqx/operations_glossary#rxx-gate"
   ]
  },
  {
   "cell_type": "code",
   "execution_count": null,
   "id": "a8de67b7",
   "metadata": {},
   "outputs": [],
   "source": [
    "import qiskit.tools.jupyter\n",
    "%qiskit_version_table #qiskit 버전 표시하기"
   ]
  },
  {
   "cell_type": "code",
   "execution_count": null,
   "id": "a5233b96",
   "metadata": {},
   "outputs": [],
   "source": []
  }
 ],
 "metadata": {
  "kernelspec": {
   "display_name": "Python 3 (ipykernel)",
   "language": "python",
   "name": "python3"
  },
  "language_info": {
   "codemirror_mode": {
    "name": "ipython",
    "version": 3
   },
   "file_extension": ".py",
   "mimetype": "text/x-python",
   "name": "python",
   "nbconvert_exporter": "python",
   "pygments_lexer": "ipython3",
   "version": "3.10.11"
  },
  "vscode": {
   "interpreter": {
    "hash": "fc63881882a49a14609b8cdb87dbfd9578c75915292c9f5447709d79ffb2b4e8"
   }
  }
 },
 "nbformat": 4,
 "nbformat_minor": 5
}
