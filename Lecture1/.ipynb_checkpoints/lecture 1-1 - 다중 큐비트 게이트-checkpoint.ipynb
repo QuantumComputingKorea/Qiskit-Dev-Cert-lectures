{
 "cells": [
  {
   "cell_type": "markdown",
   "metadata": {},
   "source": [
    "# Lecture 1 - 게이트와 양자 회로\n",
    "# 1-1 다중 큐비트 상태와 다중 큐비트 게이트\n",
    "## 1. 다중 큐비트 상태\n",
    "한개의 큐비트가 두가지의 상태를 나타낼 수 있는것처럼 두개의 큐비트는 아래와 같이 4가지의 상태를 나타낼 수 있습니다. 따라서 n개의 큐비트가 있다면 $2^n$가지의 상태를 나타낼 수 있습니다.\n",
    "\n",
    "```00 01 10 11```\n",
    "\n",
    "우선 두개의 큐비트를 설명하려면 4개의 복소 진폭(complex amplitude)가 필요합니다. 이러한 진폭들은 4차원의 벡터에 아래와 같이 표현할 수 있습니다.\n",
    "\n",
    "$$ |a\\rangle = a_{00}|00\\rangle + a_{01}|01\\rangle + a_{10}|10\\rangle + a_{11}|11\\rangle = \\begin{bmatrix} a_{00} \\\\\n",
    "a_{01} \\\\ a_{10} \\\\ a_{11} \\end{bmatrix} $$\n",
    "\n",
    "만약 두개의 큐비트가 분리되서 표현이 되었을때 이 두개의 큐비트를 크로네커 곱(kronecker product)을 사용하여 표현할 수 있습니다.\n",
    "\n",
    "$$ |a\\rangle = \\begin{bmatrix} a_o \\\\ a_1 \\end{bmatrix} \\quad |b\\rangle = \\begin{bmatrix} b_0 \\\\ b_1 \\end{bmatrix} $$\n",
    "\n",
    "$$ |ba\\rangle = |b\\rangle \\otimes |a\\rangle = \\begin{bmatrix} b_0 \\times \\begin{bmatrix} a_0 \\\\ a_1 \\end{bmatrix} \\\\\n",
    "b_1 \\times \\begin{bmatrix} a_0 \\\\ a_1 \\end{bmatrix} \\end{bmatrix} = \\begin{bmatrix} b_0a_0 \\\\ b_0a_1 \\\\ b_1a_0 \\\\ b_1a_1 \\end{bmatrix} $$\n",
    "\n",
    "위의 표현과 같이 크로네커 곱을 이용하여 여러개의 큐비트를 표현할 수 있습니다. 아래는 3개의 큐비트를 설명하는 벡터입니다.\n",
    "\n",
    "$$ |cba\\rangle = \\begin{bmatrix} c_0b_0a_0 \\\\ c_0b_0a_1 \\\\ c_0b_1a_0 \\\\ c_0b_1a_1 \\\\ c_1b_0a_0 \\\\ c_1b_0a_1 \\\\ c_1b_1a_0 \\\\ c_1b_1a_1 \\end{bmatrix} $$\n",
    "\n",
    "다중 큐비트의 상태를 표현할때 Qiskit에서는 아래와 같이 표현합니다\n",
    "\n",
    "$$|MSB \\cdots LSB\\rangle, \\quad i.e. \\quad |q5,q4,q3,q2,q1,q0\\rangle, \\quad |q2,q1,q0\\rangle $$\n",
    "\n",
    "MSB = Most Significant Bit\n",
    "\n",
    "LSB = Least Significant Bit\n",
    "\n",
    "\n",
    "이번 장에서 다중 게이트의 사용과 다중 큐비트의 양자 회로을 output으로부터 개념을 이해해봅시다. \n",
    "\n",
    "게이트와 양자회로를 그리기 위해 Python 라이브러리인 Qiskit을 불러오겠습니다"
   ]
  },
  {
   "cell_type": "code",
   "execution_count": 1,
   "metadata": {},
   "outputs": [],
   "source": [
    "from qiskit import * #qiskit 전체 라이브러리 불러오기\n",
    "from qiskit.providers.aer import StatevectorSimulator #StatevectorSimulator를 사용하여 양자회로의 최종 양자 statevector을 구할수 있음\n",
    "\n",
    "from math import pi, sqrt #math 라이브러리에서 pi와 sqrt 불러오기\n",
    "from qiskit.visualization import * #양자상태를 시각화 하기 위해 qiskit.visualization 불러오기"
   ]
  },
  {
   "cell_type": "markdown",
   "metadata": {},
   "source": [
    "### 예제 1 - 0번 큐비트에 $X$ 게이트 추가하기"
   ]
  },
  {
   "cell_type": "code",
   "execution_count": 2,
   "metadata": {},
   "outputs": [
    {
     "data": {
      "image/png": "[encoded data removed]",
      "text/plain": [
       "<Figure size 203.683x200.667 with 1 Axes>"
      ]
     },
     "execution_count": 2,
     "metadata": {},
     "output_type": "execute_result"
    }
   ],
   "source": [
    "qc=QuantumCircuit(2) #2개의 qubit을 가진 양자 회로 만들기\n",
    "qc.x(0) #0번 큐비트에 X 게이트 추가\n",
    "qc.draw(output=\"mpl\") #양자 회로 시각화"
   ]
  },
  {
   "cell_type": "code",
   "execution_count": 3,
   "metadata": {},
   "outputs": [
    {
     "data": {
      "text/latex": [
       "$$ |01\\rangle$$"
      ],
      "text/plain": [
       "<IPython.core.display.Latex object>"
      ]
     },
     "execution_count": 3,
     "metadata": {},
     "output_type": "execute_result"
    }
   ],
   "source": [
    "state0 = execute(qc, StatevectorSimulator()).result().get_statevector() # 시뮬레이션에 양자회로를 넣어 실행시키기\n",
    "state0.draw(output=\"latex\") #시뮬레이션 결과를 latex 형식으로 출력하기"
   ]
  },
  {
   "cell_type": "markdown",
   "metadata": {},
   "source": [
    "### 예제 2 - 1번 큐비트에 하다마드 게이트 추가하기"
   ]
  },
  {
   "cell_type": "code",
   "execution_count": 4,
   "metadata": {},
   "outputs": [
    {
     "data": {
      "image/png": "[encoded data removed]",
      "text/plain": [
       "<Figure size 203.683x200.667 with 1 Axes>"
      ]
     },
     "execution_count": 4,
     "metadata": {},
     "output_type": "execute_result"
    }
   ],
   "source": [
    "qc=QuantumCircuit(2) #2개의 qubit을 가진 양자 회로 만들기\n",
    "qc.h(1) #1번 큐비트에 H 게이트 추가\n",
    "qc.draw(output=\"mpl\") #양자 회로 시각화"
   ]
  },
  {
   "cell_type": "code",
   "execution_count": 5,
   "metadata": {},
   "outputs": [
    {
     "data": {
      "text/latex": [
       "$$\\frac{\\sqrt{2}}{2} |00\\rangle+\\frac{\\sqrt{2}}{2} |10\\rangle$$"
      ],
      "text/plain": [
       "<IPython.core.display.Latex object>"
      ]
     },
     "execution_count": 5,
     "metadata": {},
     "output_type": "execute_result"
    }
   ],
   "source": [
    "state1 = execute(qc, StatevectorSimulator()).result().get_statevector() # 시뮬레이션에 양자회로를 넣어 실행시키기\n",
    "state1.draw(output=\"latex\") #시뮬레이션 결과를 latex 형식으로 출력하기"
   ]
  },
  {
   "cell_type": "markdown",
   "metadata": {},
   "source": [
    "## 2-큐비트 게이트\n",
    "### 제어 게이트 (Controlled Gates)\n",
    "### 1. $CX$ 게이트\n",
    "\n",
    "CX 게이트는 $cx(control, target)$과 같은 문법으로 사용이 되며 control 큐비트의 상태에 따라 target 큐비트의 결과값에 영향을 주는 조건부 게이트입니다. control 큐비트의 상태가 $|1\\rangle$이면 target 큐비트에 X-게이트를 실행합니다. 하지만 control 큐비트의 상태가 $|0\\rangle$인 경우에는 target 큐비트에 어떠한 변화도 가하지 않습니다.\n",
    "\n",
    "#### 경우 1: $q0$가 control 큐비트이며 $q1$이 target 큐비트일때"
   ]
  },
  {
   "cell_type": "code",
   "execution_count": 6,
   "metadata": {},
   "outputs": [
    {
     "data": {
      "image/png": "[encoded data removed]",
      "text/plain": [
       "<Figure size 203.683x200.667 with 1 Axes>"
      ]
     },
     "execution_count": 6,
     "metadata": {},
     "output_type": "execute_result"
    }
   ],
   "source": [
    "qc=QuantumCircuit(2) #2개의 큐비트를 가진 양자 회로 만들기\n",
    "qc.cx(0,1) #0번 큐비트에 control 큐비트로 지정하며 1번 큐비트를 target 큐비트로 지정하는 CX 게이트를 추가\n",
    "qc.draw(output=\"mpl\") #양자 회로 시각화"
   ]
  },
  {
   "cell_type": "code",
   "execution_count": 7,
   "metadata": {},
   "outputs": [
    {
     "name": "stdout",
     "output_type": "stream",
     "text": [
      "Operator([[1.+0.j, 0.+0.j, 0.+0.j, 0.+0.j],\n",
      "          [0.+0.j, 0.+0.j, 0.+0.j, 1.+0.j],\n",
      "          [0.+0.j, 0.+0.j, 1.+0.j, 0.+0.j],\n",
      "          [0.+0.j, 1.+0.j, 0.+0.j, 0.+0.j]],\n",
      "         input_dims=(2, 2), output_dims=(2, 2))\n"
     ]
    }
   ],
   "source": [
    "backend = Aer.get_backend('unitary_simulator') #unitary_simulator를 사용하여 양자회로를 시뮬레이션하기\n",
    "\n",
    "job = execute(qc, backend) #양자회로를 시뮬레이션하기\n",
    "result = job.result() #시뮬레이션 결과를 가져오기\n",
    "print(result.get_unitary(qc, decimals=3)) #시뮬레이션 결과를 출력하기"
   ]
  },
  {
   "cell_type": "markdown",
   "metadata": {},
   "source": [
    "#### 경우 2: $q1$가 control 큐비트이며 $q0$이 target 큐비트일때"
   ]
  },
  {
   "cell_type": "code",
   "execution_count": 8,
   "metadata": {},
   "outputs": [
    {
     "data": {
      "image/png": "[encoded data removed]",
      "text/plain": [
       "<Figure size 203.683x200.667 with 1 Axes>"
      ]
     },
     "execution_count": 8,
     "metadata": {},
     "output_type": "execute_result"
    }
   ],
   "source": [
    "qc=QuantumCircuit(2) #2개의 큐비트를 가진 양자 회로 만들기\n",
    "qc.cx(1,0) #1번 큐비트에 control 큐비트로 지정하며 0번 큐비트를 target 큐비트로 지정하는 CX 게이트를 추가\n",
    "qc.draw(output=\"mpl\") #양자 회로 시각화"
   ]
  },
  {
   "cell_type": "code",
   "execution_count": 9,
   "metadata": {},
   "outputs": [
    {
     "name": "stdout",
     "output_type": "stream",
     "text": [
      "Operator([[1.+0.j, 0.+0.j, 0.+0.j, 0.+0.j],\n",
      "          [0.+0.j, 1.+0.j, 0.+0.j, 0.+0.j],\n",
      "          [0.+0.j, 0.+0.j, 0.+0.j, 1.+0.j],\n",
      "          [0.+0.j, 0.+0.j, 1.+0.j, 0.+0.j]],\n",
      "         input_dims=(2, 2), output_dims=(2, 2))\n"
     ]
    }
   ],
   "source": [
    "backend = Aer.get_backend('unitary_simulator') #unitary_simulator를 사용하여 양자회로를 시뮬레이션하기\n",
    " \n",
    "job = execute(qc, backend) #양자회로를 시뮬레이션하기\n",
    "result = job.result() #시뮬레이션 결과를 가져오기\n",
    "print(result.get_unitary(qc, decimals=3)) #시뮬레이션 결과를 출력하기"
   ]
  },
  {
   "cell_type": "markdown",
   "metadata": {},
   "source": [
    "#### target 큐비트의 상태가 $|0\\rangle$일때 $CX$ 게이트의 작동"
   ]
  },
  {
   "cell_type": "code",
   "execution_count": 10,
   "metadata": {},
   "outputs": [
    {
     "data": {
      "image/png": "[encoded data removed]",
      "text/plain": [
       "<Figure size 203.683x200.667 with 1 Axes>"
      ]
     },
     "execution_count": 10,
     "metadata": {},
     "output_type": "execute_result"
    }
   ],
   "source": [
    "qc=QuantumCircuit(2) #2개의 큐비트를 가진 양자 회로 만들기\n",
    "qc.cx(0,1) #0번 큐비트에 control 큐비트로 지정하며 1번 큐비트를 target 큐비트로 지정하는 CX 게이트를 추가\n",
    "qc.draw(output=\"mpl\") #양자 회로 시각화"
   ]
  },
  {
   "cell_type": "code",
   "execution_count": 11,
   "metadata": {},
   "outputs": [
    {
     "data": {
      "text/latex": [
       "$$ |00\\rangle$$"
      ],
      "text/plain": [
       "<IPython.core.display.Latex object>"
      ]
     },
     "execution_count": 11,
     "metadata": {},
     "output_type": "execute_result"
    }
   ],
   "source": [
    "state2 = execute(qc, StatevectorSimulator()).result().get_statevector() # 시뮬레이션에 양자회로를 넣어 실행시키기\n",
    "state2.draw(output=\"latex\") #시뮬레이션 결과를 latex 형식으로 출력하기"
   ]
  },
  {
   "cell_type": "markdown",
   "metadata": {},
   "source": [
    "###### $|0\\rangle$상태의 control 큐비트에 CX-게이트 [Q-sphere]\n",
    "\n",
    "![cx-gate](./figure/q-sphere_cx-gate.png)\n",
    "\n",
    "#### target 큐비트의 상태가 $|1\\rangle$일때 $CX$ 게이트의 작동"
   ]
  },
  {
   "cell_type": "code",
   "execution_count": 12,
   "metadata": {},
   "outputs": [
    {
     "data": {
      "image/png": "[encoded data removed]",
      "text/plain": [
       "<Figure size 287.294x200.667 with 1 Axes>"
      ]
     },
     "execution_count": 12,
     "metadata": {},
     "output_type": "execute_result"
    }
   ],
   "source": [
    "qc=QuantumCircuit(2) #2개의 큐비트를 가진 양자 회로 만들기\n",
    "qc.x(0) #0번 큐비트에 X 게이트 추가하여 |1> 상태 만들기\n",
    "qc.cx(0,1) #0번 큐비트에 control 큐비트로 지정하며 1번 큐비트를 target 큐비트로 지정하는 CX 게이트를 추가\n",
    "qc.draw(output=\"mpl\") #양자 회로 시각화"
   ]
  },
  {
   "cell_type": "code",
   "execution_count": 13,
   "metadata": {},
   "outputs": [
    {
     "data": {
      "text/latex": [
       "$$ |11\\rangle$$"
      ],
      "text/plain": [
       "<IPython.core.display.Latex object>"
      ]
     },
     "execution_count": 13,
     "metadata": {},
     "output_type": "execute_result"
    }
   ],
   "source": [
    "state3 = execute(qc, StatevectorSimulator()).result().get_statevector() # 시뮬레이션에 양자회로를 넣어 실행시키기\n",
    "state3.draw(output=\"latex\") #시뮬레이션 결과를 latex 형식으로 출력하기"
   ]
  },
  {
   "cell_type": "markdown",
   "metadata": {},
   "source": [
    "###### $|1\\rangle$상태의 control 큐비트에 CX-게이트 [Q-sphere]\n",
    "\n",
    "![cx-gate2](./figure/q-sphere_cx-gate2.png)\n",
    "\n",
    "#### 수학적 표현\n",
    "\n",
    "$$ CX_{q_0,q_1} = I \\otimes |0\\rangle\\langle0| + X \\otimes |1\\rangle\\langle1| = \\begin{pmatrix} 1 & 0 & 0 & 0 \\\\\n",
    "0 & 0 & 0 & 1 \\\\ 0 & 0 & 1 & 0 \\\\ 0 & 1 & 0 & 0 \\end{pmatrix} $$\n",
    "\n",
    "$$ CX_{q_1,q_0} = |0\\rangle\\langle0| \\otimes I + |1\\rangle\\langle1| \\otimes X  = \\begin{pmatrix} 1 & 0 & 0 & 0 \\\\\n",
    "0 & 1 & 0 & 0 \\\\ 0 & 0 & 0 & 1 \\\\ 0 & 0 & 1 & 0 \\end{pmatrix} $$\n",
    "\n",
    "이러한 CX 게이트의 특성은 고전 회로의 XOR 게이트와 유사합니다.\n",
    "\n",
    "### 2. $CY$ 게이트\n",
    "\n",
    "CY 게이트는 $cy(control, target)$과 같은 문법으로 사용이 되며 control 큐비트의 상태에 따라 target 큐비트의 결과값에 영향을 주는 조건부 게이트입니다. control 큐비트의 상태가 $|1\\rangle$이면 target 큐비트에 Y-게이트를 실행합니다. 하지만 control 큐비트의 상태가 $|0\\rangle$인 경우에는 target 큐비트에 어떠한 변화도 가하지 않습니다.\n",
    "\n",
    "#### target 큐비트의 상태가 $|0\\rangle$일때 $CY$ 게이트의 작동"
   ]
  },
  {
   "cell_type": "code",
   "execution_count": 14,
   "metadata": {},
   "outputs": [
    {
     "data": {
      "image/png": "[encoded data removed]",
      "text/plain": [
       "<Figure size 203.683x200.667 with 1 Axes>"
      ]
     },
     "execution_count": 14,
     "metadata": {},
     "output_type": "execute_result"
    }
   ],
   "source": [
    "qc=QuantumCircuit(2) #2개의 큐비트를 가진 양자 회로 만들기\n",
    "qc.cy(0,1) #0번 큐비트에 control 큐비트로 지정하며 1번 큐비트를 target 큐비트로 지정하는 CY 게이트를 추가\n",
    "qc.draw(output=\"mpl\") #양자 회로 시각화"
   ]
  },
  {
   "cell_type": "code",
   "execution_count": 15,
   "metadata": {},
   "outputs": [
    {
     "name": "stdout",
     "output_type": "stream",
     "text": [
      "Operator([[1.+0.j, 0.+0.j, 0.+0.j, 0.+0.j],\n",
      "          [0.-0.j, 0.-0.j, 0.-0.j, 0.-1.j],\n",
      "          [0.+0.j, 0.+0.j, 1.+0.j, 0.+0.j],\n",
      "          [0.+0.j, 0.+1.j, 0.+0.j, 0.+0.j]],\n",
      "         input_dims=(2, 2), output_dims=(2, 2))\n"
     ]
    }
   ],
   "source": [
    "backend = Aer.get_backend('unitary_simulator') #unitary_simulator를 사용하여 양자회로를 시뮬레이션하기\n",
    "\n",
    "job = execute(qc, backend) #양자회로를 시뮬레이션하기\n",
    "result = job.result() #시뮬레이션 결과를 가져오기\n",
    "print(result.get_unitary(qc, decimals=3)) #시뮬레이션 결과를 출력하기"
   ]
  },
  {
   "cell_type": "code",
   "execution_count": 16,
   "metadata": {},
   "outputs": [
    {
     "data": {
      "text/latex": [
       "$$ |00\\rangle$$"
      ],
      "text/plain": [
       "<IPython.core.display.Latex object>"
      ]
     },
     "execution_count": 16,
     "metadata": {},
     "output_type": "execute_result"
    }
   ],
   "source": [
    "state4 = execute(qc, StatevectorSimulator()).result().get_statevector() # 시뮬레이션에 양자회로를 넣어 실행시키기\n",
    "state4.draw(output=\"latex\") #시뮬레이션 결과를 latex 형식으로 출력하기"
   ]
  },
  {
   "cell_type": "markdown",
   "metadata": {},
   "source": [
    "###### $|0\\rangle$상태의 control 큐비트에 CY-게이트 [Q-sphere]\n",
    "\n",
    "![cy-gate](./figure/q-sphere_cy-gate.png)\n",
    "\n",
    "#### target 큐비트의 상태가 $|1\\rangle$일때 $CY$ 게이트의 작동"
   ]
  },
  {
   "cell_type": "code",
   "execution_count": 17,
   "metadata": {},
   "outputs": [
    {
     "data": {
      "image/png": "[encoded data removed]",
      "text/plain": [
       "<Figure size 287.294x200.667 with 1 Axes>"
      ]
     },
     "execution_count": 17,
     "metadata": {},
     "output_type": "execute_result"
    }
   ],
   "source": [
    "qc=QuantumCircuit(2) #2개의 큐비트를 가진 양자 회로 만들기\n",
    "qc.x(0) #0번 큐비트에 X 게이트 추가하여 |1> 상태 만들기\n",
    "qc.cy(0,1) #0번 큐비트에 control 큐비트로 지정하며 1번 큐비트를 target 큐비트로 지정하는 CY 게이트를 추가\n",
    "qc.draw(output=\"mpl\") #양자 회로 시각화"
   ]
  },
  {
   "cell_type": "code",
   "execution_count": 18,
   "metadata": {},
   "outputs": [
    {
     "data": {
      "text/latex": [
       "$$i |11\\rangle$$"
      ],
      "text/plain": [
       "<IPython.core.display.Latex object>"
      ]
     },
     "execution_count": 18,
     "metadata": {},
     "output_type": "execute_result"
    }
   ],
   "source": [
    "state5 = execute(qc, StatevectorSimulator()).result().get_statevector() # 시뮬레이션에 양자회로를 넣어 실행시키기\n",
    "state5.draw(output=\"latex\") #시뮬레이션 결과를 latex 형식으로 출력하기"
   ]
  },
  {
   "cell_type": "markdown",
   "metadata": {},
   "source": [
    "###### $|1\\rangle$상태의 control 큐비트에 CY-게이트 [Q-sphere]\n",
    "\n",
    "![cy-gate2](./figure/q-sphere_cy-gate2.png)\n",
    "\n",
    "#### 수학적 표현\n",
    "\n",
    "$$ CY_{q_0,q_1} = I \\otimes |0\\rangle\\langle0| + Y \\otimes |1\\rangle\\langle1| = \\begin{pmatrix} 1 & 0 & 0 & 0 \\\\\n",
    "0 & 0 & 0 & -i \\\\ 0 & 0 & 1 & 0 \\\\ 0 & i & 0 & 0 \\end{pmatrix} $$\n",
    "\n",
    "$$ CY_{q_1,q_0} = |0\\rangle\\langle0| \\otimes I + |1\\rangle\\langle1| \\otimes Y  = \\begin{pmatrix} 1 & 0 & 0 & 0 \\\\\n",
    "0 & 1 & 0 & 0 \\\\ 0 & 0 & 0 & -i \\\\ 0 & 0 & i & 0 \\end{pmatrix} $$\n",
    "\n",
    "\n",
    "### 3. $CZ$ 게이트\n",
    "\n",
    "CZ 게이트는 $cz(control, target)$과 같은 문법으로 사용이 되며 control 큐비트의 상태에 따라 target 큐비트의 결과값에 영향을 주는 조건부 게이트입니다. control 큐비트의 상태가 $|1\\rangle$이면 target 큐비트에 Z-게이트를 실행합니다. 하지만 control 큐비트의 상태가 $|0\\rangle$인 경우에는 target 큐비트에 어떠한 변화도 가하지 않습니다.\n",
    "\n",
    "CZ 게이트는 대칭적인(symmetric) 게이트이며 사실상 control과 target이 구분되지 않습니다. 대칭적인 게이트이기 때문에 control과 target을 서로 바꿔서 입력하여도 같은 결과를 출력합니다.\n",
    "\n",
    "#### target 큐비트의 상태가 $|0\\rangle$일때 $CZ$ 게이트의 작동"
   ]
  },
  {
   "cell_type": "code",
   "execution_count": 19,
   "metadata": {},
   "outputs": [
    {
     "data": {
      "image/png": "[encoded data removed]",
      "text/plain": [
       "<Figure size 203.683x200.667 with 1 Axes>"
      ]
     },
     "execution_count": 19,
     "metadata": {},
     "output_type": "execute_result"
    }
   ],
   "source": [
    "qc=QuantumCircuit(2) #2개의 큐비트를 가진 양자 회로 만들기\n",
    "qc.cz(0,1) #0번 큐비트에 control 큐비트로 지정하며 1번 큐비트를 target 큐비트로 지정하는 CZ 게이트를 추가\n",
    "qc.draw(output=\"mpl\") #양자 회로 시각화"
   ]
  },
  {
   "cell_type": "code",
   "execution_count": 20,
   "metadata": {},
   "outputs": [
    {
     "name": "stdout",
     "output_type": "stream",
     "text": [
      "Operator([[ 1.+0.j,  0.+0.j,  0.+0.j,  0.+0.j],\n",
      "          [ 0.+0.j,  1.+0.j,  0.+0.j,  0.+0.j],\n",
      "          [ 0.+0.j,  0.+0.j,  1.+0.j,  0.+0.j],\n",
      "          [-0.+0.j, -0.+0.j, -0.+0.j, -1.+0.j]],\n",
      "         input_dims=(2, 2), output_dims=(2, 2))\n"
     ]
    }
   ],
   "source": [
    "backend = Aer.get_backend('unitary_simulator') #unitary_simulator를 사용하여 양자회로를 시뮬레이션하기\n",
    "\n",
    "job = execute(qc, backend) #양자회로를 시뮬레이션하기\n",
    "result = job.result() #시뮬레이션 결과를 가져오기 \n",
    "print(result.get_unitary(qc, decimals=3)) #단위 행렬을 출력하기"
   ]
  },
  {
   "cell_type": "code",
   "execution_count": 21,
   "metadata": {},
   "outputs": [
    {
     "data": {
      "text/latex": [
       "$$ |00\\rangle$$"
      ],
      "text/plain": [
       "<IPython.core.display.Latex object>"
      ]
     },
     "execution_count": 21,
     "metadata": {},
     "output_type": "execute_result"
    }
   ],
   "source": [
    "state6 = execute(qc, StatevectorSimulator()).result().get_statevector() # 시뮬레이션에 양자회로를 넣어 실행시키기\n",
    "state6.draw(output=\"latex\") #시뮬레이션 결과를 latex 형식으로 출력하기"
   ]
  },
  {
   "cell_type": "markdown",
   "metadata": {},
   "source": [
    "###### $|0\\rangle$상태의 control 큐비트에 CZ-게이트 [Q-sphere]\n",
    "\n",
    "![cz-gate](./figure/q-sphere_cz-gate.png)\n",
    "\n",
    "#### target 큐비트의 상태가 $|1\\rangle$일때 $CZ$ 게이트의 작동"
   ]
  },
  {
   "cell_type": "code",
   "execution_count": 22,
   "metadata": {},
   "outputs": [
    {
     "data": {
      "image/png": "[encoded data removed]",
      "text/plain": [
       "<Figure size 287.294x200.667 with 1 Axes>"
      ]
     },
     "execution_count": 22,
     "metadata": {},
     "output_type": "execute_result"
    }
   ],
   "source": [
    "qc=QuantumCircuit(2) #2개의 큐비트를 가진 양자 회로 만들기\n",
    "qc.x(0) #0번 큐비트에 X 게이트 추가하여 |1> 상태 만들기\n",
    "qc.cz(0,1) #0번 큐비트에 control 큐비트로 지정하며 1번 큐비트를 target 큐비트로 지정하는 CZ 게이트를 추가\n",
    "qc.draw(output=\"mpl\") #양자 회로 시각화"
   ]
  },
  {
   "cell_type": "code",
   "execution_count": 23,
   "metadata": {},
   "outputs": [
    {
     "data": {
      "text/latex": [
       "$$ |01\\rangle$$"
      ],
      "text/plain": [
       "<IPython.core.display.Latex object>"
      ]
     },
     "execution_count": 23,
     "metadata": {},
     "output_type": "execute_result"
    }
   ],
   "source": [
    "state7 = execute(qc, StatevectorSimulator()).result().get_statevector() # 시뮬레이션에 양자회로를 넣어 실행시키기\n",
    "state7.draw(output=\"latex\") #시뮬레이션 결과를 latex 형식으로 출력하기"
   ]
  },
  {
   "cell_type": "markdown",
   "metadata": {},
   "source": [
    "###### $|1\\rangle$상태의 control 큐비트에 CZ-게이트 [Q-sphere]\n",
    "\n",
    "![cz-gate2](./figure/q-sphere_cz-gate2.png)\n",
    "\n",
    "#### control 큐비트와 target 큐비트를 바꾸고 초기 큐비트의 상태가 위와 동일할때 $CZ$ 게이트의 작동"
   ]
  },
  {
   "cell_type": "code",
   "execution_count": 24,
   "metadata": {},
   "outputs": [
    {
     "data": {
      "image/png": "[encoded data removed]",
      "text/plain": [
       "<Figure size 287.294x200.667 with 1 Axes>"
      ]
     },
     "execution_count": 24,
     "metadata": {},
     "output_type": "execute_result"
    }
   ],
   "source": [
    "qc=QuantumCircuit(2) #2개의 큐비트를 가진 양자 회로 만들기\n",
    "qc.x(0) #1번 큐비트에 X 게이트 추가하여 |1> 상태 만들기\n",
    "qc.cz(1,0) #1번 큐비트에 control 큐비트로 지정하며 0번 큐비트를 target 큐비트로 지정하는 CZ 게이트를 추가\n",
    "qc.draw(output=\"mpl\") #양자 회로 시각화"
   ]
  },
  {
   "cell_type": "code",
   "execution_count": 25,
   "metadata": {},
   "outputs": [
    {
     "data": {
      "text/latex": [
       "$$ |01\\rangle$$"
      ],
      "text/plain": [
       "<IPython.core.display.Latex object>"
      ]
     },
     "execution_count": 25,
     "metadata": {},
     "output_type": "execute_result"
    }
   ],
   "source": [
    "state8 = execute(qc, StatevectorSimulator()).result().get_statevector() # 시뮬레이션에 양자회로를 넣어 실행시키기\n",
    "state8.draw(output=\"latex\") #시뮬레이션 결과를 latex 형식으로 출력하기"
   ]
  },
  {
   "cell_type": "markdown",
   "metadata": {},
   "source": [
    "###### control과 target을 바꾸어도 위와 동일한 값을 출력함 [Q-sphere]\n",
    "\n",
    "![cz-gate3](./figure/q-sphere_cz-gate3.png)\n",
    "\n",
    "#### control 큐비트와 target 큐비트의 상태가 모두 $|1\\rangle$인 상태일때의 $CZ$ 게이트의 작동"
   ]
  },
  {
   "cell_type": "code",
   "execution_count": 26,
   "metadata": {},
   "outputs": [
    {
     "data": {
      "image/png": "[encoded data removed]",
      "text/plain": [
       "<Figure size 287.294x200.667 with 1 Axes>"
      ]
     },
     "execution_count": 26,
     "metadata": {},
     "output_type": "execute_result"
    }
   ],
   "source": [
    "qc=QuantumCircuit(2) #2개의 큐비트를 가진 양자 회로 만들기\n",
    "qc.x(0) #0번 큐비트에 X 게이트 추가하여 |1> 상태 만들기\n",
    "qc.x(1) #1번 큐비트에 X 게이트 추가하여 |1> 상태 만들기\n",
    "qc.cz(0,1) #0번 큐비트에 control 큐비트로 지정하며 1번 큐비트를 target 큐비트로 지정하는 CZ 게이트를 추가\n",
    "qc.draw(output=\"mpl\") #양자 회로 시각화"
   ]
  },
  {
   "cell_type": "code",
   "execution_count": 27,
   "metadata": {},
   "outputs": [
    {
     "data": {
      "text/latex": [
       "$$- |11\\rangle$$"
      ],
      "text/plain": [
       "<IPython.core.display.Latex object>"
      ]
     },
     "execution_count": 27,
     "metadata": {},
     "output_type": "execute_result"
    }
   ],
   "source": [
    "state9 = execute(qc, StatevectorSimulator()).result().get_statevector() # 시뮬레이션에 양자회로를 넣어 실행시키기\n",
    "state9.draw(output=\"latex\") #시뮬레이션 결과를 latex 형식으로 출력하기"
   ]
  },
  {
   "cell_type": "markdown",
   "metadata": {},
   "source": [
    "###### $|1\\rangle$상태의 control 큐비트와 target 큐비트에 CZ-게이트 [Q-sphere]\n",
    "\n",
    "![cz-gate4](./figure/q-sphere_cz-gate4.png)\n",
    "\n",
    "#### 수학적 표현\n",
    "\n",
    "$$ CZ_{q_1,q_0} = |0\\rangle\\langle0| \\otimes I + |1\\rangle\\langle1| \\otimes Z  = \\begin{pmatrix} 1 & 0 & 0 & 0 \\\\\n",
    "0 & 1 & 0 & 0 \\\\ 0 & 0 & 1 & 0 \\\\ 0 & 0 & 0 & -1 \\end{pmatrix} $$\n",
    "\n",
    "위의 수학적 표현에 따르면 control 큐비트가 $|1\\rangle$의 상태일때 게이트의 위상을 뒤집습니다.\n",
    "\n",
    "### 4. $CH$ 게이트 - 컨트롤 하다마드 게이트\n",
    "\n",
    "CH 게이트는 $ch(control, target)$과 같은 문법으로 사용이 되며 control 큐비트의 상태에 따라 target 큐비트의 결과값에 영향을 주는 조건부 게이트입니다. control 큐비트의 상태가 $|1\\rangle$이면 target 큐비트에 하다마드 게이트를 실행합니다. 하지만 control 큐비트의 상태가 $|0\\rangle$인 경우에는 target 큐비트에 어떠한 변화도 가하지 않습니다.\n",
    "\n",
    "#### target 큐비트의 상태가 $|0\\rangle$일때 $CH$ 게이트의 작동"
   ]
  },
  {
   "cell_type": "code",
   "execution_count": 28,
   "metadata": {},
   "outputs": [
    {
     "data": {
      "image/png": "[encoded data removed]",
      "text/plain": [
       "<Figure size 203.683x200.667 with 1 Axes>"
      ]
     },
     "execution_count": 28,
     "metadata": {},
     "output_type": "execute_result"
    }
   ],
   "source": [
    "qc=QuantumCircuit(2) #2개의 큐비트를 가진 양자 회로 만들기\n",
    "qc.ch(0,1) #0번 큐비트에 control 큐비트로 지정하며 1번 큐비트를 target 큐비트로 지정하는 CH 게이트를 추가\n",
    "qc.draw(output=\"mpl\") #양자 회로 시각화"
   ]
  },
  {
   "cell_type": "code",
   "execution_count": 29,
   "metadata": {},
   "outputs": [
    {
     "name": "stdout",
     "output_type": "stream",
     "text": [
      "Operator([[ 1.   -0.j,  0.   +0.j, -0.   +0.j,  0.   +0.j],\n",
      "          [ 0.   +0.j,  0.707-0.j,  0.   +0.j,  0.707-0.j],\n",
      "          [ 0.   +0.j,  0.   +0.j,  1.   -0.j,  0.   +0.j],\n",
      "          [ 0.   +0.j,  0.707+0.j,  0.   +0.j, -0.707+0.j]],\n",
      "         input_dims=(2, 2), output_dims=(2, 2))\n"
     ]
    }
   ],
   "source": [
    "backend = Aer.get_backend('unitary_simulator') #unitary_simulator를 사용하여 시뮬레이션하기\n",
    "\n",
    "job = execute(qc, backend) #시뮬레이션 실행\n",
    "result = job.result() #시뮬레이션 결과 가져오기\n",
    "print(result.get_unitary(qc, decimals=3)) #단일 행렬 출력하기"
   ]
  },
  {
   "cell_type": "code",
   "execution_count": 30,
   "metadata": {},
   "outputs": [
    {
     "data": {
      "text/latex": [
       "$$ |00\\rangle$$"
      ],
      "text/plain": [
       "<IPython.core.display.Latex object>"
      ]
     },
     "execution_count": 30,
     "metadata": {},
     "output_type": "execute_result"
    }
   ],
   "source": [
    "state10 = execute(qc, StatevectorSimulator()).result().get_statevector() # 시뮬레이션에 양자회로를 넣어 실행시키기\n",
    "state10.draw(output=\"latex\") #시뮬레이션 결과를 latex 형식으로 출력하기"
   ]
  },
  {
   "cell_type": "markdown",
   "metadata": {},
   "source": [
    "###### $|0\\rangle$상태의 control 큐비트에 CH-게이트 [Q-sphere]\n",
    "\n",
    "![ch-gate](./figure/q-sphere_ch-gate.png)\n",
    "\n",
    "#### target 큐비트의 상태가 $|1\\rangle$일때 $CH$ 게이트의 작동"
   ]
  },
  {
   "cell_type": "code",
   "execution_count": 31,
   "metadata": {},
   "outputs": [
    {
     "data": {
      "image/png": "[encoded data removed]",
      "text/plain": [
       "<Figure size 287.294x200.667 with 1 Axes>"
      ]
     },
     "execution_count": 31,
     "metadata": {},
     "output_type": "execute_result"
    }
   ],
   "source": [
    "qc=QuantumCircuit(2) #2개의 큐비트를 가진 양자 회로 만들기\n",
    "qc.x(0) #0번 큐비트에 X 게이트 추가하여 |1> 상태 만들기\n",
    "qc.ch(0,1) #0번 큐비트에 control 큐비트로 지정하며 1번 큐비트를 target 큐비트로 지정하는 CH 게이트를 추가\n",
    "qc.draw(output=\"mpl\") #양자 회로 시각화"
   ]
  },
  {
   "cell_type": "code",
   "execution_count": 32,
   "metadata": {},
   "outputs": [
    {
     "data": {
      "text/latex": [
       "$$\\frac{\\sqrt{2}}{2} |01\\rangle+\\frac{\\sqrt{2}}{2} |11\\rangle$$"
      ],
      "text/plain": [
       "<IPython.core.display.Latex object>"
      ]
     },
     "execution_count": 32,
     "metadata": {},
     "output_type": "execute_result"
    }
   ],
   "source": [
    "state11 = execute(qc, StatevectorSimulator()).result().get_statevector() # 시뮬레이션에 양자회로를 넣어 실행시키기\n",
    "state11.draw(output=\"latex\") #시뮬레이션 결과를 latex 형식으로 출력하기"
   ]
  },
  {
   "cell_type": "markdown",
   "metadata": {},
   "source": [
    "###### $|1\\rangle$상태의 control 큐비트에 CH-게이트 [Q-sphere]\n",
    "\n",
    "![ch-gate2](./figure/q-sphere_ch-gate2.png)\n",
    "\n",
    "#### 수학적 표현\n",
    "\n",
    "$$ CH_{q_0,q_1} = I \\otimes |0\\rangle\\langle0| + H \\otimes |1\\rangle\\langle1| = \\begin{pmatrix} 1 & 0 & 0 & 0 \\\\\n",
    "0 & \\frac{1}{\\sqrt{2}} & 0 & \\frac{1}{\\sqrt{2}} \\\\ 0 & 0 & 1 & 0 \\\\ 0 & \\frac{1}{\\sqrt{2}} & 0 & -\\frac{1}{\\sqrt{2}} \\end{pmatrix} $$\n",
    "\n",
    "$$ CH_{q_1,q_0} = |0\\rangle\\langle0| \\otimes I + |1\\rangle\\langle1| \\otimes H  = \\begin{pmatrix} 1 & 0 & 0 & 0 \\\\\n",
    "0 & 1 & 0 & 0 \\\\ 0 & 0 & \\frac{1}{\\sqrt{2}} & \\frac{1}{\\sqrt{2}} \\\\ 0 & 0 & \\frac{1}{\\sqrt{2}} & -\\frac{1}{\\sqrt{2}} \\end{pmatrix} $$\n",
    "\n",
    "### 5. $CP$ 게이트 - 컨트롤 위상 게이트\n",
    "\n",
    "CP 게이트는 $cp(theta, control, target)$과 같은 문법으로 사용이 되며 control 큐비트의 상태에 따라 target 큐비트의 결과값에 영향을 주는 조건부 게이트입니다. control 큐비트의 상태가 $|1\\rangle$이면 target 큐비트에 $P$ 게이트를 $theta$ 만큼 실행합니다. 하지만 control 큐비트의 상태가 $|0\\rangle$인 경우에는 target 큐비트에 어떠한 변화도 가하지 않습니다.\n",
    "\n",
    "CP 게이트는 대칭적인(symmetric) 게이트이며 사실상 control과 target이 구분되지 않습니다. 대칭적인 게이트이기 때문에 control과 target을 서로 바꿔서 입력하여도 같은 결과를 출력합니다.\n",
    "\n",
    "#### target 큐비트의 상태가 $|0\\rangle$일때 $CP$ 게이트의 작동"
   ]
  },
  {
   "cell_type": "code",
   "execution_count": 33,
   "metadata": {},
   "outputs": [
    {
     "data": {
      "image/png": "[encoded data removed]",
      "text/plain": [
       "<Figure size 287.294x200.667 with 1 Axes>"
      ]
     },
     "execution_count": 33,
     "metadata": {},
     "output_type": "execute_result"
    }
   ],
   "source": [
    "qc=QuantumCircuit(2) #2개의 큐비트를 가진 양자 회로 만들기\n",
    "qc.cp(pi/2,0,1) #0번 큐비트에 control 큐비트로 지정하며 1번 큐비트를 target 큐비트로 지정하는 CP 게이트를 추가\n",
    "qc.draw(output=\"mpl\") #양자 회로 시각화"
   ]
  },
  {
   "cell_type": "code",
   "execution_count": 34,
   "metadata": {},
   "outputs": [
    {
     "name": "stdout",
     "output_type": "stream",
     "text": [
      "Operator([[1.+0.j, 0.+0.j, 0.+0.j, 0.+0.j],\n",
      "          [0.+0.j, 1.+0.j, 0.+0.j, 0.+0.j],\n",
      "          [0.+0.j, 0.+0.j, 1.+0.j, 0.+0.j],\n",
      "          [0.+0.j, 0.+0.j, 0.+0.j, 0.+1.j]],\n",
      "         input_dims=(2, 2), output_dims=(2, 2))\n"
     ]
    }
   ],
   "source": [
    "backend = Aer.get_backend('unitary_simulator') #unitary_simulator를 사용하여 시뮬레이션하기\n",
    "\n",
    "job = execute(qc, backend) #시뮬레이션 실행\n",
    "result = job.result() #시뮬레이션 결과 가져오기\n",
    "print(result.get_unitary(qc, decimals=3)) #단일 행렬 출력하기"
   ]
  },
  {
   "cell_type": "code",
   "execution_count": 35,
   "metadata": {},
   "outputs": [
    {
     "data": {
      "text/latex": [
       "$$ |00\\rangle$$"
      ],
      "text/plain": [
       "<IPython.core.display.Latex object>"
      ]
     },
     "execution_count": 35,
     "metadata": {},
     "output_type": "execute_result"
    }
   ],
   "source": [
    "state12 = execute(qc, StatevectorSimulator()).result().get_statevector() # 시뮬레이션에 양자회로를 넣어 실행시키기\n",
    "state12.draw(output=\"latex\") #시뮬레이션 결과를 latex 형식으로 출력하기"
   ]
  },
  {
   "cell_type": "markdown",
   "metadata": {},
   "source": [
    "###### $|0\\rangle$상태의 control 큐비트에 CP-게이트 [Q-sphere]\n",
    "\n",
    "![cp-gate](./figure/q-sphere_cp-gate.png)\n",
    "\n",
    "#### target 큐비트와 control 큐비트의 상태가 $|1\\rangle$일때 $CP$ 게이트의 작동"
   ]
  },
  {
   "cell_type": "code",
   "execution_count": 36,
   "metadata": {},
   "outputs": [
    {
     "data": {
      "image/png": "[encoded data removed]",
      "text/plain": [
       "<Figure size 370.906x200.667 with 1 Axes>"
      ]
     },
     "execution_count": 36,
     "metadata": {},
     "output_type": "execute_result"
    }
   ],
   "source": [
    "qc=QuantumCircuit(2) #2개의 큐비트를 가진 양자 회로 만들기\n",
    "qc.x(0) #0번 큐비트에 X 게이트 추가하여 |1> 상태 만들기\n",
    "qc.x(1) #1번 큐비트에 X 게이트 추가하여 |0> 상태 만들기\n",
    "qc.cp(pi/2,0,1) #0번 큐비트에 control 큐비트로 지정하며 1번 큐비트를 target 큐비트로 지정하는 CP 게이트를 추가\n",
    "qc.draw(output=\"mpl\") #양자 회로 시각화"
   ]
  },
  {
   "cell_type": "code",
   "execution_count": 37,
   "metadata": {},
   "outputs": [
    {
     "data": {
      "text/latex": [
       "$$i |11\\rangle$$"
      ],
      "text/plain": [
       "<IPython.core.display.Latex object>"
      ]
     },
     "execution_count": 37,
     "metadata": {},
     "output_type": "execute_result"
    }
   ],
   "source": [
    "state13 = execute(qc, StatevectorSimulator()).result().get_statevector() # 시뮬레이션에 양자회로를 넣어 실행시키기\n",
    "state13.draw(output=\"latex\") #시뮬레이션 결과를 latex 형식으로 출력하기"
   ]
  },
  {
   "cell_type": "markdown",
   "metadata": {},
   "source": [
    "###### $|1\\rangle$상태의 control 큐비트와 target 큐비트에 CP-게이트 [Q-sphere]\n",
    "\n",
    "![cp-gate2](./figure/q-sphere_cp-gate2.png)\n",
    "\n",
    "#### 수학적 표현\n",
    "\n",
    "$$ CPhase = |0\\rangle\\langle0| \\otimes I + |1\\rangle\\langle1| \\otimes P  = \\begin{pmatrix} 1 & 0 & 0 & 0 \\\\\n",
    "0 & 1 & 0 & 0 \\\\ 0 & 0 & 1 & 0 \\\\ 0 & 0 & 0 & e^{i\\lambda} \\end{pmatrix} $$\n",
    "\n",
    "## SWAP 게이트\n",
    "\n",
    "SWAP 게이트는 $swap(qubit_0, qubit_0)$과 같은 문법으로 사용이 되며 대상의 두개 큐비트의 상태를 교환합니다. SWAP 게이트는 대칭적인(symmetric) 게이트이며 사실상 qubit_0과 qubit_1이 구분되지 않습니다. 대칭적인 게이트이기 때문에 qubit_0과 qubit_1을 서로 바꿔서 입력하여도 같은 결과를 출력합니다.\n"
   ]
  },
  {
   "cell_type": "code",
   "execution_count": 38,
   "metadata": {},
   "outputs": [
    {
     "data": {
      "image/png": "[encoded data removed]",
      "text/plain": [
       "<Figure size 203.683x200.667 with 1 Axes>"
      ]
     },
     "execution_count": 38,
     "metadata": {},
     "output_type": "execute_result"
    }
   ],
   "source": [
    "qc=QuantumCircuit(2) #2개의 큐비트를 가진 양자 회로 만들기\n",
    "qc.swap(0,1) #0번 큐비트를 qubit_0로 지정하며 1번 큐비트를 qubit_1로 지정하여 SWAP 게이트를 추가하기\n",
    "qc.draw(output=\"mpl\") #양자 회로 시각화"
   ]
  },
  {
   "cell_type": "code",
   "execution_count": 39,
   "metadata": {},
   "outputs": [
    {
     "name": "stdout",
     "output_type": "stream",
     "text": [
      "Operator([[1.+0.j, 0.+0.j, 0.+0.j, 0.+0.j],\n",
      "          [0.+0.j, 0.+0.j, 1.+0.j, 0.+0.j],\n",
      "          [0.+0.j, 1.+0.j, 0.+0.j, 0.+0.j],\n",
      "          [0.+0.j, 0.+0.j, 0.+0.j, 1.+0.j]],\n",
      "         input_dims=(2, 2), output_dims=(2, 2))\n"
     ]
    }
   ],
   "source": [
    "backend = Aer.get_backend('unitary_simulator') #unitary_simulator를 사용하여 시뮬레이션하기\n",
    "\n",
    "job = execute(qc, backend) #시뮬레이션 실행\n",
    "result = job.result() #시뮬레이션 결과 가져오기\n",
    "print(result.get_unitary(qc, decimals=3)) #단일 행렬 출력하기"
   ]
  },
  {
   "cell_type": "code",
   "execution_count": 40,
   "metadata": {},
   "outputs": [
    {
     "data": {
      "text/latex": [
       "$$ |00\\rangle$$"
      ],
      "text/plain": [
       "<IPython.core.display.Latex object>"
      ]
     },
     "execution_count": 40,
     "metadata": {},
     "output_type": "execute_result"
    }
   ],
   "source": [
    "state14 = execute(qc, StatevectorSimulator()).result().get_statevector() # 시뮬레이션에 양자회로를 넣어 실행시키기\n",
    "state14.draw(output=\"latex\") #시뮬레이션 결과를 latex 형식으로 출력하기"
   ]
  },
  {
   "cell_type": "markdown",
   "metadata": {},
   "source": [
    "#### 0번 큐비트의 상태가 $|1\\rangle$일때의 상황"
   ]
  },
  {
   "cell_type": "code",
   "execution_count": 41,
   "metadata": {},
   "outputs": [
    {
     "data": {
      "image/png": "[encoded data removed]",
      "text/plain": [
       "<Figure size 203.683x200.667 with 1 Axes>"
      ]
     },
     "execution_count": 41,
     "metadata": {},
     "output_type": "execute_result"
    }
   ],
   "source": [
    "qc=QuantumCircuit(2)\n",
    "qc.x(0)\n",
    "qc.draw(output=\"mpl\")"
   ]
  },
  {
   "cell_type": "code",
   "execution_count": 42,
   "metadata": {},
   "outputs": [
    {
     "data": {
      "text/latex": [
       "$$ |01\\rangle$$"
      ],
      "text/plain": [
       "<IPython.core.display.Latex object>"
      ]
     },
     "execution_count": 42,
     "metadata": {},
     "output_type": "execute_result"
    }
   ],
   "source": [
    "state15 = execute(qc, StatevectorSimulator()).result().get_statevector() # 시뮬레이션에 양자회로를 넣어 실행시키기\n",
    "state15.draw(output=\"latex\") #시뮬레이션 결과를 latex 형식으로 출력하기"
   ]
  },
  {
   "cell_type": "markdown",
   "metadata": {},
   "source": [
    "###### 0번째 큐비트를 $|1\\rangle$ 상태로 만들기[Q-sphere]\n",
    "\n",
    "![swap-gate](./figure/q-sphere_swap-gate.png)\n",
    "\n",
    "#### SWAP 게이트 추가하여 출력값 확인하기"
   ]
  },
  {
   "cell_type": "code",
   "execution_count": 43,
   "metadata": {},
   "outputs": [
    {
     "data": {
      "image/png": "[encoded data removed]",
      "text/plain": [
       "<Figure size 287.294x200.667 with 1 Axes>"
      ]
     },
     "execution_count": 43,
     "metadata": {},
     "output_type": "execute_result"
    }
   ],
   "source": [
    "qc=QuantumCircuit(2) #2개의 큐비트를 가진 양자 회로 만들기\n",
    "qc.x(0) #0번 큐비트에 X 게이트 추가하여 |1> 상태 만들기\n",
    "qc.swap(0,1) #0번 큐비트를 qubit_0로 지정하며 1번 큐비트를 qubit_1로 지정하여 SWAP 게이트를 추가하기\n",
    "qc.draw(output=\"mpl\") #양자 회로 시각화"
   ]
  },
  {
   "cell_type": "code",
   "execution_count": 44,
   "metadata": {},
   "outputs": [
    {
     "data": {
      "text/latex": [
       "$$ |10\\rangle$$"
      ],
      "text/plain": [
       "<IPython.core.display.Latex object>"
      ]
     },
     "execution_count": 44,
     "metadata": {},
     "output_type": "execute_result"
    }
   ],
   "source": [
    "state16 = execute(qc, StatevectorSimulator()).result().get_statevector() # 시뮬레이션에 양자회로를 넣어 실행시키기\n",
    "state16.draw(output=\"latex\") #시뮬레이션 결과를 latex 형식으로 출력하기"
   ]
  },
  {
   "cell_type": "markdown",
   "metadata": {},
   "source": [
    "###### $|1\\rangle$상태의 0번째 큐비트와 $|0\\rangle$상태의 1번째 큐비트에 SWAP-게이트 [Q-sphere]\n",
    "\n",
    "![swap-gate2](./figure/q-sphere_swap-gate2.png)\n",
    "\n",
    "#### 수학적 표현\n",
    "\n",
    "$$ SWAP =  \\begin{pmatrix} 1 & 0 & 0 & 0 \\\\\n",
    "0 & 0 & 1 & 0 \\\\ 0 & 1 & 0 & 0 \\\\ 0 & 0 & 0 & 1 \\end{pmatrix} $$\n",
    "\n",
    "수학적 표현에 따르면 두개 비트의 상태를 서로 바꿔준다.\n",
    "\n",
    "$$ |a,b\\rangle \\rightarrow |b,a\\rangle $$\n",
    "\n",
    "## Controlled Rotations Gate\n",
    "### 1. CRX 게이트 - Controlled RX gate\n",
    "\n",
    "CRX 게이트는 $crx(\\theta, control, target)$과 같은 문법으로 사용이 되며 control 큐비트의 상태에 따라 target 큐비트의 결과값에 영향을 주는 조건부 게이트입니다. control 큐비트의 상태가 $|1\\rangle$이면 target 큐비트에 $RX(\\theta)$ 게이트를 실행합니다. 하지만 control 큐비트의 상태가 $|0\\rangle$인 경우에는 target 큐비트에 어떠한 변화도 가하지 않습니다.\n",
    "\n",
    "#### target 큐비트의 상태가 $|0\\rangle$일때 $CRX$ 게이트의 작동\n"
   ]
  },
  {
   "cell_type": "code",
   "execution_count": 45,
   "metadata": {},
   "outputs": [
    {
     "data": {
      "image/png": "[encoded data removed]",
      "text/plain": [
       "<Figure size 203.683x200.667 with 1 Axes>"
      ]
     },
     "execution_count": 45,
     "metadata": {},
     "output_type": "execute_result"
    }
   ],
   "source": [
    "qc=QuantumCircuit(2) #2개의 큐비트를 가진 양자 회로 만들기\n",
    "qc.crx(pi/2,0,1) #0번 큐비트에 control 큐비트로 지정하며 1번 큐비트를 target 큐비트로 지정하는 CRX 게이트를 추가하기\n",
    "qc.draw(output=\"mpl\")"
   ]
  },
  {
   "cell_type": "code",
   "execution_count": 46,
   "metadata": {},
   "outputs": [
    {
     "name": "stdout",
     "output_type": "stream",
     "text": [
      "Operator([[ 1.   +0.j   ,  0.   +0.j   ,  0.   +0.j   ,  0.   +0.j   ],\n",
      "          [ 0.   +0.j   ,  0.707+0.j   ,  0.   +0.j   ,  0.   -0.707j],\n",
      "          [-0.   +0.j   ,  0.   -0.j   ,  1.   +0.j   ,  0.   -0.j   ],\n",
      "          [ 0.   -0.j   ,  0.   -0.707j,  0.   -0.j   ,  0.707-0.j   ]],\n",
      "         input_dims=(2, 2), output_dims=(2, 2))\n"
     ]
    }
   ],
   "source": [
    "backend = Aer.get_backend('unitary_simulator') #unitary_simulator를 사용하여 시뮬레이션하기\n",
    "\n",
    "job = execute(qc, backend) #시뮬레이션 실행\n",
    "result = job.result() #시뮬레이션 결과 가져오기\n",
    "print(result.get_unitary(qc, decimals=3)) #단일 행렬 출력하기"
   ]
  },
  {
   "cell_type": "code",
   "execution_count": 47,
   "metadata": {},
   "outputs": [
    {
     "data": {
      "text/latex": [
       "$$ |00\\rangle$$"
      ],
      "text/plain": [
       "<IPython.core.display.Latex object>"
      ]
     },
     "execution_count": 47,
     "metadata": {},
     "output_type": "execute_result"
    }
   ],
   "source": [
    "state17 = execute(qc, StatevectorSimulator()).result().get_statevector() # 시뮬레이션에 양자회로를 넣어 실행시키기\n",
    "state17.draw(output=\"latex\") #시뮬레이션 결과를 latex 형식으로 출력하기"
   ]
  },
  {
   "cell_type": "markdown",
   "metadata": {},
   "source": [
    "###### $|0\\rangle$상태의 control 큐비트에 CRX-게이트 [Q-sphere]\n",
    "\n",
    "![crx-gate](./figure/q-sphere_crx-gate.png)\n",
    "\n",
    "#### target 큐비트와 control 큐비트의 상태가 $|1\\rangle$일때 $CRX$ 게이트의 작동"
   ]
  },
  {
   "cell_type": "code",
   "execution_count": 48,
   "metadata": {},
   "outputs": [
    {
     "data": {
      "image/png": "[encoded data removed]",
      "text/plain": [
       "<Figure size 287.294x200.667 with 1 Axes>"
      ]
     },
     "execution_count": 48,
     "metadata": {},
     "output_type": "execute_result"
    }
   ],
   "source": [
    "qc=QuantumCircuit(2) #2개의 큐비트를 가진 양자 회로 만들기\n",
    "qc.x(0) #0번 큐비트에 X 게이트 추가하여 |1> 상태 만들기\n",
    "qc.crx(pi/2,0,1) #0번 큐비트에 control 큐비트로 지정하며 1번 큐비트를 target 큐비트로 지정하는 CRX 게이트를 추가하기\n",
    "qc.draw(output=\"mpl\") #양자 회로 시각화\n"
   ]
  },
  {
   "cell_type": "code",
   "execution_count": 49,
   "metadata": {},
   "outputs": [
    {
     "data": {
      "text/latex": [
       "$$\\frac{\\sqrt{2}}{2} |01\\rangle- \\frac{\\sqrt{2} i}{2} |11\\rangle$$"
      ],
      "text/plain": [
       "<IPython.core.display.Latex object>"
      ]
     },
     "execution_count": 49,
     "metadata": {},
     "output_type": "execute_result"
    }
   ],
   "source": [
    "state18 = execute(qc, StatevectorSimulator()).result().get_statevector() # 시뮬레이션에 양자회로를 넣어 실행시키기\n",
    "state18.draw(output=\"latex\") #시뮬레이션 결과를 latex 형식으로 출력하기"
   ]
  },
  {
   "cell_type": "markdown",
   "metadata": {},
   "source": [
    "###### $|1\\rangle$상태의 control 큐비트에 CRX-게이트 [Q-sphere]\n",
    "\n",
    "![crx-gate2](./figure/q-sphere_crx-gate2.png)\n",
    "\n",
    "#### 수학적 표현\n",
    "\n",
    "$$ CRX(\\theta)_{q_0,q_1} = I \\otimes |0\\rangle\\langle0| + RX(\\theta) \\otimes |1\\rangle\\langle1| = \\begin{pmatrix} 1 & 0 & 0 & 0 \\\\\n",
    "0 & \\cos{\\frac{\\theta}{2}} & 0 & -i\\sin{\\frac{\\theta}{2}} \\\\ 0 & 0 & 1 & 0 \\\\ 0 & -i\\sin{\\frac{\\theta}{2}} & 0 & \\cos{\\frac{\\theta}{2}} \\end{pmatrix} $$\n",
    "\n",
    "$$ CRX(\\theta_{q_1,q_0} = |0\\rangle\\langle0| \\otimes I + |1\\rangle\\langle1| \\otimes RX(\\theta)  = \\begin{pmatrix} 1 & 0 & 0 & 0 \\\\\n",
    "0 & 1 & 0 & 0 \\\\ 0 & 0 & \\cos{\\frac{\\theta}{2}} & -i\\sin{\\frac{\\theta}{2}} \\\\ 0 & 0 & -i\\sin{\\frac{\\theta}{2}} & \\cos{\\frac{\\theta}{2}} \\end{pmatrix} $$\n",
    "\n",
    "\n",
    "### 2. CRY 게이트 - Controlled RY gate\n",
    "\n",
    "CRY 게이트는 $cry(\\theta, control, target)$과 같은 문법으로 사용이 되며 control 큐비트의 상태에 따라 target 큐비트의 결과값에 영향을 주는 조건부 게이트입니다. control 큐비트의 상태가 $|1\\rangle$이면 target 큐비트에 $RY(\\theta)$ 게이트를 실행합니다. 하지만 control 큐비트의 상태가 $|0\\rangle$인 경우에는 target 큐비트에 어떠한 변화도 가하지 않습니다.\n",
    "\n",
    "#### target 큐비트의 상태가 $|0\\rangle$일때 $CRY$ 게이트의 작동"
   ]
  },
  {
   "cell_type": "code",
   "execution_count": 50,
   "metadata": {},
   "outputs": [
    {
     "data": {
      "image/png": "[encoded data removed]",
      "text/plain": [
       "<Figure size 203.683x200.667 with 1 Axes>"
      ]
     },
     "execution_count": 50,
     "metadata": {},
     "output_type": "execute_result"
    }
   ],
   "source": [
    "qc=QuantumCircuit(2) #2개의 큐비트를 가진 양자 회로 만들기\n",
    "qc.cry(pi/2,0,1) #0번 큐비트에 control 큐비트로 지정하며 1번 큐비트를 target 큐비트로 지정하는 CRY 게이트를 추가하기\n",
    "qc.draw(output=\"mpl\") #양자 회로 시각화"
   ]
  },
  {
   "cell_type": "code",
   "execution_count": 51,
   "metadata": {},
   "outputs": [
    {
     "name": "stdout",
     "output_type": "stream",
     "text": [
      "Operator([[ 1.   +0.j,  0.   +0.j,  0.   +0.j,  0.   +0.j],\n",
      "          [ 0.   +0.j,  0.707+0.j,  0.   +0.j, -0.707+0.j],\n",
      "          [ 0.   +0.j,  0.   +0.j,  1.   +0.j,  0.   +0.j],\n",
      "          [ 0.   +0.j,  0.707+0.j,  0.   +0.j,  0.707+0.j]],\n",
      "         input_dims=(2, 2), output_dims=(2, 2))\n"
     ]
    }
   ],
   "source": [
    "backend = Aer.get_backend('unitary_simulator') #unitary_simulator를 사용하여 시뮬레이션하기\n",
    "\n",
    "job = execute(qc, backend) #시뮬레이션 실행\n",
    "result = job.result() #시뮬레이션 결과 가져오기\n",
    "print(result.get_unitary(qc, decimals=3)) #단일 행렬 출력하기"
   ]
  },
  {
   "cell_type": "code",
   "execution_count": 52,
   "metadata": {},
   "outputs": [
    {
     "data": {
      "text/latex": [
       "$$ |00\\rangle$$"
      ],
      "text/plain": [
       "<IPython.core.display.Latex object>"
      ]
     },
     "execution_count": 52,
     "metadata": {},
     "output_type": "execute_result"
    }
   ],
   "source": [
    "state19 = execute(qc, StatevectorSimulator()).result().get_statevector() # 시뮬레이션에 양자회로를 넣어 실행시키기\n",
    "state19.draw(output=\"latex\") #시뮬레이션 결과를 latex 형식으로 출력하기"
   ]
  },
  {
   "cell_type": "markdown",
   "metadata": {},
   "source": [
    "###### $|0\\rangle$상태의 control 큐비트에 CRY-게이트 [Q-sphere]\n",
    "\n",
    "![cry-gate](./figure/q-sphere_cry-gate.png)\n",
    "\n",
    "#### target 큐비트와 control 큐비트의 상태가 $|1\\rangle$일때 $CRY$ 게이트의 작동"
   ]
  },
  {
   "cell_type": "code",
   "execution_count": 53,
   "metadata": {},
   "outputs": [
    {
     "data": {
      "image/png": "[encoded data removed]",
      "text/plain": [
       "<Figure size 287.294x200.667 with 1 Axes>"
      ]
     },
     "execution_count": 53,
     "metadata": {},
     "output_type": "execute_result"
    }
   ],
   "source": [
    "qc=QuantumCircuit(2) #2개의 큐비트를 가진 양자 회로 만들기\n",
    "qc.x(0) #0번 큐비트에 X 게이트 추가하여 |1> 상태 만들기\n",
    "qc.cry(pi/2,0,1) #0번 큐비트에 control 큐비트로 지정하며 1번 큐비트를 target 큐비트로 지정하는 CRY 게이트를 추가하기\n",
    "qc.draw(output=\"mpl\") #양자 회로 시각화"
   ]
  },
  {
   "cell_type": "code",
   "execution_count": 54,
   "metadata": {},
   "outputs": [
    {
     "data": {
      "text/latex": [
       "$$\\frac{\\sqrt{2}}{2} |01\\rangle+\\frac{\\sqrt{2}}{2} |11\\rangle$$"
      ],
      "text/plain": [
       "<IPython.core.display.Latex object>"
      ]
     },
     "execution_count": 54,
     "metadata": {},
     "output_type": "execute_result"
    }
   ],
   "source": [
    "state20 = execute(qc, StatevectorSimulator()).result().get_statevector() # 시뮬레이션에 양자회로를 넣어 실행시키기\n",
    "state20.draw(output=\"latex\") #시뮬레이션 결과를 latex 형식으로 출력하기"
   ]
  },
  {
   "cell_type": "markdown",
   "metadata": {},
   "source": [
    "###### $|1\\rangle$상태의 control 큐비트에 CRY-게이트 [Q-sphere]\n",
    "\n",
    "![cry-gate2](./figure/q-sphere_cry-gate2.png)\n",
    "\n",
    "#### 수학적 표현\n",
    "\n",
    "$$ CRY(\\theta)_{q_0,q_1} = I \\otimes |0\\rangle\\langle0| + RY(\\theta) \\otimes |1\\rangle\\langle1| = \\begin{pmatrix} 1 & 0 & 0 & 0 \\\\\n",
    "0 & \\cos{\\frac{\\theta}{2}} & 0 & -\\sin{\\frac{\\theta}{2}} \\\\ 0 & 0 & 1 & 0 \\\\ 0 & \\sin{\\frac{\\theta}{2}} & 0 & \\cos{\\frac{\\theta}{2}} \\end{pmatrix} $$\n",
    "\n",
    "$$ CRY(\\theta)_{q_1,q_0} = |0\\rangle\\langle0| \\otimes I + |1\\rangle\\langle1| \\otimes RY(\\theta)  = \\begin{pmatrix} 1 & 0 & 0 & 0 \\\\\n",
    "0 & 1 & 0 & 0 \\\\ 0 & 0 & \\cos{\\frac{\\theta}{2}} & -\\sin{\\frac{\\theta}{2}} \\\\ 0 & 0 & \\sin{\\frac{\\theta}{2}} & \\cos{\\frac{\\theta}{2}} \\end{pmatrix} $$\n",
    "\n",
    "\n",
    "### 3. CRZ 게이트 - Controlled RZ gate\n",
    "\n",
    "CRZ 게이트는 $crZ(\\theta, control, target)$과 같은 문법으로 사용이 되며 control 큐비트의 상태에 따라 target 큐비트의 결과값에 영향을 주는 조건부 게이트입니다. control 큐비트의 상태가 $|1\\rangle$이면 target 큐비트에 $RZ(\\theta)$ 게이트를 실행합니다. 하지만 control 큐비트의 상태가 $|0\\rangle$인 경우에는 target 큐비트에 어떠한 변화도 가하지 않습니다.\n",
    "\n",
    "#### target 큐비트의 상태가 $|0\\rangle$일때 $CRZ$ 게이트의 작동"
   ]
  },
  {
   "cell_type": "code",
   "execution_count": 55,
   "metadata": {},
   "outputs": [
    {
     "data": {
      "image/png": "[encoded data removed]",
      "text/plain": [
       "<Figure size 203.683x200.667 with 1 Axes>"
      ]
     },
     "execution_count": 55,
     "metadata": {},
     "output_type": "execute_result"
    }
   ],
   "source": [
    "qc=QuantumCircuit(2) #2개의 큐비트를 가진 양자 회로 만들기\n",
    "qc.crz(pi/2,0,1) #0번 큐비트에 control 큐비트로 지정하며 1번 큐비트를 target 큐비트로 지정하는 CRZ 게이트를 추가하기\n",
    "qc.draw(output=\"mpl\") #양자 회로 시각화"
   ]
  },
  {
   "cell_type": "code",
   "execution_count": 56,
   "metadata": {},
   "outputs": [
    {
     "name": "stdout",
     "output_type": "stream",
     "text": [
      "Operator([[1.   +0.j   , 0.   +0.j   , 0.   +0.j   , 0.   +0.j   ],\n",
      "          [0.   +0.j   , 0.707-0.707j, 0.   +0.j   , 0.   +0.j   ],\n",
      "          [0.   +0.j   , 0.   +0.j   , 1.   +0.j   , 0.   +0.j   ],\n",
      "          [0.   +0.j   , 0.   +0.j   , 0.   +0.j   , 0.707+0.707j]],\n",
      "         input_dims=(2, 2), output_dims=(2, 2))\n"
     ]
    }
   ],
   "source": [
    "backend = Aer.get_backend('unitary_simulator') #unitary_simulator를 사용하여 시뮬레이션하기\n",
    "\n",
    "job = execute(qc, backend) #시뮬레이션 실행\n",
    "result = job.result() #시뮬레이션 결과 가져오기\n",
    "print(result.get_unitary(qc, decimals=3)) #단일 행렬 출력하기"
   ]
  },
  {
   "cell_type": "code",
   "execution_count": 57,
   "metadata": {},
   "outputs": [
    {
     "data": {
      "text/latex": [
       "$$ |00\\rangle$$"
      ],
      "text/plain": [
       "<IPython.core.display.Latex object>"
      ]
     },
     "execution_count": 57,
     "metadata": {},
     "output_type": "execute_result"
    }
   ],
   "source": [
    "state21 = execute(qc, StatevectorSimulator()).result().get_statevector() # 시뮬레이션에 양자회로를 넣어 실행시키기\n",
    "state21.draw(output=\"latex\") #시뮬레이션 결과를 latex 형식으로 출력하기"
   ]
  },
  {
   "cell_type": "markdown",
   "metadata": {},
   "source": [
    "###### $|0\\rangle$상태의 control 큐비트에 CRZ-게이트 [Q-sphere]\n",
    "\n",
    "![crz-gate](./figure/q-sphere_crz-gate.png)\n",
    "\n",
    "#### target 큐비트와 control 큐비트의 상태가 $|1\\rangle$일때 $CRZ$ 게이트의 작동"
   ]
  },
  {
   "cell_type": "code",
   "execution_count": 58,
   "metadata": {},
   "outputs": [
    {
     "data": {
      "image/png": "[encoded data removed]",
      "text/plain": [
       "<Figure size 287.294x200.667 with 1 Axes>"
      ]
     },
     "execution_count": 58,
     "metadata": {},
     "output_type": "execute_result"
    }
   ],
   "source": [
    "qc=QuantumCircuit(2) #2개의 큐비트를 가진 양자 회로 만들기\n",
    "qc.x(0) #0번 큐비트에 X 게이트 추가하여 |1> 상태 만들기\n",
    "qc.crz(pi/2,0,1) #0번 큐비트에 control 큐비트로 지정하며 1번 큐비트를 target 큐비트로 지정하는 CRZ 게이트를 추가하기\n",
    "qc.draw(output=\"mpl\") #양자 회로 시각화"
   ]
  },
  {
   "cell_type": "code",
   "execution_count": 59,
   "metadata": {},
   "outputs": [
    {
     "data": {
      "text/latex": [
       "$$(\\frac{\\sqrt{2}}{2} - \\frac{\\sqrt{2} i}{2}) |01\\rangle$$"
      ],
      "text/plain": [
       "<IPython.core.display.Latex object>"
      ]
     },
     "execution_count": 59,
     "metadata": {},
     "output_type": "execute_result"
    }
   ],
   "source": [
    "state22 = execute(qc, StatevectorSimulator()).result().get_statevector() # 시뮬레이션에 양자회로를 넣어 실행시키기\n",
    "state22.draw(output=\"latex\") #시뮬레이션 결과를 latex 형식으로 출력하기"
   ]
  },
  {
   "cell_type": "markdown",
   "metadata": {},
   "source": [
    "###### $|1\\rangle$상태의 control 큐비트에 CRZ-게이트 [Q-sphere]\n",
    "\n",
    "![crz-gate2](./figure/q-sphere_crz-gate2.png)\n",
    "\n",
    "#### 수학적 표현\n",
    "\n",
    "$$ CRZ(\\theta)_{q_0,q_1} = I \\otimes |0\\rangle\\langle0| + RZ(\\theta) \\otimes |1\\rangle\\langle1| = \\begin{pmatrix} 1 & 0 & 0 & 0 \\\\\n",
    "0 & e^{-i\\frac{\\lambda}{2}} & 0 & 0 \\\\ 0 & 0 & 1 & 0 \\\\ 0 & 0 & 0 & e^{i\\frac{\\lambda}{2}} \\end{pmatrix} $$\n",
    "\n",
    "$$ CRZ(\\theta)_{q_1,q_0} = |0\\rangle\\langle0| \\otimes I + |1\\rangle\\langle1| \\otimes RZ(\\theta)  = \\begin{pmatrix} 1 & 0 & 0 & 0 \\\\\n",
    "0 & 1 & 0 & 0 \\\\ 0 & 0 & e^{-i\\frac{\\lambda}{2}} & 0 \\\\ 0 & 0 & 0 & e^{i\\frac{\\lambda}{2}} \\end{pmatrix} $$\n",
    "\n",
    "\n",
    "## 3-큐비트 게이트\n",
    "### Toffoli Gate - CCX 게이트\n",
    "\n",
    "Toffoli 게이트는 $ccx(control_0, control_1, target)$과 같은 문법으로 사용이 되며 control_0과 control_1 큐비트의 상태에 따라 target 큐비트의 결과값에 영향을 주는 조건부 게이트입니다. control_0 큐비트와 control_1 큐비트의 상태가 모두 $|1\\rangle$이면 target 큐비트에 $X$ 게이트를 실행합니다. 하지만 그 외의 모든 경우에는 target 큐비트에 어떠한 변화도 가하지 않습니다.\n",
    "\n",
    "#### control_0과 control_1 큐비트의 상태가 모두 $|0\\rangle$일때 $Toffoli$ 게이트의 작동"
   ]
  },
  {
   "cell_type": "code",
   "execution_count": 60,
   "metadata": {},
   "outputs": [
    {
     "data": {
      "image/png": "[encoded data removed]",
      "text/plain": [
       "<Figure size 203.885x284.278 with 1 Axes>"
      ]
     },
     "execution_count": 60,
     "metadata": {},
     "output_type": "execute_result"
    }
   ],
   "source": [
    "qc=QuantumCircuit(3) #3개의 큐비트를 가진 양자 회로 만들기\n",
    "qc.ccx(0,1,2) #0번 큐비트에 control_0 큐비트로, 1번 큐비트에 control_1 큐비트로 지정하며 2번 큐비트를 target 큐비트로 지정하는 CCX 게이트를 추가하기\n",
    "qc.draw(output=\"mpl\") #양자 회로 시각화"
   ]
  },
  {
   "cell_type": "code",
   "execution_count": 61,
   "metadata": {},
   "outputs": [
    {
     "name": "stdout",
     "output_type": "stream",
     "text": [
      "Operator([[1.+0.j, 0.+0.j, 0.+0.j, 0.+0.j, 0.+0.j, 0.+0.j, 0.+0.j, 0.+0.j],\n",
      "          [0.+0.j, 1.+0.j, 0.+0.j, 0.+0.j, 0.+0.j, 0.+0.j, 0.+0.j, 0.+0.j],\n",
      "          [0.+0.j, 0.+0.j, 1.+0.j, 0.+0.j, 0.+0.j, 0.+0.j, 0.+0.j, 0.+0.j],\n",
      "          [0.+0.j, 0.+0.j, 0.+0.j, 0.+0.j, 0.+0.j, 0.+0.j, 0.+0.j, 1.+0.j],\n",
      "          [0.+0.j, 0.+0.j, 0.+0.j, 0.+0.j, 1.+0.j, 0.+0.j, 0.+0.j, 0.+0.j],\n",
      "          [0.+0.j, 0.+0.j, 0.+0.j, 0.+0.j, 0.+0.j, 1.+0.j, 0.+0.j, 0.+0.j],\n",
      "          [0.+0.j, 0.+0.j, 0.+0.j, 0.+0.j, 0.+0.j, 0.+0.j, 1.+0.j, 0.+0.j],\n",
      "          [0.+0.j, 0.+0.j, 0.+0.j, 1.+0.j, 0.+0.j, 0.+0.j, 0.+0.j, 0.+0.j]],\n",
      "         input_dims=(2, 2, 2), output_dims=(2, 2, 2))\n"
     ]
    }
   ],
   "source": [
    "backend = Aer.get_backend('unitary_simulator') #unitary_simulator를 사용하여 시뮬레이션하기\n",
    "\n",
    "job = execute(qc, backend) #시뮬레이션 실행\n",
    "result = job.result() #시뮬레이션 결과 가져오기 \n",
    "print(result.get_unitary(qc, decimals=3)) #단일 행렬 출력하기"
   ]
  },
  {
   "cell_type": "code",
   "execution_count": 62,
   "metadata": {},
   "outputs": [
    {
     "data": {
      "text/latex": [
       "$$ |000\\rangle$$"
      ],
      "text/plain": [
       "<IPython.core.display.Latex object>"
      ]
     },
     "execution_count": 62,
     "metadata": {},
     "output_type": "execute_result"
    }
   ],
   "source": [
    "state23 = execute(qc, StatevectorSimulator()).result().get_statevector() # 시뮬레이션에 양자회로를 넣어 실행시키기\n",
    "state23.draw(output=\"latex\") #시뮬레이션 결과를 latex 형식으로 출력하기"
   ]
  },
  {
   "cell_type": "markdown",
   "metadata": {},
   "source": [
    "###### $|0\\rangle$상태의 control_0과 control_1 큐비트에 CRZ-게이트 [Q-sphere]\n",
    "\n",
    "![ccx-gate](./figure/q-sphere_ccx-gate.png)\n",
    "\n",
    "#### control_0 큐비트와 control_1 큐비트의 상태가 $|1\\rangle$일때 $CRZ$ 게이트의 작동"
   ]
  },
  {
   "cell_type": "code",
   "execution_count": 63,
   "metadata": {},
   "outputs": [
    {
     "data": {
      "image/png": "[encoded data removed]",
      "text/plain": [
       "<Figure size 287.496x284.278 with 1 Axes>"
      ]
     },
     "execution_count": 63,
     "metadata": {},
     "output_type": "execute_result"
    }
   ],
   "source": [
    "qc=QuantumCircuit(3) #3개의 큐비트를 가진 양자 회로 만들기\n",
    "qc.x(0) #0번 큐비트에 X 게이트 추가하여 |1> 상태 만들기\n",
    "qc.x(1) #1번 큐비트에 X 게이트 추가하여 |1> 상태 만들기\n",
    "qc.ccx(0,1,2) #0번 큐비트에 control_0 큐비트로, 1번 큐비트에 control_1 큐비트로 지정하며 2번 큐비트를 target 큐비트로 지정하는 CCX 게이트를 추가하기\n",
    "qc.draw(output=\"mpl\") #양자 회로 시각화"
   ]
  },
  {
   "cell_type": "code",
   "execution_count": 64,
   "metadata": {},
   "outputs": [
    {
     "data": {
      "text/latex": [
       "$$ |111\\rangle$$"
      ],
      "text/plain": [
       "<IPython.core.display.Latex object>"
      ]
     },
     "execution_count": 64,
     "metadata": {},
     "output_type": "execute_result"
    }
   ],
   "source": [
    "state24 = execute(qc, StatevectorSimulator()).result().get_statevector() # 시뮬레이션에 양자회로를 넣어 실행시키기\n",
    "state24.draw(output=\"latex\") #시뮬레이션 결과를 latex 형식으로 출력하기"
   ]
  },
  {
   "cell_type": "markdown",
   "metadata": {},
   "source": [
    "###### $|1\\rangle$상태의 control_0과 control_1 큐비트에 CRZ-게이트 [Q-sphere]\n",
    "\n",
    "![ccx-gate2](./figure/q-sphere_ccx-gate2.png)\n",
    "\n",
    "#### 그 외 경우의 $CCX$ 게이트의 작동\n"
   ]
  },
  {
   "cell_type": "code",
   "execution_count": 65,
   "metadata": {},
   "outputs": [
    {
     "data": {
      "image/png": "[encoded data removed]",
      "text/plain": [
       "<Figure size 287.496x284.278 with 1 Axes>"
      ]
     },
     "execution_count": 65,
     "metadata": {},
     "output_type": "execute_result"
    }
   ],
   "source": [
    "qc=QuantumCircuit(3) #3개의 큐비트를 가진 양자 회로 만들기\n",
    "qc.x(0) #0번 큐비트에 X 게이트 추가하여 |1> 상태 만들기\n",
    "qc.ccx(0,1,2) #0번 큐비트에 control_0 큐비트로, 1번 큐비트에 control_1 큐비트로 지정하며 2번 큐비트를 target 큐비트로 지정하는 CCX 게이트를 추가하기\n",
    "qc.draw(output=\"mpl\") #양자 회로 시각화"
   ]
  },
  {
   "cell_type": "code",
   "execution_count": 66,
   "metadata": {},
   "outputs": [
    {
     "data": {
      "text/latex": [
       "$$ |001\\rangle$$"
      ],
      "text/plain": [
       "<IPython.core.display.Latex object>"
      ]
     },
     "execution_count": 66,
     "metadata": {},
     "output_type": "execute_result"
    }
   ],
   "source": [
    "state25 = execute(qc, StatevectorSimulator()).result().get_statevector() # 시뮬레이션에 양자회로를 넣어 실행시키기\n",
    "state25.draw(output=\"latex\") #시뮬레이션 결과를 latex 형식으로 출력하기"
   ]
  },
  {
   "cell_type": "markdown",
   "metadata": {},
   "source": [
    "![ccx-gate3](./figure/q-sphere_ccx-gate3.png)\n"
   ]
  },
  {
   "cell_type": "code",
   "execution_count": 67,
   "metadata": {},
   "outputs": [
    {
     "data": {
      "image/png": "[encoded data removed]",
      "text/plain": [
       "<Figure size 287.496x284.278 with 1 Axes>"
      ]
     },
     "execution_count": 67,
     "metadata": {},
     "output_type": "execute_result"
    }
   ],
   "source": [
    "qc=QuantumCircuit(3) #3개의 큐비트를 가진 양자 회로 만들기\n",
    "qc.x(1) #1번 큐비트에 X 게이트 추가하여 |1> 상태 만들기\n",
    "qc.ccx(0,1,2) #0번 큐비트에 control_0 큐비트로, 1번 큐비트에 control_1 큐비트로 지정하며 2번 큐비트를 target 큐비트로 지정하는 CCX 게이트를 추가하기\n",
    "qc.draw(output=\"mpl\") #양자 회로 시각화"
   ]
  },
  {
   "cell_type": "code",
   "execution_count": 68,
   "metadata": {},
   "outputs": [
    {
     "data": {
      "text/latex": [
       "$$ |010\\rangle$$"
      ],
      "text/plain": [
       "<IPython.core.display.Latex object>"
      ]
     },
     "execution_count": 68,
     "metadata": {},
     "output_type": "execute_result"
    }
   ],
   "source": [
    "state26 = execute(qc, StatevectorSimulator()).result().get_statevector() # 시뮬레이션에 양자회로를 넣어 실행시키기\n",
    "state26.draw(output=\"latex\") #시뮬레이션 결과를 latex 형식으로 출력하기"
   ]
  },
  {
   "cell_type": "markdown",
   "metadata": {},
   "source": [
    "![ccx-gate4](./figure/q-sphere_ccx-gate4.png)\n",
    "\n",
    "#### 수학적 표현\n",
    "\n",
    "$$ CCX_{q_0,q_1,q_2} = I \\otimes I \\otimes |0\\rangle\\langle0| + CX \\otimes |1\\rangle\\langle1| = \\begin{pmatrix}\n",
    "1 & 0 & 0 & 0 & 0 & 0 & 0 & 0 \\\\\n",
    "0 & 1 & 0 & 0 & 0 & 0 & 0 & 0 \\\\\n",
    "0 & 0 & 1 & 0 & 0 & 0 & 0 & 0 \\\\\n",
    "0 & 0 & 0 & 0 & 0 & 0 & 0 & 1 \\\\\n",
    "0 & 0 & 0 & 0 & 1 & 0 & 0 & 0 \\\\\n",
    "0 & 0 & 0 & 0 & 0 & 1 & 0 & 0 \\\\\n",
    "0 & 0 & 0 & 0 & 0 & 0 & 1 & 0 \\\\\n",
    "0 & 0 & 0 & 1 & 0 & 0 & 0 & 0\n",
    "\\end{pmatrix} $$\n",
    "\n",
    "$$ CCX_{q_2,q_1,q_0} = |0\\rangle\\langle0|  \\otimes I \\otimes I + |1\\rangle\\langle1| \\otimes CX  = \\begin{pmatrix}\n",
    "1 & 0 & 0 & 0 & 0 & 0 & 0 & 0 \\\\\n",
    "0 & 1 & 0 & 0 & 0 & 0 & 0 & 0 \\\\\n",
    "0 & 0 & 1 & 0 & 0 & 0 & 0 & 0 \\\\\n",
    "0 & 0 & 0 & 1 & 0 & 0 & 0 & 0 \\\\\n",
    "0 & 0 & 0 & 0 & 1 & 0 & 0 & 0 \\\\\n",
    "0 & 0 & 0 & 0 & 0 & 1 & 0 & 0 \\\\\n",
    "0 & 0 & 0 & 0 & 0 & 0 & 0 & 1 \\\\\n",
    "0 & 0 & 0 & 0 & 0 & 0 & 1 & 0\n",
    "\\end{pmatrix} $$"
   ]
  },
  {
   "cell_type": "code",
   "execution_count": 69,
   "metadata": {},
   "outputs": [
    {
     "data": {
      "text/html": [
       "<h3>Version Information</h3><table><tr><th>Qiskit Software</th><th>Version</th></tr><tr><td><code>qiskit-terra</code></td><td>0.22.3</td></tr><tr><td><code>qiskit-aer</code></td><td>0.11.2</td></tr><tr><td><code>qiskit-ibmq-provider</code></td><td>0.19.2</td></tr><tr><td><code>qiskit</code></td><td>0.39.4</td></tr><tr><td><code>qiskit-nature</code></td><td>0.5.2</td></tr><tr><td><code>qiskit-machine-learning</code></td><td>0.6.1</td></tr><tr><th>System information</th></tr><tr><td>Python version</td><td>3.10.11</td></tr><tr><td>Python compiler</td><td>GCC 11.2.0</td></tr><tr><td>Python build</td><td>main, Apr 20 2023 19:02:41</td></tr><tr><td>OS</td><td>Linux</td></tr><tr><td>CPUs</td><td>24</td></tr><tr><td>Memory (Gb)</td><td>188.51050186157227</td></tr><tr><td colspan='2'>Thu Oct 05 22:34:58 2023 KST</td></tr></table>"
      ],
      "text/plain": [
       "<IPython.core.display.HTML object>"
      ]
     },
     "metadata": {},
     "output_type": "display_data"
    }
   ],
   "source": [
    "import qiskit.tools.jupyter\n",
    "%qiskit_version_table #qiskit 버전 표시하기"
   ]
  },
  {
   "cell_type": "code",
   "execution_count": null,
   "metadata": {},
   "outputs": [],
   "source": []
  }
 ],
 "metadata": {
  "kernelspec": {
   "display_name": "Python 3 (ipykernel)",
   "language": "python",
   "name": "python3"
  },
  "language_info": {
   "codemirror_mode": {
    "name": "ipython",
    "version": 3
   },
   "file_extension": ".py",
   "mimetype": "text/x-python",
   "name": "python",
   "nbconvert_exporter": "python",
   "pygments_lexer": "ipython3",
   "version": "3.10.11"
  },
  "vscode": {
   "interpreter": {
    "hash": "61e38d38e362baf74507d5f9568815ca017052702bd5356c9e3eea1ad7c412ff"
   }
  }
 },
 "nbformat": 4,
 "nbformat_minor": 4
}
