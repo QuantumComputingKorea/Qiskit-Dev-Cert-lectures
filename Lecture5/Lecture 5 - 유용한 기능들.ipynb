{
 "cells": [
  {
   "cell_type": "markdown",
   "metadata": {},
   "source": [
    "# Lecture 5 - 유용한 기능들\n",
    "\n",
    "양자 회로를 시뮬레이터나 실제 양자 장치에 실행 시키기 위해 Qiskit은 여러가지의 유용한 기능들을 제공합니다.\n",
    "\n",
    "1. IBMQ 백엔드 정보\n",
    "2. Qiskit 도구\n",
    "\n",
    "## 1. IBMQ 백엔드 정보\n",
    "\n",
    "백엔드의 정보에 대해 [Lecture 3 - 양자 회로 실행과 백엔드](https://github.com/QuantumComputingKorea/Qiskit-Dev-Cert-lectures/blob/main/Lecture3/Lecture%203%20-%20%EC%96%91%EC%9E%90%20%ED%9A%8C%EB%A1%9C%20%EC%8B%A4%ED%96%89%EA%B3%BC%20%EB%B0%B1%EC%97%94%EB%93%9C.ipynb)에서 어느정도 다뤘지만 이번 강의에서 내용을 추가를 하여 다시 한번 다뤄보겠습니다."
   ]
  },
  {
   "cell_type": "code",
   "execution_count": 1,
   "metadata": {},
   "outputs": [],
   "source": [
    "from qiskit import IBMQ\n",
    "from qiskit.providers.ibmq import least_busy"
   ]
  },
  {
   "cell_type": "code",
   "execution_count": 2,
   "metadata": {},
   "outputs": [
    {
     "data": {
      "text/plain": [
       "<AccountProvider for IBMQ(hub='ibm-q', group='open', project='main')>"
      ]
     },
     "execution_count": 2,
     "metadata": {},
     "output_type": "execute_result"
    }
   ],
   "source": [
    "IBMQ.load_account()  # 계정을 로드합니다."
   ]
  },
  {
   "cell_type": "markdown",
   "metadata": {},
   "source": [
    "## `IBMQ.providers()`\n",
    "\n",
    "접근 가능한 백엔드 제공자들을 출력합니다."
   ]
  },
  {
   "cell_type": "code",
   "execution_count": 3,
   "metadata": {},
   "outputs": [
    {
     "data": {
      "text/plain": [
       "[<AccountProvider for IBMQ(hub='ibm-q', group='open', project='main')>,\n",
       " <AccountProvider for IBMQ(hub='ibm-q-internal', group='deployed', project='default')>]"
      ]
     },
     "execution_count": 3,
     "metadata": {},
     "output_type": "execute_result"
    }
   ],
   "source": [
    "IBMQ.providers()  # 사용 가능한 백엔드 제공자를 확인합니다."
   ]
  },
  {
   "cell_type": "markdown",
   "metadata": {},
   "source": [
    "## 계정에서 접근 가능한 백엔드 목록\n",
    "\n",
    "접근 가능한 백엔드의 목록을 출력하기 위해 두가지의 방법이 있습니다.\n",
    "1. `backend()`\n",
    "2. `get_provider()`"
   ]
  },
  {
   "cell_type": "code",
   "execution_count": 4,
   "metadata": {},
   "outputs": [
    {
     "name": "stderr",
     "output_type": "stream",
     "text": [
      "ibmqfactory.load_account:WARNING:2023-10-05 21:50:49,314: Credentials are already in use. The existing account in the session will be replaced.\n"
     ]
    }
   ],
   "source": [
    "ibmq_account = IBMQ.load_account() # 계정을 로드하여 ibmq_account로 지정합니다."
   ]
  },
  {
   "cell_type": "markdown",
   "metadata": {},
   "source": [
    "***\n",
    "`backends()`를 사용한 목록 출력\n",
    "***"
   ]
  },
  {
   "cell_type": "code",
   "execution_count": 5,
   "metadata": {},
   "outputs": [
    {
     "data": {
      "text/plain": [
       "[<IBMQSimulator('ibmq_qasm_simulator') from IBMQ(hub='ibm-q', group='open', project='main')>,\n",
       " <IBMQSimulator('simulator_statevector') from IBMQ(hub='ibm-q', group='open', project='main')>,\n",
       " <IBMQSimulator('simulator_mps') from IBMQ(hub='ibm-q', group='open', project='main')>,\n",
       " <IBMQSimulator('simulator_extended_stabilizer') from IBMQ(hub='ibm-q', group='open', project='main')>,\n",
       " <IBMQSimulator('simulator_stabilizer') from IBMQ(hub='ibm-q', group='open', project='main')>,\n",
       " <IBMQBackend('ibm_lagos') from IBMQ(hub='ibm-q', group='open', project='main')>,\n",
       " <IBMQBackend('ibm_nairobi') from IBMQ(hub='ibm-q', group='open', project='main')>,\n",
       " <IBMQBackend('ibm_perth') from IBMQ(hub='ibm-q', group='open', project='main')>,\n",
       " <IBMQBackend('ibm_brisbane') from IBMQ(hub='ibm-q', group='open', project='main')>]"
      ]
     },
     "execution_count": 5,
     "metadata": {},
     "output_type": "execute_result"
    }
   ],
   "source": [
    "backends = ibmq_account.backends() # 사용 가능한 백엔드를 확인합니다.\n",
    "backends"
   ]
  },
  {
   "cell_type": "markdown",
   "metadata": {},
   "source": [
    "***\n",
    "`get_provider()`를 사용한 목록 출력\n",
    "***"
   ]
  },
  {
   "cell_type": "code",
   "execution_count": 6,
   "metadata": {},
   "outputs": [
    {
     "data": {
      "text/plain": [
       "[<IBMQSimulator('ibmq_qasm_simulator') from IBMQ(hub='ibm-q', group='open', project='main')>,\n",
       " <IBMQSimulator('simulator_statevector') from IBMQ(hub='ibm-q', group='open', project='main')>,\n",
       " <IBMQSimulator('simulator_mps') from IBMQ(hub='ibm-q', group='open', project='main')>,\n",
       " <IBMQSimulator('simulator_extended_stabilizer') from IBMQ(hub='ibm-q', group='open', project='main')>,\n",
       " <IBMQSimulator('simulator_stabilizer') from IBMQ(hub='ibm-q', group='open', project='main')>,\n",
       " <IBMQBackend('ibm_lagos') from IBMQ(hub='ibm-q', group='open', project='main')>,\n",
       " <IBMQBackend('ibm_nairobi') from IBMQ(hub='ibm-q', group='open', project='main')>,\n",
       " <IBMQBackend('ibm_perth') from IBMQ(hub='ibm-q', group='open', project='main')>,\n",
       " <IBMQBackend('ibm_brisbane') from IBMQ(hub='ibm-q', group='open', project='main')>]"
      ]
     },
     "execution_count": 6,
     "metadata": {},
     "output_type": "execute_result"
    }
   ],
   "source": [
    "ibmq_provider = IBMQ.get_provider(hub='ibm-q') # ibm-q 허브를 가져옵니다.\n",
    "ibmq_provider.backends() # 허브에 있는 백엔드를 확인합니다."
   ]
  },
  {
   "cell_type": "markdown",
   "metadata": {},
   "source": [
    "이러한 목록 중에서 원하는 백엔드를 선택하여 양자 회로를 실행하고 싶으면 `get_backend`를 사용하거나 `backend.BACKENDNAME`을 사용할 수 있습니다."
   ]
  },
  {
   "cell_type": "code",
   "execution_count": 7,
   "metadata": {},
   "outputs": [
    {
     "data": {
      "text/plain": [
       "<IBMQBackend('ibm_perth') from IBMQ(hub='ibm-q', group='open', project='main')>"
      ]
     },
     "execution_count": 7,
     "metadata": {},
     "output_type": "execute_result"
    }
   ],
   "source": [
    "backend = ibmq_account.get_backend('ibm_perth') # 백엔드를 지정합니다.\n",
    "backend"
   ]
  },
  {
   "cell_type": "code",
   "execution_count": 8,
   "metadata": {},
   "outputs": [
    {
     "data": {
      "text/plain": [
       "<IBMQBackend('ibm_perth') from IBMQ(hub='ibm-q', group='open', project='main')>"
      ]
     },
     "execution_count": 8,
     "metadata": {},
     "output_type": "execute_result"
    }
   ],
   "source": [
    "backend = ibmq_account.backend.ibm_perth # 백엔드를 지정합니다.\n",
    "backend"
   ]
  },
  {
   "cell_type": "markdown",
   "metadata": {},
   "source": [
    "이러한 백엔드의 목록중 가장 대기열이 적은 백엔드를 찾기 위해서는 `least_bussy`를 사용할 수 있습니다."
   ]
  },
  {
   "cell_type": "code",
   "execution_count": 9,
   "metadata": {},
   "outputs": [
    {
     "data": {
      "text/plain": [
       "<IBMQSimulator('ibmq_qasm_simulator') from IBMQ(hub='ibm-q', group='open', project='main')>"
      ]
     },
     "execution_count": 9,
     "metadata": {},
     "output_type": "execute_result"
    }
   ],
   "source": [
    "least_busy(ibmq_provider.backends())"
   ]
  },
  {
   "cell_type": "markdown",
   "metadata": {},
   "source": [
    "백엔드 목록중에 원하는 조건부를 넣어 백엔드를 필터링을 하여 찾을 수 있습니다. 이에 대한 자세한 내용은 지난 강의인 [Lecture 3 - 양자 회로 실행과 백엔드](https://github.com/QuantumComputingKorea/Qiskit-Dev-Cert-lectures/blob/main/Lecture3/Lecture%203%20-%20%EC%96%91%EC%9E%90%20%ED%9A%8C%EB%A1%9C%20%EC%8B%A4%ED%96%89%EA%B3%BC%20%EB%B0%B1%EC%97%94%EB%93%9C.ipynb)에서 자세히 알 수 있습니다.\n",
    "\n",
    "## 2. Qiskit 도구\n",
    "\n",
    "Qiskit에서는 양자 장치나 시뮬레이선에 보낸 장치를 모니터링 하거나 백엔드를 모니터링 할 수 있는 도구를 재공하고 있습니다. 대표적인 도구들은 아래와 같습니다.\n",
    "1. `backend_overview()`\n",
    "2. `backend_monitor()`\n",
    "3. `job_monitor`\n",
    "\n",
    "### `backend_overview()`\n",
    "\n",
    "IBMQ 백엔드의 접근 가능한 전체적인 정보를 출력합니다."
   ]
  },
  {
   "cell_type": "code",
   "execution_count": 10,
   "metadata": {},
   "outputs": [
    {
     "data": {
      "text/plain": [
       "<IBMQBackend('ibm_perth') from IBMQ(hub='ibm-q', group='open', project='main')>"
      ]
     },
     "execution_count": 10,
     "metadata": {},
     "output_type": "execute_result"
    }
   ],
   "source": [
    "least_busy(ibmq_provider.backends(simulator=False, operational=True)) # 시뮬레이터가 아니고 작동 중인 백엔드 중 가장 빠른 백엔드를 가져옵니다.\n",
    "backend"
   ]
  },
  {
   "cell_type": "code",
   "execution_count": 11,
   "metadata": {},
   "outputs": [],
   "source": [
    "from qiskit.tools import backend_overview # backend_overview를 불러옵니다."
   ]
  },
  {
   "cell_type": "code",
   "execution_count": 12,
   "metadata": {},
   "outputs": [
    {
     "name": "stdout",
     "output_type": "stream",
     "text": [
      "ibm_cusco                    ibm_nazca                    ibm_sherbrooke\n",
      "---------                    ---------                    --------------\n",
      "Num. Qubits:  127            Num. Qubits:  127            Num. Qubits:  127\n",
      "Pending Jobs: 20             Pending Jobs: 192            Pending Jobs: 147\n",
      "Least busy:   False          Least busy:   False          Least busy:   False\n",
      "Operational:  True           Operational:  True           Operational:  True\n",
      "Avg. T1:      131.5          Avg. T1:      197.7          Avg. T1:      262.8\n",
      "Avg. T2:      109.2          Avg. T2:      128.6          Avg. T2:      166.4\n",
      "\n",
      "\n",
      "\n",
      "ibm_auckland                 ibm_cairo                    ibm_algiers\n",
      "------------                 ---------                    -----------\n",
      "Num. Qubits:  27             Num. Qubits:  27             Num. Qubits:  27\n",
      "Pending Jobs: 1              Pending Jobs: 134            Pending Jobs: 1\n",
      "Least busy:   False          Least busy:   False          Least busy:   False\n",
      "Operational:  True           Operational:  True           Operational:  True\n",
      "Avg. T1:      130.2          Avg. T1:      99.9           Avg. T1:      117.7\n",
      "Avg. T2:      110.9          Avg. T2:      103.3          Avg. T2:      113.9\n",
      "\n",
      "\n",
      "\n",
      "ibm_hanoi                    ibmq_manila                  ibmq_jakarta\n",
      "---------                    -----------                  ------------\n",
      "Num. Qubits:  27             Num. Qubits:  5              Num. Qubits:  7\n",
      "Pending Jobs: 4              Pending Jobs: 0              Pending Jobs: 0\n",
      "Least busy:   False          Least busy:   True           Least busy:   False\n",
      "Operational:  True           Operational:  True           Operational:  True\n",
      "Avg. T1:      150.1          Avg. T1:      150.3          Avg. T1:      120.5\n",
      "Avg. T2:      129.4          Avg. T2:      61.7           Avg. T2:      46.4\n",
      "\n",
      "\n",
      "\n",
      "ibmq_guadalupe               ibmq_mumbai                  ibmq_kolkata\n",
      "--------------               -----------                  ------------\n",
      "Num. Qubits:  16             Num. Qubits:  27             Num. Qubits:  27\n",
      "Pending Jobs: 50             Pending Jobs: 838            Pending Jobs: 3\n",
      "Least busy:   False          Least busy:   False          Least busy:   False\n",
      "Operational:  True           Operational:  True           Operational:  True\n",
      "Avg. T1:      96.9           Avg. T1:      107.3          Avg. T1:      103.2\n",
      "Avg. T2:      105.3          Avg. T2:      149.9          Avg. T2:      83.0\n",
      "\n",
      "\n",
      "\n",
      "ibm_brisbane                 ibm_perth                    ibm_nairobi\n",
      "------------                 ---------                    -----------\n",
      "Num. Qubits:  127            Num. Qubits:  7              Num. Qubits:  7\n",
      "Pending Jobs: 1762           Pending Jobs: 45             Pending Jobs: 49\n",
      "Least busy:   False          Least busy:   False          Least busy:   False\n",
      "Operational:  True           Operational:  True           Operational:  True\n",
      "Avg. T1:      228.0          Avg. T1:      162.1          Avg. T1:      101.1\n",
      "Avg. T2:      139.3          Avg. T2:      123.8          Avg. T2:      71.0\n",
      "\n",
      "\n",
      "\n",
      "ibm_lagos\n",
      "---------\n",
      "Num. Qubits:  7\n",
      "Pending Jobs: 36\n",
      "Least busy:   False\n",
      "Operational:  True\n",
      "Avg. T1:      107.3\n",
      "Avg. T2:      79.0\n",
      "\n",
      "\n",
      "\n"
     ]
    }
   ],
   "source": [
    "backend_overview() # 백엔드의 전체적인 정보를 확인합니다."
   ]
  },
  {
   "cell_type": "markdown",
   "metadata": {},
   "source": [
    "### `backend_monitor()`\n",
    "\n",
    "하나의 IBMQ 백엔드의 정보를 출력합니다."
   ]
  },
  {
   "cell_type": "code",
   "execution_count": 13,
   "metadata": {},
   "outputs": [],
   "source": [
    "from qiskit.tools import backend_monitor # backend_monitor을 불러옵니다."
   ]
  },
  {
   "cell_type": "code",
   "execution_count": 14,
   "metadata": {},
   "outputs": [
    {
     "name": "stdout",
     "output_type": "stream",
     "text": [
      "ibm_perth\n",
      "=========\n",
      "Configuration\n",
      "-------------\n",
      "    n_qubits: 7\n",
      "    operational: True\n",
      "    status_msg: active\n",
      "    pending_jobs: 45\n",
      "    backend_version: 1.2.8\n",
      "    basis_gates: ['id', 'rz', 'sx', 'x', 'cx', 'reset']\n",
      "    local: False\n",
      "    simulator: False\n",
      "    qubit_channel_mapping: [['d0', 'm0', 'u1', 'u0'], ['u3', 'u2', 'u4', 'u5', 'd1', 'u1', 'm1', 'u0'], ['m2', 'u2', 'u4', 'd2'], ['u8', 'u3', 'd3', 'u5', 'u6', 'm3'], ['u7', 'm4', 'u9', 'd4'], ['u8', 'm5', 'u11', 'u7', 'u10', 'u9', 'd5', 'u6'], ['m6', 'u11', 'u10', 'd6']]\n",
      "    parametric_pulses: ['gaussian', 'gaussian_square', 'gaussian_square_drag', 'drag', 'constant']\n",
      "    conditional: False\n",
      "    pulse_num_channels: 9\n",
      "    memory: True\n",
      "    credits_required: True\n",
      "    clops: 2891\n",
      "    n_registers: 1\n",
      "    dt: 0.2222222222222222\n",
      "    supported_features: ['qasm3', 'qobj']\n",
      "    u_channel_lo: [[{'q': 1, 'scale': (1+0j)}], [{'q': 0, 'scale': (1+0j)}], [{'q': 2, 'scale': (1+0j)}], [{'q': 3, 'scale': (1+0j)}], [{'q': 1, 'scale': (1+0j)}], [{'q': 1, 'scale': (1+0j)}], [{'q': 5, 'scale': (1+0j)}], [{'q': 5, 'scale': (1+0j)}], [{'q': 3, 'scale': (1+0j)}], [{'q': 4, 'scale': (1+0j)}], [{'q': 6, 'scale': (1+0j)}], [{'q': 5, 'scale': (1+0j)}]]\n",
      "    acquisition_latency: []\n",
      "    rep_times: [1000.0]\n",
      "    qubit_lo_range: [[4.657569219407799, 5.657569219407799], [4.533544151874919, 5.533544151874919], [4.362649208175578, 5.362649208175578], [4.62510114932273, 5.62510114932273], [4.659218627820878, 5.659218627820878], [4.478597439918475, 5.478597439918475], [4.656638670876405, 5.656638670876405]]\n",
      "    pulse_num_qubits: 3\n",
      "    conditional_latency: []\n",
      "    meas_map: [[0, 1, 2, 3, 4, 5, 6]]\n",
      "    coupling_map: [[0, 1], [1, 0], [1, 2], [1, 3], [2, 1], [3, 1], [3, 5], [4, 5], [5, 3], [5, 4], [5, 6], [6, 5]]\n",
      "    url: None\n",
      "    n_uchannels: 12\n",
      "    channels: {'acquire0': {'operates': {'qubits': [0]}, 'purpose': 'acquire', 'type': 'acquire'}, 'acquire1': {'operates': {'qubits': [1]}, 'purpose': 'acquire', 'type': 'acquire'}, 'acquire2': {'operates': {'qubits': [2]}, 'purpose': 'acquire', 'type': 'acquire'}, 'acquire3': {'operates': {'qubits': [3]}, 'purpose': 'acquire', 'type': 'acquire'}, 'acquire4': {'operates': {'qubits': [4]}, 'purpose': 'acquire', 'type': 'acquire'}, 'acquire5': {'operates': {'qubits': [5]}, 'purpose': 'acquire', 'type': 'acquire'}, 'acquire6': {'operates': {'qubits': [6]}, 'purpose': 'acquire', 'type': 'acquire'}, 'd0': {'operates': {'qubits': [0]}, 'purpose': 'drive', 'type': 'drive'}, 'd1': {'operates': {'qubits': [1]}, 'purpose': 'drive', 'type': 'drive'}, 'd2': {'operates': {'qubits': [2]}, 'purpose': 'drive', 'type': 'drive'}, 'd3': {'operates': {'qubits': [3]}, 'purpose': 'drive', 'type': 'drive'}, 'd4': {'operates': {'qubits': [4]}, 'purpose': 'drive', 'type': 'drive'}, 'd5': {'operates': {'qubits': [5]}, 'purpose': 'drive', 'type': 'drive'}, 'd6': {'operates': {'qubits': [6]}, 'purpose': 'drive', 'type': 'drive'}, 'm0': {'operates': {'qubits': [0]}, 'purpose': 'measure', 'type': 'measure'}, 'm1': {'operates': {'qubits': [1]}, 'purpose': 'measure', 'type': 'measure'}, 'm2': {'operates': {'qubits': [2]}, 'purpose': 'measure', 'type': 'measure'}, 'm3': {'operates': {'qubits': [3]}, 'purpose': 'measure', 'type': 'measure'}, 'm4': {'operates': {'qubits': [4]}, 'purpose': 'measure', 'type': 'measure'}, 'm5': {'operates': {'qubits': [5]}, 'purpose': 'measure', 'type': 'measure'}, 'm6': {'operates': {'qubits': [6]}, 'purpose': 'measure', 'type': 'measure'}, 'u0': {'operates': {'qubits': [0, 1]}, 'purpose': 'cross-resonance', 'type': 'control'}, 'u1': {'operates': {'qubits': [1, 0]}, 'purpose': 'cross-resonance', 'type': 'control'}, 'u10': {'operates': {'qubits': [5, 6]}, 'purpose': 'cross-resonance', 'type': 'control'}, 'u11': {'operates': {'qubits': [6, 5]}, 'purpose': 'cross-resonance', 'type': 'control'}, 'u2': {'operates': {'qubits': [1, 2]}, 'purpose': 'cross-resonance', 'type': 'control'}, 'u3': {'operates': {'qubits': [1, 3]}, 'purpose': 'cross-resonance', 'type': 'control'}, 'u4': {'operates': {'qubits': [2, 1]}, 'purpose': 'cross-resonance', 'type': 'control'}, 'u5': {'operates': {'qubits': [3, 1]}, 'purpose': 'cross-resonance', 'type': 'control'}, 'u6': {'operates': {'qubits': [3, 5]}, 'purpose': 'cross-resonance', 'type': 'control'}, 'u7': {'operates': {'qubits': [4, 5]}, 'purpose': 'cross-resonance', 'type': 'control'}, 'u8': {'operates': {'qubits': [5, 3]}, 'purpose': 'cross-resonance', 'type': 'control'}, 'u9': {'operates': {'qubits': [5, 4]}, 'purpose': 'cross-resonance', 'type': 'control'}}\n",
      "    hamiltonian: {'description': 'Qubits are modeled as Duffing oscillators. In this case, the system includes higher energy states, i.e. not just |0> and |1>. The Pauli operators are generalized via the following set of transformations:\\n\\n$(\\\\mathbb{I}-\\\\sigma_{i}^z)/2 \\\\rightarrow O_i \\\\equiv b^\\\\dagger_{i} b_{i}$,\\n\\n$\\\\sigma_{+} \\\\rightarrow b^\\\\dagger$,\\n\\n$\\\\sigma_{-} \\\\rightarrow b$,\\n\\n$\\\\sigma_{i}^X \\\\rightarrow b^\\\\dagger_{i} + b_{i}$.\\n\\nQubits are coupled through resonator buses. The provided Hamiltonian has been projected into the zero excitation subspace of the resonator buses leading to an effective qubit-qubit flip-flop interaction. The qubit resonance frequencies in the Hamiltonian are the cavity dressed frequencies and not exactly what is returned by the backend defaults, which also includes the dressing due to the qubit-qubit interactions.\\n\\nQuantities are returned in angular frequencies, with units 2*pi*GHz.\\n\\nWARNING: Currently not all system Hamiltonian information is available to the public, missing values have been replaced with 0.\\n', 'h_latex': '\\\\begin{align} \\\\mathcal{H}/\\\\hbar = & \\\\sum_{i=0}^{6}\\\\left(\\\\frac{\\\\omega_{q,i}}{2}(\\\\mathbb{I}-\\\\sigma_i^{z})+\\\\frac{\\\\Delta_{i}}{2}(O_i^2-O_i)+\\\\Omega_{d,i}D_i(t)\\\\sigma_i^{X}\\\\right) \\\\\\\\ & + J_{0,1}(\\\\sigma_{0}^{+}\\\\sigma_{1}^{-}+\\\\sigma_{0}^{-}\\\\sigma_{1}^{+}) + J_{1,2}(\\\\sigma_{1}^{+}\\\\sigma_{2}^{-}+\\\\sigma_{1}^{-}\\\\sigma_{2}^{+}) + J_{4,5}(\\\\sigma_{4}^{+}\\\\sigma_{5}^{-}+\\\\sigma_{4}^{-}\\\\sigma_{5}^{+}) + J_{5,6}(\\\\sigma_{5}^{+}\\\\sigma_{6}^{-}+\\\\sigma_{5}^{-}\\\\sigma_{6}^{+}) \\\\\\\\ & + J_{1,3}(\\\\sigma_{1}^{+}\\\\sigma_{3}^{-}+\\\\sigma_{1}^{-}\\\\sigma_{3}^{+}) + J_{3,5}(\\\\sigma_{3}^{+}\\\\sigma_{5}^{-}+\\\\sigma_{3}^{-}\\\\sigma_{5}^{+}) \\\\\\\\ & + \\\\Omega_{d,0}(U_{0}^{(0,1)}(t))\\\\sigma_{0}^{X} + \\\\Omega_{d,1}(U_{1}^{(1,0)}(t)+U_{3}^{(1,3)}(t)+U_{2}^{(1,2)}(t))\\\\sigma_{1}^{X} \\\\\\\\ & + \\\\Omega_{d,2}(U_{4}^{(2,1)}(t))\\\\sigma_{2}^{X} + \\\\Omega_{d,3}(U_{5}^{(3,1)}(t)+U_{6}^{(3,5)}(t))\\\\sigma_{3}^{X} \\\\\\\\ & + \\\\Omega_{d,4}(U_{7}^{(4,5)}(t))\\\\sigma_{4}^{X} + \\\\Omega_{d,5}(U_{8}^{(5,3)}(t)+U_{10}^{(5,6)}(t)+U_{9}^{(5,4)}(t))\\\\sigma_{5}^{X} \\\\\\\\ & + \\\\Omega_{d,6}(U_{11}^{(6,5)}(t))\\\\sigma_{6}^{X} \\\\\\\\ \\\\end{align}', 'h_str': ['_SUM[i,0,6,wq{i}/2*(I{i}-Z{i})]', '_SUM[i,0,6,delta{i}/2*O{i}*O{i}]', '_SUM[i,0,6,-delta{i}/2*O{i}]', '_SUM[i,0,6,omegad{i}*X{i}||D{i}]', 'jq0q1*Sp0*Sm1', 'jq0q1*Sm0*Sp1', 'jq1q2*Sp1*Sm2', 'jq1q2*Sm1*Sp2', 'jq4q5*Sp4*Sm5', 'jq4q5*Sm4*Sp5', 'jq5q6*Sp5*Sm6', 'jq5q6*Sm5*Sp6', 'jq1q3*Sp1*Sm3', 'jq1q3*Sm1*Sp3', 'jq3q5*Sp3*Sm5', 'jq3q5*Sm3*Sp5', 'omegad1*X0||U0', 'omegad0*X1||U1', 'omegad3*X1||U3', 'omegad2*X1||U2', 'omegad1*X2||U4', 'omegad1*X3||U5', 'omegad5*X3||U6', 'omegad5*X4||U7', 'omegad3*X5||U8', 'omegad6*X5||U10', 'omegad4*X5||U9', 'omegad5*X6||U11'], 'osc': {}, 'qub': {'0': 3, '1': 3, '2': 3, '3': 3, '4': 3, '5': 3, '6': 3}, 'vars': {'delta0': -2.145861830262288, 'delta1': -2.1637323700183813, 'delta2': -2.1819772957619166, 'delta3': -2.1390595390914435, 'delta4': -2.094603727927117, 'delta5': -2.1741205452449366, 'delta6': -2.1391380255788, 'jq0q1': 0.0002985095697687125, 'jq1q2': 0.009124660333764169, 'jq1q3': 0.00034451952437060125, 'jq3q5': 0.013805491337781944, 'jq4q5': 0.019157791111464737, 'jq5q6': 0.01878865253626694, 'omegad0': 1.61626036309941, 'omegad1': 1.2180948497479913, 'omegad2': 1.7292341064806582, 'omegad3': 1.6022893491623127, 'omegad4': 1.5376813419423188, 'omegad5': 1.5048712701013085, 'omegad6': 1.4101535743270661, 'wq0': 32.40596314014477, 'wq1': 31.62669065810023, 'wq2': 30.552926058777242, 'wq3': 32.20196023923379, 'wq4': 32.41632667885137, 'wq5': 31.28145028485766, 'wq6': 32.4001163312847}}\n",
      "    meas_lo_range: [[6.663115502, 7.663115502], [6.6164476510000005, 7.6164476510000005], [6.84928468, 7.84928468], [6.719581694, 7.719581694], [6.637153809000001, 7.637153809000001], [6.78180398, 7.78180398], [6.6522457170000004, 7.6522457170000004]]\n",
      "    rep_delay_range: [0.0, 500.0]\n",
      "    discriminators: ['quadratic_discriminator', 'linear_discriminator', 'hw_qmfk']\n",
      "    input_allowed: ['job', 'runtime', 'qasm3', 'qasm3']\n",
      "    online_date: 2021-07-22 04:00:00+00:00\n",
      "    allow_q_object: True\n",
      "    sample_name: family: Falcon, revision: 5.11, segment: H\n",
      "    meas_levels: [1, 2]\n",
      "    timing_constraints: {'acquire_alignment': 16, 'granularity': 16, 'min_length': 64, 'pulse_alignment': 16}\n",
      "    dtm: 0.2222222222222222\n",
      "    allow_object_storage: True\n",
      "    default_rep_delay: 250.0\n",
      "    max_experiments: 100\n",
      "    live_data: False\n",
      "    open_pulse: False\n",
      "    meas_kernels: ['hw_qmfk']\n",
      "    max_shots: 20000\n",
      "    supported_instructions: ['cx', 'id', 'delay', 'measure', 'reset', 'rz', 'sx', 'x', 'if_else', 'for_loop', 'switch_case']\n",
      "    dynamic_reprate_enabled: True\n",
      "    processor_type: {'family': 'Falcon', 'revision': '5.11', 'segment': 'H'}\n",
      "    measure_esp_enabled: True\n",
      "    backend_name: ibm_perth\n",
      "    quantum_volume: 32\n",
      "    uchannels_enabled: True\n",
      "    multi_meas_enabled: True\n",
      "    description: 7 qubit device\n",
      "    parallel_compilation: True\n",
      "\n",
      "Qubits [Name / Freq / T1 / T2 / RZ err / SX err / X err / Readout err]\n",
      "----------------------------------------------------------------------\n",
      "    Q0 / 5.15757 GHz / 152.62346 us / 79.45070 us / 0.00000 / 0.00080 / 0.00080 / 0.02970 \n",
      "    Q1 / 5.03354 GHz / 147.36309 us / 52.45450 us / 0.00000 / 0.00028 / 0.00028 / 0.02710 \n",
      "    Q2 / 4.86265 GHz / 126.47232 us / 61.23056 us / 0.00000 / 0.00057 / 0.00057 / 0.02550 \n",
      "    Q3 / 5.12510 GHz / 149.13431 us / 173.00103 us / 0.00000 / 0.00062 / 0.00062 / 0.01990 \n",
      "    Q4 / 5.15922 GHz / 213.00070 us / 132.25933 us / 0.00000 / 0.00035 / 0.00035 / 0.02850 \n",
      "    Q5 / 4.97860 GHz / 152.44741 us / 135.44473 us / 0.00000 / 0.00055 / 0.00055 / 0.02680 \n",
      "    Q6 / 5.15664 GHz / 193.36404 us / 232.91894 us / 0.00000 / 0.00025 / 0.00025 / 0.01350 \n",
      "\n",
      "Multi-Qubit Gates [Name / Type / Gate Error]\n",
      "--------------------------------------------\n",
      "    cx6_5 / cx / 0.01530\n",
      "    cx5_6 / cx / 0.01530\n",
      "    cx4_5 / cx / 0.01504\n",
      "    cx5_4 / cx / 0.01504\n",
      "    cx3_5 / cx / 0.01318\n",
      "    cx5_3 / cx / 0.01318\n",
      "    cx3_1 / cx / 0.00655\n",
      "    cx1_3 / cx / 0.00655\n",
      "    cx2_1 / cx / 0.01052\n",
      "    cx1_2 / cx / 0.01052\n",
      "    cx0_1 / cx / 0.00780\n",
      "    cx1_0 / cx / 0.00780\n"
     ]
    }
   ],
   "source": [
    "backend_monitor(backend) # 선택한 백엔드의 상태를 확인합니다."
   ]
  },
  {
   "cell_type": "markdown",
   "metadata": {},
   "source": [
    "### `job_monitor()`\n",
    "\n",
    "백엔드에 보내진 양자 회로의 작업 상태를 모니터링 할 수 있게 해주는 도구 입니다."
   ]
  },
  {
   "cell_type": "code",
   "execution_count": 15,
   "metadata": {},
   "outputs": [],
   "source": [
    "from qiskit.tools import job_monitor # job_monitor를 불러옵니다.\n",
    "from qiskit import *"
   ]
  },
  {
   "cell_type": "code",
   "execution_count": 16,
   "metadata": {},
   "outputs": [
    {
     "data": {
      "image/png": "[encoded data removed]",
      "text/plain": [
       "<Figure size 621.941x367.889 with 1 Axes>"
      ]
     },
     "execution_count": 16,
     "metadata": {},
     "output_type": "execute_result"
    }
   ],
   "source": [
    "qc = QuantumCircuit(3,3) # 3개의 큐비트와 3개의 고전 비트를 가진 회로를 생성합니다.\n",
    "qc.h(0) # 0번 큐비트에 하다마드 게이트를 적용합니다.\n",
    "qc.cx(0,1) # 0번 큐비트와 1번 큐비트에 CNOT 게이트를 적용합니다.\n",
    "qc.cx(1,2) # 1번 큐비트와 2번 큐비트에 CNOT 게이트를 적용합니다.\n",
    "qc.measure([0,1,2],[0,1,2]) # 모든 큐비트를 측정합니다.\n",
    "qc.draw(output='mpl') # 회로를 그립니다."
   ]
  },
  {
   "cell_type": "code",
   "execution_count": 18,
   "metadata": {},
   "outputs": [],
   "source": [
    "# job=execute(qc,backend,shots=1024) # 1024번의 샷을 실행합니다.\n",
    "job = backend.retrieve_job('cmf7jc97kkp0008q0j80') # 백엔드에서 작업을 가져옵니다."
   ]
  },
  {
   "cell_type": "code",
   "execution_count": 19,
   "metadata": {},
   "outputs": [
    {
     "name": "stdout",
     "output_type": "stream",
     "text": [
      "Job Status: job has successfully run\n"
     ]
    }
   ],
   "source": [
    "job_monitor(job) # 작업의 진행 상황을 확인합니다."
   ]
  },
  {
   "cell_type": "code",
   "execution_count": 20,
   "metadata": {},
   "outputs": [
    {
     "name": "stdout",
     "output_type": "stream",
     "text": [
      "{'101': 5, '100': 20, '110': 44, '000': 479, '010': 6, '011': 24, '001': 19, '111': 427}\n"
     ]
    }
   ],
   "source": [
    "result=job.result() # 결과를 가져옵니다.\n",
    "counts=result.get_counts() # 결과의 카운트를 가져옵니다.\n",
    "print(counts) # 카운트를 출력합니다."
   ]
  },
  {
   "cell_type": "markdown",
   "metadata": {},
   "source": [
    "보낸 작업도 여러가지의 모듈을 이용하여 정보를 불러올 수 있습니다.\n",
    "1. `job_id`: 작업의 Id를 불러옵니다.\n",
    "2. `backend()`: 작업이 보내진 백엔드의 정보를 불러옵니다.\n",
    "3. `result()`: 작업의 결과를 불러옵니다.\n",
    "4. `status()`: 작업의 상태를 불러옵니다."
   ]
  },
  {
   "cell_type": "code",
   "execution_count": 21,
   "metadata": {},
   "outputs": [
    {
     "data": {
      "text/plain": [
       "'cmf7jc97kkp0008q0j80'"
      ]
     },
     "execution_count": 21,
     "metadata": {},
     "output_type": "execute_result"
    }
   ],
   "source": [
    "job.job_id()"
   ]
  },
  {
   "cell_type": "code",
   "execution_count": 22,
   "metadata": {},
   "outputs": [
    {
     "data": {
      "text/plain": [
       "<IBMQBackend('ibm_perth') from IBMQ(hub='ibm-q', group='open', project='main')>"
      ]
     },
     "execution_count": 22,
     "metadata": {},
     "output_type": "execute_result"
    }
   ],
   "source": [
    "job.backend()"
   ]
  },
  {
   "cell_type": "code",
   "execution_count": 23,
   "metadata": {},
   "outputs": [
    {
     "data": {
      "text/plain": [
       "Result(backend_name='ibm_perth', backend_version='0.0.0', qobj_id='Unknown', job_id='circuit-runner_ckf7v6ih9ipuhtuisntg_d768_0', success=True, results=[ExperimentResult(shots=1024, success=True, meas_level=2, data=ExperimentResultData(counts={'0x5': 5, '0x4': 20, '0x6': 44, '0x0': 479, '0x2': 6, '0x3': 24, '0x1': 19, '0x7': 427}), header=QobjExperimentHeader(clbit_labels=[['c', 0], ['c', 1], ['c', 2]], creg_sizes=[['c', 3]], global_phase=0.7853981633974483, memory_slots=3, metadata={}, n_qubits=7, name='circuit-0', qreg_sizes=[['q', 7]], qubit_labels=[['q', 0], ['q', 1], ['q', 2], ['q', 3], ['q', 4], ['q', 5], ['q', 6]]), status=done, meas_return=avg)], date=2023-10-05 18:24:38.295000+09:00, status=done, status=QobjHeader(backend_name='ibm_perth', backend_version='1.2.8'), execution_id='', time_taken=0.379387802, error=None, client_version={'qiskit': '0.29.1'})"
      ]
     },
     "execution_count": 23,
     "metadata": {},
     "output_type": "execute_result"
    }
   ],
   "source": [
    "job.result()"
   ]
  },
  {
   "cell_type": "code",
   "execution_count": 24,
   "metadata": {},
   "outputs": [
    {
     "data": {
      "text/plain": [
       "<JobStatus.DONE: 'job has successfully run'>"
      ]
     },
     "execution_count": 24,
     "metadata": {},
     "output_type": "execute_result"
    }
   ],
   "source": [
    "job.status()"
   ]
  },
  {
   "cell_type": "code",
   "execution_count": 25,
   "metadata": {},
   "outputs": [
    {
     "name": "stderr",
     "output_type": "stream",
     "text": [
      "/home/quic/anaconda3/envs/qiskit-2x/lib/python3.8/site-packages/qiskit/aqua/__init__.py:86: DeprecationWarning: The package qiskit.aqua is deprecated. It was moved/refactored to qiskit-terra For more information see <https://github.com/Qiskit/qiskit-aqua/blob/main/README.md#migration-guide>\n",
      "  warn_package('aqua', 'qiskit-terra')\n"
     ]
    },
    {
     "data": {
      "text/html": [
       "<h3>Version Information</h3><table><tr><th>Qiskit Software</th><th>Version</th></tr><tr><td><code>qiskit-terra</code></td><td>0.18.2</td></tr><tr><td><code>qiskit-aer</code></td><td>0.8.2</td></tr><tr><td><code>qiskit-ignis</code></td><td>0.6.0</td></tr><tr><td><code>qiskit-ibmq-provider</code></td><td>0.16.0</td></tr><tr><td><code>qiskit-aqua</code></td><td>0.9.5</td></tr><tr><td><code>qiskit</code></td><td>0.29.1</td></tr><tr><th>System information</th></tr><tr><td>Python</td><td>3.8.18 (default, Sep 11 2023, 13:40:15) \n",
       "[GCC 11.2.0]</td></tr><tr><td>OS</td><td>Linux</td></tr><tr><td>CPUs</td><td>24</td></tr><tr><td>Memory (Gb)</td><td>188.51050186157227</td></tr><tr><td colspan='2'>Thu Oct 05 21:53:13 2023 KST</td></tr></table>"
      ],
      "text/plain": [
       "<IPython.core.display.HTML object>"
      ]
     },
     "metadata": {},
     "output_type": "display_data"
    }
   ],
   "source": [
    "import qiskit.tools.jupyter\n",
    "%qiskit_version_table #qiskit 버전 표시하기"
   ]
  },
  {
   "cell_type": "code",
   "execution_count": null,
   "metadata": {},
   "outputs": [],
   "source": []
  }
 ],
 "metadata": {
  "kernelspec": {
   "display_name": "Python 3.10.5 ('qiskit')",
   "language": "python",
   "name": "python3"
  },
  "language_info": {
   "codemirror_mode": {
    "name": "ipython",
    "version": 3
   },
   "file_extension": ".py",
   "mimetype": "text/x-python",
   "name": "python",
   "nbconvert_exporter": "python",
   "pygments_lexer": "ipython3",
   "version": "3.8.18"
  },
  "orig_nbformat": 4,
  "vscode": {
   "interpreter": {
    "hash": "61e38d38e362baf74507d5f9568815ca017052702bd5356c9e3eea1ad7c412ff"
   }
  }
 },
 "nbformat": 4,
 "nbformat_minor": 2
}
